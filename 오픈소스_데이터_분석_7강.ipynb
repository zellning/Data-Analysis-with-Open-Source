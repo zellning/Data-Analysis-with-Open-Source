{
  "nbformat": 4,
  "nbformat_minor": 0,
  "metadata": {
    "colab": {
      "provenance": [],
      "include_colab_link": true
    },
    "kernelspec": {
      "name": "python3",
      "display_name": "Python 3"
    },
    "language_info": {
      "name": "python"
    }
  },
  "cells": [
    {
      "cell_type": "markdown",
      "metadata": {
        "id": "view-in-github",
        "colab_type": "text"
      },
      "source": [
        "<a href=\"https://colab.research.google.com/github/zellning/Data-Analysis-with-Open-Source/blob/main/%EC%98%A4%ED%94%88%EC%86%8C%EC%8A%A4_%EB%8D%B0%EC%9D%B4%ED%84%B0_%EB%B6%84%EC%84%9D_7%EA%B0%95.ipynb\" target=\"_parent\"><img src=\"https://colab.research.google.com/assets/colab-badge.svg\" alt=\"Open In Colab\"/></a>"
      ]
    },
    {
      "cell_type": "markdown",
      "source": [
        "# 오픈소스 기반 데이터 분석 7강 - 데이터 전처리 2\n",
        "chapter4 파일 다운받고 시작"
      ],
      "metadata": {
        "id": "tqffk7GTHWSs"
      }
    },
    {
      "cell_type": "markdown",
      "source": [
        "### 7-1 데이터 결측치 찾기"
      ],
      "metadata": {
        "id": "5DOeakEiHfq1"
      }
    },
    {
      "cell_type": "code",
      "source": [
        "import pandas as pd\n",
        "import numpy as np\n",
        "\n",
        "data = {'이름': ['김철수', '이영희', '박민수', '최지훈', '정소희'],\n",
        "        '나이': [25, 30, np.nan, 22, 35],\n",
        "        '도시': ['서울', None, '인천', '서울', '대전'],\n",
        "        '점수': [90, 85, np.nan, 80, 92]}\n",
        "\n",
        "df = pd.DataFrame(data)\n",
        "\n",
        "## 결측치 여부 확인\n",
        "df.isnull()\n",
        "df.isna()\n",
        "\n",
        "## 열별, 행별 결측치 개수 확인\n",
        "print(df)\n",
        "df.isnull().sum() #sum함수 : 열의 방향으로 데이터를 모아가지고 처리 / 이름몇개, 나이몇개 등\n",
        "df.isnull().sum(axis=1) #sum함수를 행의 방향으로 데이터 모아서 처리하고 싶을 때는 sum(axis=1) / 1이 들어가는 이유는 1이 true이기 때문\n",
        "\n",
        "## 특정 열, 행 결측치 확인\n",
        "df[df.isnull().any(axis=1)] #행별\n",
        "df[df['나이'].isnull()] #열별, 나이가 null이 존재하는 항목에 대한 결측치 확인\n",
        "\n",
        "## 결측치가 아닌 항목 확인\n",
        "df.notnull()\n",
        "\n",
        "## 결측치 비율\n",
        "\"\"\"\n",
        "1 전체데이터 항목 개수 중에 넣을 값이 몇개가 있는가를 구하면된다\n",
        "2 전체 개수는 가로의 크기 곱하기 세로의 크기로 구할 수 있다.\n",
        "3 전체 결측치의 합은 sum을 하게되면 특정 컬럼별로 합계가 구해지게 되고 그걸 다시 합치면\n",
        "  전체 컬럼에서 나타나는 개수의 합이 된다.\n",
        "\"\"\"\n",
        "df.isnull().sum().sum() / (df.shape[0] * df.shape[1]) * 100 #15%에 결측치가 있다는 걸 알 수 있다."
      ],
      "metadata": {
        "id": "tA9rA_leY5Du"
      },
      "execution_count": null,
      "outputs": []
    },
    {
      "cell_type": "markdown",
      "source": [
        "### 7-2 데이터 시각화를 이용한 결측치 찾기\n",
        "매플롤 리브 : 텍스트 형태로 보는것이 아니라 표나, 그림, 도표의 형태로 데이터를 볼 수 있는 도구"
      ],
      "metadata": {
        "id": "UiGS85_HHu7U"
      }
    },
    {
      "cell_type": "code",
      "source": [
        "!sudo apt-get install -y fonts-nanum\n",
        "!sudo fc-cache -fv\n",
        "!rm ~/.cache/matplotlib -rf\n",
        "\n",
        "##매플롤 리브는 코랩에 설치되어 있으나, 한국어를 사용하기 위한 설치 코드이다"
      ],
      "metadata": {
        "id": "TlNVxZS9aQFy"
      },
      "execution_count": null,
      "outputs": []
    },
    {
      "cell_type": "code",
      "source": [
        "import matplotlib.pyplot as plt\n",
        "plt.rc('font', family='NanumBarunGothic')"
      ],
      "metadata": {
        "id": "HJpzkrnjaRjA"
      },
      "execution_count": null,
      "outputs": []
    },
    {
      "cell_type": "code",
      "source": [
        "import numpy as np\n",
        "import pandas as pd\n",
        "\n",
        "### 시각화 라이브러리 임포트\n",
        "import matplotlib.pyplot as plt\n",
        "import seaborn as sns\n",
        "import missingno as msno\n",
        "\n",
        "data = {'이름': ['김철수', '이영희', '박민수', '최지훈', '정소희'],\n",
        "        '나이': [25, 30, np.nan, 22, 35],\n",
        "        '도시': ['서울', None, '인천', '서울', '대전'],\n",
        "        '점수': [90, 85, np.nan, 80, 92]}\n",
        "df = pd.DataFrame(data)\n",
        "\n",
        "### 결측치 히트맵\n",
        "plt.figure(figsize=(8, 6))\n",
        "sns.heatmap(df.isnull(), cbar=False)\n",
        "plt.title(\"결측치 히트맵\")\n",
        "plt.show()\n",
        "\n",
        "### 결측치 매트릭스\n",
        "msno.matrix(df)\n",
        "plt.title(\"결측치 매트릭스\")\n",
        "plt.show()"
      ],
      "metadata": {
        "id": "DWhjSi4wY-P1"
      },
      "execution_count": null,
      "outputs": []
    },
    {
      "cell_type": "markdown",
      "source": [
        "### 7-3 사분위 범위를 통한 이상치 찾기"
      ],
      "metadata": {
        "id": "S7oz6BSMHxf6"
      }
    },
    {
      "cell_type": "code",
      "source": [
        "import pandas as pd\n",
        "import numpy as np\n",
        "\n",
        "점수_데이터 = [72, 68, 75, 282, 64, 31, 78, 69, 88, 92, 22, 84, 61, -90, 130, 66]\n",
        "학번_데이터 = list(range(1001, 1001 + len(점수_데이터)))\n",
        "\n",
        "df = pd.DataFrame({\n",
        "    '학번': 학번_데이터,\n",
        "    '점수': 점수_데이터\n",
        "})\n",
        "\n",
        "### 사분위 범위 경계값 계산\n",
        "q1 = df['점수'].quantile(0.25)\n",
        "q3 = df['점수'].quantile(0.75)\n",
        "iqr = q3 - q1\n",
        "하한값 = q1 - 1.5 * iqr\n",
        "상한값 = q3 + 1.5 * iqr\n",
        "\n",
        "### IQR 통계량 출력\n",
        "print(q1)\n",
        "print(q3)\n",
        "print(iqr)\n",
        "print(하한값)\n",
        "print(상한값)\n",
        "#30이하, 117이상은 잘못된 값이다 라고 이상치 값이 나온다."
      ],
      "metadata": {
        "id": "tNKm91q1ZCWQ"
      },
      "execution_count": null,
      "outputs": []
    },
    {
      "cell_type": "markdown",
      "source": [
        "### 7-4 Z-점수를 통한 이상치 찾기"
      ],
      "metadata": {
        "id": "jcC6kWvsHz7s"
      }
    },
    {
      "cell_type": "code",
      "source": [
        "import pandas as pd\n",
        "import numpy as np\n",
        "\n",
        "점수_데이터 = [72, 68, 75, 282, 64, 31, 78, 69, 88, 92, 22, 84, 61, -90, 130, 66]\n",
        "학번_데이터 = list(range(1001, 1001 + len(점수_데이터)))\n",
        "\n",
        "df = pd.DataFrame({\n",
        "    '학번': 학번_데이터,\n",
        "    '점수': 점수_데이터\n",
        "})\n",
        "\n",
        "### Z-점수 계산\n",
        "점수_평균 = df['점수'].mean()\n",
        "점수_표준편차 = df['점수'].std()\n",
        "df['점수_Z'] = (df['점수'] - 점수_평균) / 점수_표준편차\n",
        "df\n",
        "### 임계값 설정 및 이상치 여부 판단\n",
        "임계값 = 2 #임계값 2는 데이터가 평균에서 2 표준편차(2σ) 이상 떨어져 있는 경우를 이상치로 간주하겠다는 의미\n",
        "df['이상치여부'] = df['점수_Z'].abs() > 임계값\n",
        "df\n",
        "\n",
        "### 이상치 데이터 출력\n",
        "df[df['이상치여부']] #df 이상치 여부 컬럼자체가 boolean값들이기 때문에 boolean인덱싱을 가지고 해당 데이터만 볼 수 있다\n",
        "\n",
        "### 이상치 비율 출력\n",
        "df['이상치여부'].mean() * 100\n",
        "\"\"\"\n",
        "boolean은 컴퓨터 내부적으로 true = 1 / false = 0\n",
        "true가 1이니까, 평균값을 구한다음 *100하면 비율이 나온다.\n",
        "\"\"\""
      ],
      "metadata": {
        "id": "oPs_WaNrZD-4"
      },
      "execution_count": null,
      "outputs": []
    },
    {
      "cell_type": "markdown",
      "source": [
        "### 7-5 평균값 및 선형보간법을 통한 결측치 처리"
      ],
      "metadata": {
        "id": "m8IQakJSH1bY"
      }
    },
    {
      "cell_type": "code",
      "source": [
        "import pandas as pd\n",
        "import numpy as np\n",
        "\n",
        "file_path = \"raw_large_shopping_customer.csv\"\n",
        "df = pd.read_csv(file_path)\n",
        "print(df.isnull().sum()) #raw_large_shopping_customer.csv 안에있는 결측치의 갯수를 보여줌\n",
        "\n",
        "\"\"\"\n",
        "dropna함수사용 : 결측치 값이 포함된 행이나 열을 제거\n",
        "여기서는 결측치가 1개보다 적은 데이터만 남긴다\n",
        "thresh : 인계점 값을 지정\n",
        "shpae[1]은 컬럼의 갯수 즉 컬럼의갯수-1 이 코드 기준으로 5개중에서 4개이상의 값이 채워져 있는것들만 남긴다\n",
        "\"\"\"\n",
        "df_cleaned = df.dropna(thresh=df.shape[1] - 1)\n",
        "\n",
        "### 나이, 소득 평균값 대치 및 결과 출력\n",
        "df_cleaned.loc[:, ['나이', '소득']] = df_cleaned[['나이','소득']].fillna(df_cleaned[['나이','소득']].mean())\n",
        "\n",
        "### 지출, 평균구매횟수 선형보간법 적용\n",
        "df_cleaned.loc[:,['지출', '평균구매횟수']] = df_cleaned[['지출', '평균구매횟수']].interpolate(method='linear')\n",
        "\n",
        "df_cleaned.to_csv(\"cleaned_large_shopping_customer.csv\", index=False, encoding=\"utf-8-sig\")"
      ],
      "metadata": {
        "id": "4j-um7-UZHbs"
      },
      "execution_count": null,
      "outputs": []
    },
    {
      "cell_type": "markdown",
      "source": [
        "### 7-6 DataFrame 값 변경"
      ],
      "metadata": {
        "id": "EYN-PCmnH2gW"
      }
    },
    {
      "cell_type": "code",
      "source": [
        "import pandas as pd\n",
        "\n",
        "data = {'age': [25, 30, None, 22, 35],\n",
        "        'city': ['Seoul', None, 'Incheon', 'Seoul', 'Daejeon'],\n",
        "        'score': [90, 85, None, 80, 92]}\n",
        "df = pd.DataFrame(data)\n",
        "\n",
        "### replace를 이용한 Seoul -> 서울\n",
        "df['city'] = df['city'].replace('Seoul', '서울')\n",
        "\n",
        "\n",
        "### replace를 이용한 None -> 미정, Incheon -> 인천\n",
        "df['city'] = df['city'].replace({None : '미정', 'Incheon' : '인천'})\n",
        "\n",
        "### map을 이용한 값 변경\n",
        "df = pd.DataFrame(data)\n",
        "city_map = {'Seoul': '서울특별시', None: '미정', 'Incheon':'인천광역시', 'Daejeon':'대전광역시'}\n",
        "df['city'] = df['city'].map(city_map)\n",
        "\n",
        "df['age_str'] = df['age'].map(lambda x : f\" {x}살\" if pd.notna(x) else \"알수없음\")\n",
        "\n",
        "### apply 함수를 이용한 값 변경\n",
        "df['age_apply'] = df['age'].apply(lambda x : x*2 if pd.notna(x) else None)\n",
        "print(\"\\napply함수를 이용한 값 변경 : \\n\", df['age_apply'])\n",
        "\n",
        "### apply 함수를 이용한 행단위 값 변경\n",
        "def age_plus_score(row):\n",
        "    age = row['age']  if pd.notna(row['age']) else 0\n",
        "    score = row['score'] if pd.notna(row['score'])else 0\n",
        "    return age + score\n",
        "df['age_plus_score'] = df.apply(age_plus_score, axis = 1)\n",
        "print(\"\\napply 함수를 이용한 행단위 값 변경 : \\n\", df['age_plus_score'])\n",
        "\n",
        "### loc 인덱스를 이용한 값 변경\n",
        "df.loc[df['score']<90, 'score'] = 90 # 90미만인 점수 가져옴 > 그것들 중에 score컬럼만 가져옴 > 해당값을 다시 90으로 설정\n",
        "print(\"\\n점수가 90점 미만인 사람 90점으로 변경 : \\n\", df)\n",
        "\n",
        "### where 함수를 이용한 값 변경 (조건에 붙는것들만 가져옴)\n",
        "df['age_where'] = df['age'].where(df['age']>=30, other = 0)\n",
        "print(\"\\nage가 30이상인 값만 유지하고 나머지를 0으로 변경\\n\", df['age_where'])\n",
        "\n",
        "df\n"
      ],
      "metadata": {
        "id": "hV1s9QVNZMhI"
      },
      "execution_count": null,
      "outputs": []
    },
    {
      "cell_type": "markdown",
      "source": [
        "### 7-7 날짜 데이터 타입 다루기\n"
      ],
      "metadata": {
        "id": "z2yAF4AiIAPq"
      }
    },
    {
      "cell_type": "code",
      "source": [
        "date_str = ['2025-07-01', '2025-08-01', '2025-09-01']\n",
        "df_date = pd.DataFrame({'date_str':date_str})\n",
        "\n",
        "### datetime 타입 변환\n",
        "df_date['date'] = pd.to_datetime(df_date['date_str'])\n",
        "df_date.info()\n",
        "\n",
        "### 날짜 데이터 분리\n",
        "print(df_date['date'].dt.year)\n",
        "print(df_date['date'].dt.month)\n",
        "print(df_date['date'].dt.day)\n",
        "print(df_date['date'].dt.day_name())\n",
        "\n",
        "### 날짜 데이터 포멧 변경\n",
        "df_date['dadte_formatted'] = df_date['date'].dt.strftime('%Y/%m/%d')\n",
        "df_date"
      ],
      "metadata": {
        "id": "xDLixmACZ43a"
      },
      "execution_count": null,
      "outputs": []
    },
    {
      "cell_type": "markdown",
      "source": [
        "## 7-8 실습 시나리오 - 데이터 정제"
      ],
      "metadata": {
        "id": "JN53NexmIDPv"
      }
    },
    {
      "cell_type": "markdown",
      "source": [
        "### [재수행] 6-5 실습 시나리오 - Kaggle을 활용한 데이터 수집 및 측정"
      ],
      "metadata": {
        "id": "KZC--SWJtKRB"
      }
    },
    {
      "cell_type": "markdown",
      "source": [
        "- Kaggle([https://www.kaggle.com](https://www.kaggle.com)) 회원 가입\n",
        "- Kaggle 접근 토큰 생성(API 키)\n"
      ],
      "metadata": {
        "id": "kX0puWUc8aNR"
      }
    },
    {
      "cell_type": "markdown",
      "source": [
        "### Kaggle API 키 업로드\n",
        "실행 후 파일올리기에 kaggle.json 파일 넣기"
      ],
      "metadata": {
        "id": "RtoqM2Mc98fS"
      }
    },
    {
      "cell_type": "code",
      "source": [
        "from google.colab import files\n",
        "files.upload()"
      ],
      "metadata": {
        "id": "OlIwjX8vaAF6"
      },
      "execution_count": null,
      "outputs": []
    },
    {
      "cell_type": "markdown",
      "source": [
        "### Kaggle API 키 사용을 위한 Colab 환경 설정\n",
        "실행하기"
      ],
      "metadata": {
        "id": "V3YAacMY-KAV"
      }
    },
    {
      "cell_type": "code",
      "source": [
        "!mkdir -p ~/.kaggle\n",
        "!cp kaggle.json ~/.kaggle/\n",
        "!chmod 600 ~/.kaggle/kaggle.json"
      ],
      "metadata": {
        "id": "9bknQa2TaDRD"
      },
      "execution_count": null,
      "outputs": []
    },
    {
      "cell_type": "markdown",
      "source": [
        "### Kaggle 데이터셋 다운로드\n",
        "실행하기 > 코랩폴더에 다양한 폴더 생김"
      ],
      "metadata": {
        "id": "Dv2PN16j-ip4"
      }
    },
    {
      "cell_type": "code",
      "source": [
        "!kaggle competitions download -c store-sales-time-series-forecasting\n",
        "!unzip store-sales-time-series-forecasting.zip"
      ],
      "metadata": {
        "id": "nemk0pNOaEvh"
      },
      "execution_count": null,
      "outputs": []
    },
    {
      "cell_type": "markdown",
      "source": [
        "### 데이터 분포 시각화"
      ],
      "metadata": {
        "id": "bTP3SY9ZINsp"
      }
    },
    {
      "cell_type": "code",
      "source": [
        "plt.figure(figsize=(10, 6))\n",
        "sns.histplot(train['sales'], bins=50)\n",
        "plt.title(\"판매량 분포\")\n",
        "plt.xlabel(\"판매량\")\n",
        "plt.ylabel(\"빈도\")\n",
        "plt.xlim(0, 5000)\n",
        "plt.show()\n",
        "\n",
        "store_sales = train.groupby('store_nbr')['sales'].mean().reset_index()\n",
        "plt.figure(figsize=(12, 6))\n",
        "sns.barplot(x='store_nbr', y='sales', data=store_sales)\n",
        "plt.title(\"매장별 평균 판매량\")\n",
        "plt.xlabel(\"매장 번호\")\n",
        "plt.ylabel(\"평균 판매량\")\n",
        "plt.xticks(rotation=90)\n",
        "plt.show()"
      ],
      "metadata": {
        "id": "5k614LMPaS5I"
      },
      "execution_count": null,
      "outputs": []
    },
    {
      "cell_type": "markdown",
      "source": [
        "### 결측치 처리"
      ],
      "metadata": {
        "id": "c5OAhNibIa4u"
      }
    },
    {
      "cell_type": "code",
      "source": [
        "## 판매, 매장, 거래, 원유, 휴일이벤트 데이터 결측치\n",
        "print(train.isnull().sum())\n",
        "print(stores.isnull().sum())\n"
      ],
      "metadata": {
        "id": "oHN3jYRSaU7A",
        "outputId": "0a087171-7966-4af5-ded1-0d7e3fe869ef",
        "colab": {
          "base_uri": "https://localhost:8080/",
          "height": 176
        }
      },
      "execution_count": 6,
      "outputs": [
        {
          "output_type": "error",
          "ename": "NameError",
          "evalue": "name 'train' is not defined",
          "traceback": [
            "\u001b[0;31m---------------------------------------------------------------------------\u001b[0m",
            "\u001b[0;31mNameError\u001b[0m                                 Traceback (most recent call last)",
            "\u001b[0;32m/tmp/ipython-input-3838305588.py\u001b[0m in \u001b[0;36m<cell line: 0>\u001b[0;34m()\u001b[0m\n\u001b[1;32m      1\u001b[0m \u001b[0;31m## 판매, 매장, 거래, 원유, 휴일이벤트 데이터 결측치\u001b[0m\u001b[0;34m\u001b[0m\u001b[0;34m\u001b[0m\u001b[0m\n\u001b[0;32m----> 2\u001b[0;31m \u001b[0mprint\u001b[0m\u001b[0;34m(\u001b[0m\u001b[0mtrain\u001b[0m\u001b[0;34m.\u001b[0m\u001b[0misnull\u001b[0m\u001b[0;34m(\u001b[0m\u001b[0;34m)\u001b[0m\u001b[0;34m.\u001b[0m\u001b[0msum\u001b[0m\u001b[0;34m(\u001b[0m\u001b[0;34m)\u001b[0m\u001b[0;34m)\u001b[0m\u001b[0;34m\u001b[0m\u001b[0;34m\u001b[0m\u001b[0m\n\u001b[0m\u001b[1;32m      3\u001b[0m \u001b[0mprint\u001b[0m\u001b[0;34m(\u001b[0m\u001b[0mstores\u001b[0m\u001b[0;34m.\u001b[0m\u001b[0misnull\u001b[0m\u001b[0;34m(\u001b[0m\u001b[0;34m)\u001b[0m\u001b[0;34m.\u001b[0m\u001b[0msum\u001b[0m\u001b[0;34m(\u001b[0m\u001b[0;34m)\u001b[0m\u001b[0;34m)\u001b[0m\u001b[0;34m\u001b[0m\u001b[0;34m\u001b[0m\u001b[0m\n",
            "\u001b[0;31mNameError\u001b[0m: name 'train' is not defined"
          ]
        }
      ]
    },
    {
      "cell_type": "code",
      "source": [
        "import missingno as msno\n",
        "\n",
        "msno.matrix(oil)\n",
        "plt.title(\"원유 가격 데이터 결측치 분포\")\n",
        "plt.show()\n",
        "\n",
        "oil['date'] = pd.to_datetime(oil['date'])\n",
        "plt.figure(figsize=(12, 6))\n",
        "plt.plot(oil['date'], oil['dcoilwtico'])\n",
        "plt.title(\"시간에 따른 원유 가격 변화\")\n",
        "plt.xlabel(\"날짜\")\n",
        "plt.ylabel(\"원유 가격\")\n",
        "plt.grid(True)\n",
        "plt.show()"
      ],
      "metadata": {
        "id": "a3QQecfbaXA4"
      },
      "execution_count": null,
      "outputs": []
    },
    {
      "cell_type": "code",
      "source": [
        "oil_cleaned = oil.copy()\n",
        "\n",
        "### 선형 보간법 적용한 원유 가격 데이터\n",
        "\n",
        "\n",
        "plt.figure(figsize=(12, 6))\n",
        "plt.plot(oil_cleaned['date'], oil_cleaned['dcoilwtico'], 'b-')\n",
        "plt.title(\"원유 가격 보간 후 데이터\")\n",
        "plt.xlabel(\"날짜\")\n",
        "plt.ylabel(\"원유 가격\")\n",
        "plt.grid(True)\n",
        "plt.show()"
      ],
      "metadata": {
        "id": "IMZPXS4oaZJI"
      },
      "execution_count": null,
      "outputs": []
    },
    {
      "cell_type": "markdown",
      "source": [
        "### 이상치 처리"
      ],
      "metadata": {
        "id": "2Tq1zN9oIkmz"
      }
    },
    {
      "cell_type": "code",
      "source": [
        "### 제품 계열별 판매 데이터 IQR 계산\n",
        "\n",
        "\n",
        "### 상한값 초과 판매량 이상치 분류\n",
        "\n",
        "\n",
        "print(f\"이상치 개수: {total_outliers:,}건\")\n",
        "print(f\"전체 대비 비율: {total_ratio:.2%}\")\n",
        "\n",
        "plt.figure(figsize=(15,6))\n",
        "sns.stripplot(x='family', y='sales', hue=train_enhanced['is_outlier'],\n",
        "              data=train_enhanced, palette={False:'blue', True:'red'})\n",
        "plt.xticks(rotation=90)\n",
        "plt.yscale('log')\n",
        "plt.title('계열별 판매량 분포 (파랑: 정상, 빨강: 이상)')\n",
        "plt.show()"
      ],
      "metadata": {
        "id": "Ms25XeJ0abZE"
      },
      "execution_count": null,
      "outputs": []
    },
    {
      "cell_type": "code",
      "source": [
        "upper_bounds = family_bounds['upper_bound']\n",
        "\n",
        "### 판매량이 상한값 초과 시, 판매량으로 상한값으로 대체\n",
        "train_cleaned  = train.copy()\n",
        "\n",
        "\n",
        "changed_count = (train['sales'] != train_cleaned ['sales']).sum()\n",
        "print(f\"대체된 데이터 수: {changed_count}건\")"
      ],
      "metadata": {
        "id": "SO563dJzadWw"
      },
      "execution_count": null,
      "outputs": []
    },
    {
      "cell_type": "markdown",
      "source": [
        "### 날짜 데이터 처리"
      ],
      "metadata": {
        "id": "vxifBGTYIq4r"
      }
    },
    {
      "cell_type": "code",
      "source": [
        "### 판매, 거래, 휴일 이벤트, 원율 데이터 내 date 컬럼 데이터 datetime 데이터 타입으로 변경\n",
        "\n",
        "\n",
        "\n",
        "train_cleaned['year'] = train_cleaned['date'].dt.year\n",
        "train_cleaned['month'] = train_cleaned['date'].dt.month\n",
        "train_cleaned['day'] = train_cleaned['date'].dt.day\n",
        "train_cleaned['dayofweek'] = train_cleaned['date'].dt.dayofweek\n",
        "### 주말, 월초, 월말 여부 추철\n",
        "\n",
        "\n",
        "print(\"날짜 특성 추출 결과:\")\n",
        "print(train_cleaned[['date', 'year', 'month', 'day', 'dayofweek', 'weekend', 'is_month_start', 'is_month_end']].head())"
      ],
      "metadata": {
        "id": "PoP0LGutafNG"
      },
      "execution_count": null,
      "outputs": []
    },
    {
      "cell_type": "code",
      "source": [
        "## 요일별 평균 판매량을 계산\n",
        "\n",
        "## 요일 출력값 변경\n",
        "\n",
        "plt.figure(figsize=(10, 6))\n",
        "sns.barplot(x='day_name', y='sales', data=day_sales)\n",
        "plt.title(\"요일별 평균 판매량\")\n",
        "plt.xlabel(\"요일\")\n",
        "plt.ylabel(\"평균 판매량\")\n",
        "plt.show()"
      ],
      "metadata": {
        "id": "YoM6Al8eahG_"
      },
      "execution_count": null,
      "outputs": []
    },
    {
      "cell_type": "markdown",
      "source": [
        "### 데이터 통합"
      ],
      "metadata": {
        "id": "q7ik1uccIuUz"
      }
    },
    {
      "cell_type": "code",
      "source": [
        "## 판매, 거래 데이터 통합\n",
        "\n",
        "\n",
        "## 매장 데이터 통합\n",
        "\n",
        "\n",
        "## 원유 데이터 통합\n",
        "\n",
        "\n",
        "print(\"최종 데이터셋 정보:\")\n",
        "print(f\"행 개수: {train_final.shape[0]}, 열 개수: {train_final.shape[1]}\")\n",
        "print(train_final.columns.tolist())\n",
        "print(train_final.head())"
      ],
      "metadata": {
        "id": "nxAInLIwajY6"
      },
      "execution_count": null,
      "outputs": []
    }
  ]
}