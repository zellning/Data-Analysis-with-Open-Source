{
  "nbformat": 4,
  "nbformat_minor": 0,
  "metadata": {
    "colab": {
      "provenance": [],
      "include_colab_link": true
    },
    "kernelspec": {
      "name": "python3",
      "display_name": "Python 3"
    },
    "language_info": {
      "name": "python"
    }
  },
  "cells": [
    {
      "cell_type": "markdown",
      "metadata": {
        "id": "view-in-github",
        "colab_type": "text"
      },
      "source": [
        "<a href=\"https://colab.research.google.com/github/zellning/Data-Analysis-with-Open-Source/blob/main/%EC%98%A4%ED%94%88%EC%86%8C%EC%8A%A4_%EB%8D%B0%EC%9D%B4%ED%84%B0_%EB%B6%84%EC%84%9D_4%EA%B0%95.ipynb\" target=\"_parent\"><img src=\"https://colab.research.google.com/assets/colab-badge.svg\" alt=\"Open In Colab\"/></a>"
      ]
    },
    {
      "cell_type": "markdown",
      "source": [
        "\n",
        "\n",
        "# 오픈소스 기반 데이터 분석 4강 - 데이터 수집\n",
        "chapter3 파일 올리고 실습.\n"
      ],
      "metadata": {
        "id": "DkPKaAsoRq5Q"
      }
    },
    {
      "cell_type": "markdown",
      "source": [
        "## 4-1 CSV 파일 읽기"
      ],
      "metadata": {
        "id": "-I7BVVlnRrB0"
      }
    },
    {
      "cell_type": "code",
      "source": [
        "import pandas as pd\n",
        "\n",
        "## data.csv 파일 읽기\n",
        "df = pd.read_csv('data.csv')\n",
        "\n",
        "#기본옵션 주기 (기본옵션 주지 않아도 결과는 동일하게 나옴)\n",
        "df = pd.read_csv('data.csv', encoding='utf-8', sep=',', header=0,\n",
        "                 index_col=None, skiprows=None, nrows=None)\n",
        "\n",
        "print(df)"
      ],
      "metadata": {
        "id": "2Y2HEiaiRwAI",
        "colab": {
          "base_uri": "https://localhost:8080/"
        },
        "outputId": "51888c5b-941b-4c7e-e468-08df548d526b"
      },
      "execution_count": 12,
      "outputs": [
        {
          "output_type": "stream",
          "name": "stdout",
          "text": [
            "           날짜    체중  골격근량  체지방량\n",
            "0  2025.02.06  64.7  30.0  11.1\n",
            "1  2025.02.04  64.0  29.3  11.6\n"
          ]
        }
      ]
    },
    {
      "cell_type": "markdown",
      "source": [
        "## 4-2 JSON 파일 읽기\n",
        "데이터 같은 경우는 json파일이 거의 표준 포맷.\n",
        "\n"
      ],
      "metadata": {
        "id": "9kHCFaGlRrE0"
      }
    },
    {
      "cell_type": "code",
      "source": [
        "# @title\n",
        "import json\n",
        "import pandas as pd\n",
        "\n",
        "## data.json 파일 출력\n",
        "with open('data.json', mode='r', encoding='utf-8') as f: #mode='r'은 read 이고, as뒤에 f는 파일객체 이름으로 내가 지어주면된다.\n",
        "    data = json.load(f)\n",
        "print(data)\n",
        "\n",
        "## data.json 파일 DataFrame 읽기\n",
        "df = pd.read_json('data.json', orients='records', encoding='utf-8')\n",
        "#json 파일을 기록 할 때 크게 두가지로 나뉨\n",
        "#1.객체를 큰 하나의 리스트에 담아가지고 관리하는 방법(하나의 객체로서 파일을 만듬) 2. 줄별로 다른 객체들을 저장하는 방식이 있음\n",
        "# 1번은 제이슨 포이즈 옵션을 사용 2번은 제이슨 라인즈포맷을 사용\n",
        "\n",
        "\n",
        "print(df)"
      ],
      "metadata": {
        "id": "IO8bsKekR0W_",
        "colab": {
          "base_uri": "https://localhost:8080/"
        },
        "outputId": "fd8d9d9a-4488-4217-ae7d-60f05d4f6ba3"
      },
      "execution_count": 13,
      "outputs": [
        {
          "output_type": "stream",
          "name": "stdout",
          "text": [
            "{'매출데이터': [{'월': '2025-01', '매출액': 1000000, '비용': 700000, '이익': 300000}, {'월': '2025-02', '매출액': 1200000, '비용': 800000, '이익': 400000}, {'월': '2025-03', '매출액': 1500000, '비용': 900000, '이익': 600000}]}\n",
            "           날짜    체중  골격근량  체지방량\n",
            "0  2025.02.06  64.7  30.0  11.1\n",
            "1  2025.02.04  64.0  29.3  11.6\n"
          ]
        }
      ]
    },
    {
      "cell_type": "markdown",
      "source": [
        "## 4-3 텍스트 파일 읽기 및 데이터 추출"
      ],
      "metadata": {
        "id": "uLd_3A_IRrHG"
      }
    },
    {
      "cell_type": "code",
      "source": [
        "import re\n",
        "\n",
        "## 파일(callcenter20250301.log) 오픈 및 읽기\n",
        "with open('callcenter20250301.log', 'r', encoding='utf-8') as f:\n",
        "    content = f.read()\n",
        "\n",
        "## 주민등록번호 패턴 생성\n",
        "pattern = re.compile(r'(\\d{6})-(\\d{7})') #(\\d{6})-(\\d{7}) 그룹 앞자리 뒷자리 괄호로 분리\n",
        "\n",
        "## 주민등록번호 마스킹\n",
        "masked_content = pattern.sub(r'\\1-*******', content) #\\1은 첫번째 그룹을 표현\n",
        "\n",
        "## 마스킹된 파일(callcenter20250301_masked.log) 오픈 및 쓰기\n",
        "with open('callcenter20250301_masked.log', mode='w') as f:\n",
        "    f.write(masked_content)\n",
        "\n",
        "print(\"주민등록번호 마스킹 완료. 'callcenter20250301_masked.log.txt' 파일로 저장되었습니다.\")"
      ],
      "metadata": {
        "id": "60qOf7uxVdAg",
        "colab": {
          "base_uri": "https://localhost:8080/"
        },
        "outputId": "e3faad45-6032-4184-817f-b634ced0acca"
      },
      "execution_count": 17,
      "outputs": [
        {
          "output_type": "stream",
          "name": "stdout",
          "text": [
            "주민등록번호 마스킹 완료. 'callcenter20250301_masked.log.txt' 파일로 저장되었습니다.\n"
          ]
        }
      ]
    },
    {
      "cell_type": "markdown",
      "source": [
        "## 4-4 Open-Meteo의 무료 날씨 API를 통한 특정 지역 온도 조회"
      ],
      "metadata": {
        "id": "eOMufu5SXiAU"
      }
    },
    {
      "cell_type": "code",
      "source": [
        "import requests\n",
        "import json\n",
        "\n",
        "url = \"https://api.open-meteo.com/v1/forecast?=&=&current=temperature_2m\"\n",
        "params = {\n",
        "    \"latitude\": \"37.58638333\", #위도\n",
        "    \"longitude\": \"127.0203333\", #경도\n",
        "    \"current\": \"temperature_2m\" #날씨값\n",
        "}\n",
        "\n",
        "try:\n",
        "    ## URL 및 파라미터 전송\n",
        "    response = requests.get(url, params=params)\n",
        "    response.raise_for_status() #상태값을 판단해서 오류가 있을 때 알려줌\n",
        "\n",
        "    ## JSON 데이터 읽기\n",
        "    data = response.json()\n",
        "\n",
        "    print(\"API 응답:\", data)\n",
        "    print(\"서울시 종로구의 현재 온도는 : {0}{1} 입니다.\".format(data['current']['temperature_2m'], data['current_units']['temperature_2m']))\n",
        "\n",
        "except requests.exceptions.RequestException as e:\n",
        "    print(f\"API 호출 실패: {e}\")\n",
        "except json.JSONDecodeError as e:\n",
        "    print(f\"JSON 파싱 실패: {e}\")"
      ],
      "metadata": {
        "id": "JpmgdsW9V0CY",
        "colab": {
          "base_uri": "https://localhost:8080/"
        },
        "outputId": "2113c667-1cf4-4d4e-ac01-80b00b13bc97"
      },
      "execution_count": 18,
      "outputs": [
        {
          "output_type": "stream",
          "name": "stdout",
          "text": [
            "API 응답: {'latitude': 37.6, 'longitude': 127.0, 'generationtime_ms': 0.020503997802734375, 'utc_offset_seconds': 0, 'timezone': 'GMT', 'timezone_abbreviation': 'GMT', 'elevation': 29.0, 'current_units': {'time': 'iso8601', 'interval': 'seconds', 'temperature_2m': '°C'}, 'current': {'time': '2025-09-26T08:15', 'interval': 900, 'temperature_2m': 24.8}}\n",
            "서울시 종로구의 현재 온도는 : 24.8°C 입니다.\n"
          ]
        }
      ]
    },
    {
      "cell_type": "markdown",
      "source": [
        "## 4-5 Selenium과 lxml을 이용한 웹 스크래핑"
      ],
      "metadata": {
        "id": "RLfPaa1ZiqIC"
      }
    },
    {
      "cell_type": "code",
      "source": [
        "!curl -o google-chrome-stable_current_amd64.deb https://dl.google.com/linux/direct/google-chrome-stable_current_amd64.deb\n",
        "!apt install ./google-chrome-stable_current_amd64.deb -y\n",
        "!pip install selenium webdriver_manager"
      ],
      "metadata": {
        "id": "79dmM7MNk8pB",
        "colab": {
          "base_uri": "https://localhost:8080/"
        },
        "outputId": "8c48b966-18d0-4144-96dd-b041978e86f6"
      },
      "execution_count": 19,
      "outputs": [
        {
          "output_type": "stream",
          "name": "stdout",
          "text": [
            "  % Total    % Received % Xferd  Average Speed   Time    Time     Time  Current\n",
            "                                 Dload  Upload   Total   Spent    Left  Speed\n",
            "100  114M  100  114M    0     0  90.8M      0  0:00:01  0:00:01 --:--:-- 90.8M\n",
            "Reading package lists... Done\n",
            "Building dependency tree... Done\n",
            "Reading state information... Done\n",
            "Note, selecting 'google-chrome-stable' instead of './google-chrome-stable_current_amd64.deb'\n",
            "The following additional packages will be installed:\n",
            "  libvulkan1 mesa-vulkan-drivers\n",
            "The following NEW packages will be installed:\n",
            "  google-chrome-stable libvulkan1 mesa-vulkan-drivers\n",
            "0 upgraded, 3 newly installed, 0 to remove and 35 not upgraded.\n",
            "Need to get 10.9 MB/131 MB of archives.\n",
            "After this operation, 447 MB of additional disk space will be used.\n",
            "Get:1 http://archive.ubuntu.com/ubuntu jammy/main amd64 libvulkan1 amd64 1.3.204.1-2 [128 kB]\n",
            "Get:2 http://archive.ubuntu.com/ubuntu jammy-updates/main amd64 mesa-vulkan-drivers amd64 23.2.1-1ubuntu3.1~22.04.3 [10.7 MB]\n",
            "Get:3 /content/google-chrome-stable_current_amd64.deb google-chrome-stable amd64 140.0.7339.207-1 [120 MB]\n",
            "Fetched 10.9 MB in 1s (19.2 MB/s)\n",
            "Selecting previously unselected package libvulkan1:amd64.\n",
            "(Reading database ... 126441 files and directories currently installed.)\n",
            "Preparing to unpack .../libvulkan1_1.3.204.1-2_amd64.deb ...\n",
            "Unpacking libvulkan1:amd64 (1.3.204.1-2) ...\n",
            "Selecting previously unselected package google-chrome-stable.\n",
            "Preparing to unpack .../google-chrome-stable_current_amd64.deb ...\n",
            "Unpacking google-chrome-stable (140.0.7339.207-1) ...\n",
            "Selecting previously unselected package mesa-vulkan-drivers:amd64.\n",
            "Preparing to unpack .../mesa-vulkan-drivers_23.2.1-1ubuntu3.1~22.04.3_amd64.deb ...\n",
            "Unpacking mesa-vulkan-drivers:amd64 (23.2.1-1ubuntu3.1~22.04.3) ...\n",
            "Setting up libvulkan1:amd64 (1.3.204.1-2) ...\n",
            "Setting up mesa-vulkan-drivers:amd64 (23.2.1-1ubuntu3.1~22.04.3) ...\n",
            "Setting up google-chrome-stable (140.0.7339.207-1) ...\n",
            "update-alternatives: using /usr/bin/google-chrome-stable to provide /usr/bin/x-www-browser (x-www-browser) in auto mode\n",
            "update-alternatives: using /usr/bin/google-chrome-stable to provide /usr/bin/gnome-www-browser (gnome-www-browser) in auto mode\n",
            "update-alternatives: using /usr/bin/google-chrome-stable to provide /usr/bin/google-chrome (google-chrome) in auto mode\n",
            "Processing triggers for man-db (2.10.2-1) ...\n",
            "Processing triggers for mailcap (3.70+nmu1ubuntu1) ...\n",
            "Processing triggers for libc-bin (2.35-0ubuntu3.8) ...\n",
            "/sbin/ldconfig.real: /usr/local/lib/libtbb.so.12 is not a symbolic link\n",
            "\n",
            "/sbin/ldconfig.real: /usr/local/lib/libtbbbind_2_5.so.3 is not a symbolic link\n",
            "\n",
            "/sbin/ldconfig.real: /usr/local/lib/libumf.so.0 is not a symbolic link\n",
            "\n",
            "/sbin/ldconfig.real: /usr/local/lib/libtbbbind.so.3 is not a symbolic link\n",
            "\n",
            "/sbin/ldconfig.real: /usr/local/lib/libur_adapter_opencl.so.0 is not a symbolic link\n",
            "\n",
            "/sbin/ldconfig.real: /usr/local/lib/libtcm.so.1 is not a symbolic link\n",
            "\n",
            "/sbin/ldconfig.real: /usr/local/lib/libtbbmalloc_proxy.so.2 is not a symbolic link\n",
            "\n",
            "/sbin/ldconfig.real: /usr/local/lib/libtcm_debug.so.1 is not a symbolic link\n",
            "\n",
            "/sbin/ldconfig.real: /usr/local/lib/libhwloc.so.15 is not a symbolic link\n",
            "\n",
            "/sbin/ldconfig.real: /usr/local/lib/libur_adapter_level_zero_v2.so.0 is not a symbolic link\n",
            "\n",
            "/sbin/ldconfig.real: /usr/local/lib/libtbbbind_2_0.so.3 is not a symbolic link\n",
            "\n",
            "/sbin/ldconfig.real: /usr/local/lib/libur_loader.so.0 is not a symbolic link\n",
            "\n",
            "/sbin/ldconfig.real: /usr/local/lib/libur_adapter_level_zero.so.0 is not a symbolic link\n",
            "\n",
            "/sbin/ldconfig.real: /usr/local/lib/libtbbmalloc.so.2 is not a symbolic link\n",
            "\n",
            "Collecting selenium\n",
            "  Downloading selenium-4.35.0-py3-none-any.whl.metadata (7.4 kB)\n",
            "Collecting webdriver_manager\n",
            "  Downloading webdriver_manager-4.0.2-py2.py3-none-any.whl.metadata (12 kB)\n",
            "Requirement already satisfied: urllib3<3.0,>=2.5.0 in /usr/local/lib/python3.12/dist-packages (from urllib3[socks]<3.0,>=2.5.0->selenium) (2.5.0)\n",
            "Collecting trio~=0.30.0 (from selenium)\n",
            "  Downloading trio-0.30.0-py3-none-any.whl.metadata (8.5 kB)\n",
            "Collecting trio-websocket~=0.12.2 (from selenium)\n",
            "  Downloading trio_websocket-0.12.2-py3-none-any.whl.metadata (5.1 kB)\n",
            "Requirement already satisfied: certifi>=2025.6.15 in /usr/local/lib/python3.12/dist-packages (from selenium) (2025.8.3)\n",
            "Collecting typing_extensions~=4.14.0 (from selenium)\n",
            "  Downloading typing_extensions-4.14.1-py3-none-any.whl.metadata (3.0 kB)\n",
            "Requirement already satisfied: websocket-client~=1.8.0 in /usr/local/lib/python3.12/dist-packages (from selenium) (1.8.0)\n",
            "Requirement already satisfied: requests in /usr/local/lib/python3.12/dist-packages (from webdriver_manager) (2.32.4)\n",
            "Requirement already satisfied: python-dotenv in /usr/local/lib/python3.12/dist-packages (from webdriver_manager) (1.1.1)\n",
            "Requirement already satisfied: packaging in /usr/local/lib/python3.12/dist-packages (from webdriver_manager) (25.0)\n",
            "Requirement already satisfied: attrs>=23.2.0 in /usr/local/lib/python3.12/dist-packages (from trio~=0.30.0->selenium) (25.3.0)\n",
            "Requirement already satisfied: sortedcontainers in /usr/local/lib/python3.12/dist-packages (from trio~=0.30.0->selenium) (2.4.0)\n",
            "Requirement already satisfied: idna in /usr/local/lib/python3.12/dist-packages (from trio~=0.30.0->selenium) (3.10)\n",
            "Collecting outcome (from trio~=0.30.0->selenium)\n",
            "  Downloading outcome-1.3.0.post0-py2.py3-none-any.whl.metadata (2.6 kB)\n",
            "Requirement already satisfied: sniffio>=1.3.0 in /usr/local/lib/python3.12/dist-packages (from trio~=0.30.0->selenium) (1.3.1)\n",
            "Collecting wsproto>=0.14 (from trio-websocket~=0.12.2->selenium)\n",
            "  Downloading wsproto-1.2.0-py3-none-any.whl.metadata (5.6 kB)\n",
            "Requirement already satisfied: pysocks!=1.5.7,<2.0,>=1.5.6 in /usr/local/lib/python3.12/dist-packages (from urllib3[socks]<3.0,>=2.5.0->selenium) (1.7.1)\n",
            "Requirement already satisfied: charset_normalizer<4,>=2 in /usr/local/lib/python3.12/dist-packages (from requests->webdriver_manager) (3.4.3)\n",
            "Requirement already satisfied: h11<1,>=0.9.0 in /usr/local/lib/python3.12/dist-packages (from wsproto>=0.14->trio-websocket~=0.12.2->selenium) (0.16.0)\n",
            "Downloading selenium-4.35.0-py3-none-any.whl (9.6 MB)\n",
            "\u001b[2K   \u001b[90m━━━━━━━━━━━━━━━━━━━━━━━━━━━━━━━━━━━━━━━━\u001b[0m \u001b[32m9.6/9.6 MB\u001b[0m \u001b[31m71.0 MB/s\u001b[0m eta \u001b[36m0:00:00\u001b[0m\n",
            "\u001b[?25hDownloading webdriver_manager-4.0.2-py2.py3-none-any.whl (27 kB)\n",
            "Downloading trio-0.30.0-py3-none-any.whl (499 kB)\n",
            "\u001b[2K   \u001b[90m━━━━━━━━━━━━━━━━━━━━━━━━━━━━━━━━━━━━━━━━\u001b[0m \u001b[32m499.2/499.2 kB\u001b[0m \u001b[31m34.8 MB/s\u001b[0m eta \u001b[36m0:00:00\u001b[0m\n",
            "\u001b[?25hDownloading trio_websocket-0.12.2-py3-none-any.whl (21 kB)\n",
            "Downloading typing_extensions-4.14.1-py3-none-any.whl (43 kB)\n",
            "\u001b[2K   \u001b[90m━━━━━━━━━━━━━━━━━━━━━━━━━━━━━━━━━━━━━━━━\u001b[0m \u001b[32m43.9/43.9 kB\u001b[0m \u001b[31m3.1 MB/s\u001b[0m eta \u001b[36m0:00:00\u001b[0m\n",
            "\u001b[?25hDownloading outcome-1.3.0.post0-py2.py3-none-any.whl (10 kB)\n",
            "Downloading wsproto-1.2.0-py3-none-any.whl (24 kB)\n",
            "Installing collected packages: wsproto, typing_extensions, outcome, webdriver_manager, trio, trio-websocket, selenium\n",
            "  Attempting uninstall: typing_extensions\n",
            "    Found existing installation: typing_extensions 4.15.0\n",
            "    Uninstalling typing_extensions-4.15.0:\n",
            "      Successfully uninstalled typing_extensions-4.15.0\n",
            "Successfully installed outcome-1.3.0.post0 selenium-4.35.0 trio-0.30.0 trio-websocket-0.12.2 typing_extensions-4.14.1 webdriver_manager-4.0.2 wsproto-1.2.0\n"
          ]
        }
      ]
    },
    {
      "cell_type": "code",
      "source": [
        "from selenium import webdriver\n",
        "from selenium.webdriver.chrome.service import Service as ChromeService\n",
        "from webdriver_manager.chrome import ChromeDriverManager\n",
        "from selenium.webdriver.common.by import By\n",
        "from lxml import html\n",
        "import time\n",
        "\n",
        "chrome_options = webdriver.ChromeOptions()\n",
        "chrome_options.add_argument('--headless')               # 브라우저 창 없이 실행 //여기만 알면됨\n",
        "chrome_options.add_argument('--no-sandbox')             # 보안모드 비활성화 (Colab 필수)\n",
        "chrome_options.add_argument('--disable-dev-shm-usage')  # 메모리 부족 방지 (Colab 필수)\n",
        "chrome_options.add_argument('--window-size=1920x1080')  # 창 크기 설정(가상)\n",
        "chrome_options.add_argument('--disable-gpu')            # GPU 가속 비활성화 (일부 환경 안정성)\n",
        "chrome_options.binary_location = \"/usr/bin/google-chrome-stable\"  # Colab용 크롬 경로 지정\n",
        "\n",
        "## 드라이버 실행\n",
        "driver = webdriver.Chrome(options=chrome_options)\n",
        "\n",
        "## 사이트 접속\n",
        "url = 'https://github.com/jaehwachung/Data-Analysis-with-Open-Source'\n",
        "driver.get(url)\n",
        "\n",
        "## 사이트 접속 대기\n",
        "time.sleep(2)\n",
        "\n",
        "## 페이지 제목 출력\n",
        "page_source = driver.page_source\n",
        "tree = html.fromstring(page_source)\n",
        "\n",
        "title_text = tree.xpath('//title/text()')\n",
        "print(title_text)\n",
        "\n",
        "## 드라이버 종료\n",
        "driver.quit()"
      ],
      "metadata": {
        "id": "cRC8x3_iW0im",
        "colab": {
          "base_uri": "https://localhost:8080/"
        },
        "outputId": "6e135982-ad8f-488a-936d-8103c84ec5ea"
      },
      "execution_count": 29,
      "outputs": [
        {
          "output_type": "stream",
          "name": "stdout",
          "text": [
            "['GitHub - jaehwachung/Data-Analysis-with-Open-Source: Data Analysis with Open Source']\n"
          ]
        }
      ]
    },
    {
      "cell_type": "markdown",
      "source": [
        "\n",
        "# 실습 시나리오"
      ],
      "metadata": {
        "id": "Bu6OMZyGirOq"
      }
    },
    {
      "cell_type": "markdown",
      "source": [
        "## 공공데이터 포털 가입 및 데이터 신청\n",
        "\n",
        "- [https://www.data.go.kr](https://www.data.go.kr)\n",
        "- 한국환경공단 에어코리아 대기오염정보 데이터 신청"
      ],
      "metadata": {
        "id": "nsuqRN9RkZlW"
      }
    },
    {
      "cell_type": "code",
      "source": [
        "import requests\n",
        "\n",
        "## 데이터 수집 url 및 api key 설정\n",
        "url = 'http://apis.data.go.kr/B552584/ArpltnInforInqireSvc/getCtprvnRltmMesureDnsty'\n",
        "api_key = '공공데이터포털>마이페이지>개인api넣기'\n",
        "\n",
        "params = {\n",
        "    'serviceKey': api_key,\n",
        "    'returnType': 'json',\n",
        "    'numOfRows': '100',\n",
        "    'pageNo': '1',\n",
        "    'sidoName': '서울',\n",
        "    'ver': '1.0'\n",
        "}\n",
        "\n",
        "## 데이터 수집\n",
        "response = requests.get(url, params=params)\n",
        "\n",
        "## 호출 성공/실패 출력\n",
        "print(response.json())\n"
      ],
      "metadata": {
        "id": "7yCozmQeXJcO",
        "colab": {
          "base_uri": "https://localhost:8080/"
        },
        "outputId": "33d88aca-e361-4936-c7cd-76332277512b"
      },
      "execution_count": 32,
      "outputs": [
        {
          "output_type": "stream",
          "name": "stdout",
          "text": [
            "{'response': {'body': {'totalCount': 40, 'items': [{'so2Grade': '1', 'coFlag': None, 'khaiValue': '77', 'so2Value': '0.002', 'coValue': '0.4', 'pm25Flag': None, 'pm10Flag': None, 'o3Grade': '2', 'pm10Value': '28', 'khaiGrade': '2', 'pm25Value': '19', 'sidoName': '서울', 'no2Flag': None, 'no2Grade': '1', 'o3Flag': None, 'pm25Grade': '2', 'so2Flag': None, 'dataTime': '2025-09-26 18:00', 'coGrade': '1', 'no2Value': '0.019', 'stationName': '강남구', 'pm10Grade': '1', 'o3Value': '0.061'}, {'so2Grade': '1', 'coFlag': None, 'khaiValue': '89', 'so2Value': '0.002', 'coValue': '0.4', 'pm25Flag': None, 'pm10Flag': None, 'o3Grade': '2', 'pm10Value': '42', 'khaiGrade': '2', 'pm25Value': '24', 'sidoName': '서울', 'no2Flag': None, 'no2Grade': '1', 'o3Flag': None, 'pm25Grade': '2', 'so2Flag': None, 'dataTime': '2025-09-26 18:00', 'coGrade': '1', 'no2Value': '0.025', 'stationName': '서초구', 'pm10Grade': '2', 'o3Value': '0.077'}, {'so2Grade': '1', 'coFlag': None, 'khaiValue': '90', 'so2Value': '0.003', 'coValue': '0.6', 'pm25Flag': None, 'pm10Flag': None, 'o3Grade': '2', 'pm10Value': '43', 'khaiGrade': '2', 'pm25Value': '17', 'sidoName': '서울', 'no2Flag': None, 'no2Grade': '1', 'o3Flag': None, 'pm25Grade': '2', 'so2Flag': None, 'dataTime': '2025-09-26 18:00', 'coGrade': '1', 'no2Value': '0.022', 'stationName': '도산대로', 'pm10Grade': '2', 'o3Value': '0.077'}, {'so2Grade': '1', 'coFlag': None, 'khaiValue': '68', 'so2Value': '0.002', 'coValue': '0.5', 'pm25Flag': None, 'pm10Flag': None, 'o3Grade': '2', 'pm10Value': '27', 'khaiGrade': '2', 'pm25Value': '12', 'sidoName': '서울', 'no2Flag': None, 'no2Grade': '2', 'o3Flag': None, 'pm25Grade': '1', 'so2Flag': None, 'dataTime': '2025-09-26 18:00', 'coGrade': '1', 'no2Value': '0.041', 'stationName': '강남대로', 'pm10Grade': '1', 'o3Value': '0.033'}, {'so2Grade': '1', 'coFlag': None, 'khaiValue': '82', 'so2Value': '0.002', 'coValue': '0.4', 'pm25Flag': None, 'pm10Flag': None, 'o3Grade': '2', 'pm10Value': '26', 'khaiGrade': '2', 'pm25Value': '14', 'sidoName': '서울', 'no2Flag': None, 'no2Grade': '1', 'o3Flag': None, 'pm25Grade': '2', 'so2Flag': None, 'dataTime': '2025-09-26 18:00', 'coGrade': '1', 'no2Value': '0.016', 'stationName': '송파구', 'pm10Grade': '1', 'o3Value': '0.068'}, {'so2Grade': '1', 'coFlag': None, 'khaiValue': '75', 'so2Value': '0.003', 'coValue': '0.5', 'pm25Flag': None, 'pm10Flag': None, 'o3Grade': '2', 'pm10Value': '27', 'khaiGrade': '2', 'pm25Value': '15', 'sidoName': '서울', 'no2Flag': None, 'no2Grade': '1', 'o3Flag': None, 'pm25Grade': '1', 'so2Flag': None, 'dataTime': '2025-09-26 18:00', 'coGrade': '1', 'no2Value': '0.011', 'stationName': '강동구', 'pm10Grade': '1', 'o3Value': '0.060'}, {'so2Grade': '1', 'coFlag': None, 'khaiValue': '-', 'so2Value': '0.003', 'coValue': '0.5', 'pm25Flag': None, 'pm10Flag': None, 'o3Grade': '2', 'pm10Value': '38', 'khaiGrade': None, 'pm25Value': '20', 'sidoName': '서울', 'no2Flag': None, 'no2Grade': '2', 'o3Flag': None, 'pm25Grade': None, 'so2Flag': None, 'dataTime': '2025-09-26 18:00', 'coGrade': '1', 'no2Value': '0.036', 'stationName': '천호대로', 'pm10Grade': None, 'o3Value': '0.040'}, {'so2Grade': '1', 'coFlag': None, 'khaiValue': '76', 'so2Value': '0.003', 'coValue': '0.4', 'pm25Flag': None, 'pm10Flag': None, 'o3Grade': '2', 'pm10Value': '39', 'khaiGrade': '2', 'pm25Value': '26', 'sidoName': '서울', 'no2Flag': None, 'no2Grade': '1', 'o3Flag': None, 'pm25Grade': '2', 'so2Flag': None, 'dataTime': '2025-09-26 18:00', 'coGrade': '1', 'no2Value': '0.023', 'stationName': '금천구', 'pm10Grade': '2', 'o3Value': '0.060'}, {'so2Grade': '1', 'coFlag': None, 'khaiValue': '65', 'so2Value': '0.003', 'coValue': '0.5', 'pm25Flag': None, 'pm10Flag': None, 'o3Grade': '2', 'pm10Value': '42', 'khaiGrade': '2', 'pm25Value': '25', 'sidoName': '서울', 'no2Flag': None, 'no2Grade': '2', 'o3Flag': None, 'pm25Grade': '2', 'so2Flag': None, 'dataTime': '2025-09-26 18:00', 'coGrade': '1', 'no2Value': '0.038', 'stationName': '시흥대로', 'pm10Grade': '2', 'o3Value': '0.047'}, {'so2Grade': '1', 'coFlag': None, 'khaiValue': '78', 'so2Value': '0.002', 'coValue': '0.4', 'pm25Flag': None, 'pm10Flag': None, 'o3Grade': '2', 'pm10Value': '35', 'khaiGrade': '2', 'pm25Value': '27', 'sidoName': '서울', 'no2Flag': None, 'no2Grade': '1', 'o3Flag': None, 'pm25Grade': '2', 'so2Flag': None, 'dataTime': '2025-09-26 18:00', 'coGrade': '1', 'no2Value': '0.005', 'stationName': '강북구', 'pm10Grade': '1', 'o3Value': '0.063'}, {'so2Grade': '1', 'coFlag': None, 'khaiValue': '96', 'so2Value': '0.002', 'coValue': '0.4', 'pm25Flag': None, 'pm10Flag': None, 'o3Grade': '2', 'pm10Value': '39', 'khaiGrade': '2', 'pm25Value': '24', 'sidoName': '서울', 'no2Flag': None, 'no2Grade': '1', 'o3Flag': None, 'pm25Grade': '2', 'so2Flag': None, 'dataTime': '2025-09-26 18:00', 'coGrade': '1', 'no2Value': '0.015', 'stationName': '양천구', 'pm10Grade': '2', 'o3Value': '0.086'}, {'so2Grade': '1', 'coFlag': None, 'khaiValue': '88', 'so2Value': '0.002', 'coValue': '0.4', 'pm25Flag': None, 'pm10Flag': None, 'o3Grade': '2', 'pm10Value': '28', 'khaiGrade': '2', 'pm25Value': '18', 'sidoName': '서울', 'no2Flag': None, 'no2Grade': '1', 'o3Flag': None, 'pm25Grade': '2', 'so2Flag': None, 'dataTime': '2025-09-26 18:00', 'coGrade': '1', 'no2Value': '0.011', 'stationName': '노원구', 'pm10Grade': '1', 'o3Value': '0.075'}, {'so2Grade': '1', 'coFlag': None, 'khaiValue': '88', 'so2Value': '0.002', 'coValue': '0.6', 'pm25Flag': None, 'pm10Flag': None, 'o3Grade': '2', 'pm10Value': '28', 'khaiGrade': '2', 'pm25Value': '16', 'sidoName': '서울', 'no2Flag': None, 'no2Grade': '2', 'o3Flag': None, 'pm25Grade': '2', 'so2Flag': None, 'dataTime': '2025-09-26 18:00', 'coGrade': '1', 'no2Value': '0.053', 'stationName': '화랑로', 'pm10Grade': '1', 'o3Value': '0.044'}, {'so2Grade': '1', 'coFlag': None, 'khaiValue': '94', 'so2Value': '0.002', 'coValue': '0.4', 'pm25Flag': None, 'pm10Flag': None, 'o3Grade': '2', 'pm10Value': '34', 'khaiGrade': '2', 'pm25Value': '24', 'sidoName': '서울', 'no2Flag': None, 'no2Grade': '1', 'o3Flag': None, 'pm25Grade': '2', 'so2Flag': None, 'dataTime': '2025-09-26 18:00', 'coGrade': '1', 'no2Value': '0.014', 'stationName': '중구', 'pm10Grade': '1', 'o3Value': '0.083'}, {'so2Grade': '1', 'coFlag': None, 'khaiValue': '85', 'so2Value': '0.003', 'coValue': '0.5', 'pm25Flag': None, 'pm10Flag': None, 'o3Grade': '2', 'pm10Value': '44', 'khaiGrade': '2', 'pm25Value': '27', 'sidoName': '서울', 'no2Flag': None, 'no2Grade': '1', 'o3Flag': None, 'pm25Grade': '2', 'so2Flag': None, 'dataTime': '2025-09-26 18:00', 'coGrade': '1', 'no2Value': '0.021', 'stationName': '한강대로', 'pm10Grade': '2', 'o3Value': '0.072'}, {'so2Grade': '1', 'coFlag': None, 'khaiValue': '91', 'so2Value': '0.003', 'coValue': '0.5', 'pm25Flag': None, 'pm10Flag': None, 'o3Grade': '2', 'pm10Value': '37', 'khaiGrade': '2', 'pm25Value': '27', 'sidoName': '서울', 'no2Flag': None, 'no2Grade': '1', 'o3Flag': None, 'pm25Grade': '2', 'so2Flag': None, 'dataTime': '2025-09-26 18:00', 'coGrade': '1', 'no2Value': '0.023', 'stationName': '종로구', 'pm10Grade': '1', 'o3Value': '0.078'}, {'so2Grade': '1', 'coFlag': None, 'khaiValue': '79', 'so2Value': '0.003', 'coValue': '0.6', 'pm25Flag': None, 'pm10Flag': None, 'o3Grade': '2', 'pm10Value': '44', 'khaiGrade': '2', 'pm25Value': '24', 'sidoName': '서울', 'no2Flag': None, 'no2Grade': '2', 'o3Flag': None, 'pm25Grade': '2', 'so2Flag': None, 'dataTime': '2025-09-26 18:00', 'coGrade': '1', 'no2Value': '0.033', 'stationName': '청계천로', 'pm10Grade': '2', 'o3Value': '0.065'}, {'so2Grade': '1', 'coFlag': None, 'khaiValue': '83', 'so2Value': '0.002', 'coValue': '0.5', 'pm25Flag': None, 'pm10Flag': None, 'o3Grade': '2', 'pm10Value': '35', 'khaiGrade': '2', 'pm25Value': '23', 'sidoName': '서울', 'no2Flag': None, 'no2Grade': '1', 'o3Flag': None, 'pm25Grade': '2', 'so2Flag': None, 'dataTime': '2025-09-26 18:00', 'coGrade': '1', 'no2Value': '0.019', 'stationName': '종로', 'pm10Grade': '2', 'o3Value': '0.070'}, {'so2Grade': '1', 'coFlag': None, 'khaiValue': '88', 'so2Value': '0.002', 'coValue': '0.5', 'pm25Flag': None, 'pm10Flag': None, 'o3Grade': '2', 'pm10Value': '28', 'khaiGrade': '2', 'pm25Value': '17', 'sidoName': '서울', 'no2Flag': None, 'no2Grade': '1', 'o3Flag': None, 'pm25Grade': '1', 'so2Flag': None, 'dataTime': '2025-09-26 18:00', 'coGrade': '1', 'no2Value': '0.017', 'stationName': '용산구', 'pm10Grade': '1', 'o3Value': '0.075'}, {'so2Grade': '1', 'coFlag': None, 'khaiValue': '75', 'so2Value': '0.003', 'coValue': '0.6', 'pm25Flag': None, 'pm10Flag': None, 'o3Grade': '2', 'pm10Value': '27', 'khaiGrade': '2', 'pm25Value': '19', 'sidoName': '서울', 'no2Flag': None, 'no2Grade': '1', 'o3Flag': None, 'pm25Grade': '2', 'so2Flag': None, 'dataTime': '2025-09-26 18:00', 'coGrade': '1', 'no2Value': '0.023', 'stationName': '광진구', 'pm10Grade': '1', 'o3Value': '0.059'}, {'so2Grade': '1', 'coFlag': None, 'khaiValue': '87', 'so2Value': '0.003', 'coValue': '0.4', 'pm25Flag': None, 'pm10Flag': None, 'o3Grade': '2', 'pm10Value': '26', 'khaiGrade': '2', 'pm25Value': '20', 'sidoName': '서울', 'no2Flag': None, 'no2Grade': '1', 'o3Flag': None, 'pm25Grade': '2', 'so2Flag': None, 'dataTime': '2025-09-26 18:00', 'coGrade': '1', 'no2Value': '0.020', 'stationName': '성동구', 'pm10Grade': '1', 'o3Value': '0.074'}, {'so2Grade': '1', 'coFlag': None, 'khaiValue': '80', 'so2Value': '0.003', 'coValue': '0.6', 'pm25Flag': None, 'pm10Flag': None, 'o3Grade': '2', 'pm10Value': '32', 'khaiGrade': '2', 'pm25Value': '18', 'sidoName': '서울', 'no2Flag': None, 'no2Grade': '2', 'o3Flag': None, 'pm25Grade': '1', 'so2Flag': None, 'dataTime': '2025-09-26 18:00', 'coGrade': '1', 'no2Value': '0.048', 'stationName': '강변북로', 'pm10Grade': '1', 'o3Value': '0.042'}, {'so2Grade': '1', 'coFlag': None, 'khaiValue': '67', 'so2Value': '0.003', 'coValue': '0.3', 'pm25Flag': None, 'pm10Flag': None, 'o3Grade': '2', 'pm10Value': '25', 'khaiGrade': '2', 'pm25Value': '16', 'sidoName': '서울', 'no2Flag': None, 'no2Grade': '1', 'o3Flag': None, 'pm25Grade': '2', 'so2Flag': None, 'dataTime': '2025-09-26 18:00', 'coGrade': '1', 'no2Value': '0.012', 'stationName': '중랑구', 'pm10Grade': '2', 'o3Value': '0.050'}, {'so2Grade': '1', 'coFlag': None, 'khaiValue': '90', 'so2Value': '0.002', 'coValue': '0.4', 'pm25Flag': None, 'pm10Flag': None, 'o3Grade': '2', 'pm10Value': '34', 'khaiGrade': '2', 'pm25Value': '21', 'sidoName': '서울', 'no2Flag': None, 'no2Grade': '1', 'o3Flag': None, 'pm25Grade': '2', 'so2Flag': None, 'dataTime': '2025-09-26 18:00', 'coGrade': '1', 'no2Value': '0.016', 'stationName': '동대문구', 'pm10Grade': '1', 'o3Value': '0.078'}, {'so2Grade': '1', 'coFlag': None, 'khaiValue': '72', 'so2Value': '0.003', 'coValue': '0.6', 'pm25Flag': None, 'pm10Flag': None, 'o3Grade': '2', 'pm10Value': '33', 'khaiGrade': '2', 'pm25Value': '19', 'sidoName': '서울', 'no2Flag': None, 'no2Grade': '2', 'o3Flag': None, 'pm25Grade': '1', 'so2Flag': None, 'dataTime': '2025-09-26 18:00', 'coGrade': '1', 'no2Value': '0.036', 'stationName': '홍릉로', 'pm10Grade': '1', 'o3Value': '0.055'}, {'so2Grade': '1', 'coFlag': None, 'khaiValue': '84', 'so2Value': '0.003', 'coValue': '0.5', 'pm25Flag': None, 'pm10Flag': None, 'o3Grade': '2', 'pm10Value': '33', 'khaiGrade': '2', 'pm25Value': '25', 'sidoName': '서울', 'no2Flag': None, 'no2Grade': '1', 'o3Flag': None, 'pm25Grade': '2', 'so2Flag': None, 'dataTime': '2025-09-26 18:00', 'coGrade': '1', 'no2Value': '0.013', 'stationName': '성북구', 'pm10Grade': '1', 'o3Value': '0.071'}, {'so2Grade': '1', 'coFlag': None, 'khaiValue': '83', 'so2Value': '0.002', 'coValue': '0.7', 'pm25Flag': None, 'pm10Flag': None, 'o3Grade': '2', 'pm10Value': '40', 'khaiGrade': '2', 'pm25Value': '21', 'sidoName': '서울', 'no2Flag': None, 'no2Grade': '2', 'o3Flag': None, 'pm25Grade': '2', 'so2Flag': None, 'dataTime': '2025-09-26 18:00', 'coGrade': '1', 'no2Value': '0.050', 'stationName': '정릉로', 'pm10Grade': '1', 'o3Value': '0.055'}, {'so2Grade': '1', 'coFlag': None, 'khaiValue': '80', 'so2Value': '0.003', 'coValue': '0.5', 'pm25Flag': None, 'pm10Flag': None, 'o3Grade': '2', 'pm10Value': '34', 'khaiGrade': '2', 'pm25Value': '19', 'sidoName': '서울', 'no2Flag': None, 'no2Grade': '1', 'o3Flag': None, 'pm25Grade': '2', 'so2Flag': None, 'dataTime': '2025-09-26 18:00', 'coGrade': '1', 'no2Value': '0.011', 'stationName': '도봉구', 'pm10Grade': '1', 'o3Value': '0.066'}, {'so2Grade': '1', 'coFlag': None, 'khaiValue': '83', 'so2Value': '0.002', 'coValue': '0.4', 'pm25Flag': None, 'pm10Flag': None, 'o3Grade': '2', 'pm10Value': '40', 'khaiGrade': '2', 'pm25Value': '22', 'sidoName': '서울', 'no2Flag': None, 'no2Grade': '1', 'o3Flag': None, 'pm25Grade': '2', 'so2Flag': None, 'dataTime': '2025-09-26 18:00', 'coGrade': '1', 'no2Value': '0.009', 'stationName': '은평구', 'pm10Grade': '2', 'o3Value': '0.070'}, {'so2Grade': '1', 'coFlag': None, 'khaiValue': '85', 'so2Value': '0.003', 'coValue': '0.5', 'pm25Flag': None, 'pm10Flag': None, 'o3Grade': '2', 'pm10Value': '33', 'khaiGrade': '2', 'pm25Value': '29', 'sidoName': '서울', 'no2Flag': None, 'no2Grade': '1', 'o3Flag': None, 'pm25Grade': '2', 'so2Flag': None, 'dataTime': '2025-09-26 18:00', 'coGrade': '1', 'no2Value': '0.017', 'stationName': '서대문구', 'pm10Grade': '2', 'o3Value': '0.072'}, {'so2Grade': '1', 'coFlag': None, 'khaiValue': '86', 'so2Value': '0.002', 'coValue': '0.4', 'pm25Flag': None, 'pm10Flag': None, 'o3Grade': '2', 'pm10Value': '35', 'khaiGrade': '2', 'pm25Value': '26', 'sidoName': '서울', 'no2Flag': None, 'no2Grade': '1', 'o3Flag': None, 'pm25Grade': '2', 'so2Flag': None, 'dataTime': '2025-09-26 18:00', 'coGrade': '1', 'no2Value': '0.018', 'stationName': '마포구', 'pm10Grade': '2', 'o3Value': '0.072'}, {'so2Grade': '1', 'coFlag': None, 'khaiValue': '75', 'so2Value': '0.002', 'coValue': '0.7', 'pm25Flag': None, 'pm10Flag': None, 'o3Grade': '2', 'pm10Value': '46', 'khaiGrade': '2', 'pm25Value': '27', 'sidoName': '서울', 'no2Flag': None, 'no2Grade': '2', 'o3Flag': None, 'pm25Grade': '2', 'so2Flag': None, 'dataTime': '2025-09-26 18:00', 'coGrade': '1', 'no2Value': '0.035', 'stationName': '신촌로', 'pm10Grade': '2', 'o3Value': '0.060'}, {'so2Grade': '1', 'coFlag': None, 'khaiValue': '85', 'so2Value': '0.002', 'coValue': '0.4', 'pm25Flag': None, 'pm10Flag': None, 'o3Grade': '2', 'pm10Value': '41', 'khaiGrade': '2', 'pm25Value': '26', 'sidoName': '서울', 'no2Flag': None, 'no2Grade': '1', 'o3Flag': None, 'pm25Grade': '2', 'so2Flag': None, 'dataTime': '2025-09-26 18:00', 'coGrade': '1', 'no2Value': '0.014', 'stationName': '강서구', 'pm10Grade': '2', 'o3Value': '0.072'}, {'so2Grade': '1', 'coFlag': None, 'khaiValue': '69', 'so2Value': '0.002', 'coValue': '0.5', 'pm25Flag': None, 'pm10Flag': None, 'o3Grade': '2', 'pm10Value': '36', 'khaiGrade': '2', 'pm25Value': '19', 'sidoName': '서울', 'no2Flag': None, 'no2Grade': '2', 'o3Flag': None, 'pm25Grade': '2', 'so2Flag': None, 'dataTime': '2025-09-26 18:00', 'coGrade': '1', 'no2Value': '0.033', 'stationName': '공항대로', 'pm10Grade': '2', 'o3Value': '0.052'}, {'so2Grade': '1', 'coFlag': None, 'khaiValue': '89', 'so2Value': '0.003', 'coValue': '0.4', 'pm25Flag': None, 'pm10Flag': None, 'o3Grade': '2', 'pm10Value': '43', 'khaiGrade': '2', 'pm25Value': '24', 'sidoName': '서울', 'no2Flag': None, 'no2Grade': '1', 'o3Flag': None, 'pm25Grade': '2', 'so2Flag': None, 'dataTime': '2025-09-26 18:00', 'coGrade': '1', 'no2Value': '0.018', 'stationName': '구로구', 'pm10Grade': '2', 'o3Value': '0.076'}, {'so2Grade': '1', 'coFlag': None, 'khaiValue': '91', 'so2Value': '0.002', 'coValue': '0.4', 'pm25Flag': None, 'pm10Flag': None, 'o3Grade': '2', 'pm10Value': '35', 'khaiGrade': '2', 'pm25Value': '20', 'sidoName': '서울', 'no2Flag': None, 'no2Grade': '1', 'o3Flag': None, 'pm25Grade': '2', 'so2Flag': None, 'dataTime': '2025-09-26 18:00', 'coGrade': '1', 'no2Value': '0.019', 'stationName': '영등포구', 'pm10Grade': '2', 'o3Value': '0.079'}, {'so2Grade': '1', 'coFlag': None, 'khaiValue': '91', 'so2Value': '0.002', 'coValue': '0.5', 'pm25Flag': None, 'pm10Flag': None, 'o3Grade': '2', 'pm10Value': '39', 'khaiGrade': '2', 'pm25Value': '23', 'sidoName': '서울', 'no2Flag': None, 'no2Grade': '1', 'o3Flag': None, 'pm25Grade': '2', 'so2Flag': None, 'dataTime': '2025-09-26 18:00', 'coGrade': '1', 'no2Value': '0.026', 'stationName': '영등포로', 'pm10Grade': '2', 'o3Value': '0.079'}, {'so2Grade': '1', 'coFlag': None, 'khaiValue': '84', 'so2Value': '0.003', 'coValue': '0.5', 'pm25Flag': None, 'pm10Flag': None, 'o3Grade': '2', 'pm10Value': '34', 'khaiGrade': '2', 'pm25Value': '21', 'sidoName': '서울', 'no2Flag': None, 'no2Grade': '1', 'o3Flag': None, 'pm25Grade': '2', 'so2Flag': None, 'dataTime': '2025-09-26 18:00', 'coGrade': '1', 'no2Value': '0.019', 'stationName': '동작구', 'pm10Grade': '1', 'o3Value': '0.071'}, {'so2Grade': '1', 'coFlag': None, 'khaiValue': '111', 'so2Value': '0.002', 'coValue': '0.6', 'pm25Flag': None, 'pm10Flag': None, 'o3Grade': '2', 'pm10Value': '37', 'khaiGrade': '3', 'pm25Value': '19', 'sidoName': '서울', 'no2Flag': None, 'no2Grade': '3', 'o3Flag': None, 'pm25Grade': '2', 'so2Flag': None, 'dataTime': '2025-09-26 18:00', 'coGrade': '1', 'no2Value': '0.069', 'stationName': '동작대로 중앙차로', 'pm10Grade': '2', 'o3Value': '0.044'}, {'so2Grade': '1', 'coFlag': None, 'khaiValue': '86', 'so2Value': '0.002', 'coValue': '0.5', 'pm25Flag': None, 'pm10Flag': None, 'o3Grade': '2', 'pm10Value': '37', 'khaiGrade': '2', 'pm25Value': '25', 'sidoName': '서울', 'no2Flag': None, 'no2Grade': '1', 'o3Flag': None, 'pm25Grade': '2', 'so2Flag': None, 'dataTime': '2025-09-26 18:00', 'coGrade': '1', 'no2Value': '0.025', 'stationName': '관악구', 'pm10Grade': '2', 'o3Value': '0.073'}], 'pageNo': 1, 'numOfRows': 100}, 'header': {'resultMsg': 'NORMAL_CODE', 'resultCode': '00'}}}\n"
          ]
        }
      ]
    }
  ]
}