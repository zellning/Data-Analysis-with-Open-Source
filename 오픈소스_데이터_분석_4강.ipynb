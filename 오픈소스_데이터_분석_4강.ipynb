{
  "nbformat": 4,
  "nbformat_minor": 0,
  "metadata": {
    "colab": {
      "provenance": [],
      "include_colab_link": true
    },
    "kernelspec": {
      "name": "python3",
      "display_name": "Python 3"
    },
    "language_info": {
      "name": "python"
    }
  },
  "cells": [
    {
      "cell_type": "markdown",
      "metadata": {
        "id": "view-in-github",
        "colab_type": "text"
      },
      "source": [
        "<a href=\"https://colab.research.google.com/github/zellning/Data-Analysis-with-Open-Source/blob/main/%EC%98%A4%ED%94%88%EC%86%8C%EC%8A%A4_%EB%8D%B0%EC%9D%B4%ED%84%B0_%EB%B6%84%EC%84%9D_4%EA%B0%95.ipynb\" target=\"_parent\"><img src=\"https://colab.research.google.com/assets/colab-badge.svg\" alt=\"Open In Colab\"/></a>"
      ]
    },
    {
      "cell_type": "markdown",
      "source": [
        "\n",
        "\n",
        "# 오픈소스 기반 데이터 분석 4강 - 데이터 수집\n",
        "chapter3 파일 올리고 실습.\n"
      ],
      "metadata": {
        "id": "DkPKaAsoRq5Q"
      }
    },
    {
      "cell_type": "markdown",
      "source": [
        "## 4-1 CSV 파일 읽기"
      ],
      "metadata": {
        "id": "-I7BVVlnRrB0"
      }
    },
    {
      "cell_type": "code",
      "source": [
        "import pandas as pd\n",
        "\n",
        "## data.csv 파일 읽기\n",
        "df = pd.read_csv('data.csv')\n",
        "\n",
        "#기본옵션 주기 (기본옵션 주지 않아도 결과는 동일하게 나옴)\n",
        "df = pd.read_csv('data.csv', encoding='utf-8', sep=',', header=0,\n",
        "                 index_col=None, skiprows=None, nrows=None)\n",
        "\n",
        "print(df)"
      ],
      "metadata": {
        "id": "2Y2HEiaiRwAI",
        "outputId": "51888c5b-941b-4c7e-e468-08df548d526b",
        "colab": {
          "base_uri": "https://localhost:8080/"
        }
      },
      "execution_count": 12,
      "outputs": [
        {
          "output_type": "stream",
          "name": "stdout",
          "text": [
            "           날짜    체중  골격근량  체지방량\n",
            "0  2025.02.06  64.7  30.0  11.1\n",
            "1  2025.02.04  64.0  29.3  11.6\n"
          ]
        }
      ]
    },
    {
      "cell_type": "markdown",
      "source": [
        "## 4-2 JSON 파일 읽기\n",
        "데이터 같은 경우는 json파일이 거의 표준 포맷.\n",
        "\n"
      ],
      "metadata": {
        "id": "9kHCFaGlRrE0"
      }
    },
    {
      "cell_type": "code",
      "source": [
        "# @title\n",
        "import json\n",
        "import pandas as pd\n",
        "\n",
        "## data.json 파일 출력\n",
        "with open('data.json', mode='r', encoding='utf-8') as f: #mode='r'은 read 이고, as뒤에 f는 파일객체 이름으로 내가 지어주면된다.\n",
        "    data = json.load(f)\n",
        "print(data)\n",
        "\n",
        "## data.json 파일 DataFrame 읽기\n",
        "df = pd.read_json('data.json', orients='records', encoding='utf-8')\n",
        "#json 파일을 기록 할 때 크게 두가지로 나뉨\n",
        "#1.객체를 큰 하나의 리스트에 담아가지고 관리하는 방법(하나의 객체로서 파일을 만듬) 2. 줄별로 다른 객체들을 저장하는 방식이 있음\n",
        "# 1번은 제이슨 포이즈 옵션을 사용 2번은 제이슨 라인즈포맷을 사용\n",
        "\n",
        "\n",
        "print(df)"
      ],
      "metadata": {
        "id": "IO8bsKekR0W_",
        "outputId": "fd8d9d9a-4488-4217-ae7d-60f05d4f6ba3",
        "colab": {
          "base_uri": "https://localhost:8080/"
        }
      },
      "execution_count": 13,
      "outputs": [
        {
          "output_type": "stream",
          "name": "stdout",
          "text": [
            "{'매출데이터': [{'월': '2025-01', '매출액': 1000000, '비용': 700000, '이익': 300000}, {'월': '2025-02', '매출액': 1200000, '비용': 800000, '이익': 400000}, {'월': '2025-03', '매출액': 1500000, '비용': 900000, '이익': 600000}]}\n",
            "           날짜    체중  골격근량  체지방량\n",
            "0  2025.02.06  64.7  30.0  11.1\n",
            "1  2025.02.04  64.0  29.3  11.6\n"
          ]
        }
      ]
    },
    {
      "cell_type": "markdown",
      "source": [
        "## 4-3 텍스트 파일 읽기 및 데이터 추출"
      ],
      "metadata": {
        "id": "uLd_3A_IRrHG"
      }
    },
    {
      "cell_type": "code",
      "source": [
        "import re\n",
        "\n",
        "## 파일(callcenter20250301.log) 오픈 및 읽기\n",
        "with open('callcenter20250301.log', 'r', encoding='utf-8') as f:\n",
        "    content = f.read()\n",
        "## 주민등록번호 패턴 생성\n",
        "\n",
        "## 주민등록번호 마스킹\n",
        "\n",
        "\n",
        "## 마스킹된 파일(callcenter20250301_masked.log) 오픈 및 쓰기\n",
        "\n",
        "\n",
        "print(\"주민등록번호 마스킹 완료. 'callcenter20250301_masked.log.txt' 파일로 저장되었습니다.\")"
      ],
      "metadata": {
        "id": "60qOf7uxVdAg"
      },
      "execution_count": null,
      "outputs": []
    },
    {
      "cell_type": "markdown",
      "source": [
        "## 4-4 Open-Meteo의 무료 날씨 API를 통한 특정 지역 온도 조회"
      ],
      "metadata": {
        "id": "eOMufu5SXiAU"
      }
    },
    {
      "cell_type": "code",
      "source": [
        "import requests\n",
        "import json\n",
        "\n",
        "url = \"https://api.open-meteo.com/v1/forecast?=&=&current=temperature_2m\"\n",
        "params = {\n",
        "    \"latitude\": \"37.58638333\",\n",
        "    \"longitude\": \"127.0203333\",\n",
        "    \"current\": \"temperature_2m\"\n",
        "}\n",
        "\n",
        "try:\n",
        "    ## URL 및 파라미터 전송\n",
        "\n",
        "    ## JSON 데이터 읽기\n",
        "\n",
        "    print(\"API 응답:\", data)\n",
        "    print(\"서울시 종로구의 현재 온도는 : {0}{1} 입니다.\".format(data['current']['temperature_2m'], data['current_units']['temperature_2m']))\n",
        "\n",
        "except requests.exceptions.RequestException as e:\n",
        "    print(f\"API 호출 실패: {e}\")\n",
        "except json.JSONDecodeError as e:\n",
        "    print(f\"JSON 파싱 실패: {e}\")"
      ],
      "metadata": {
        "id": "JpmgdsW9V0CY"
      },
      "execution_count": null,
      "outputs": []
    },
    {
      "cell_type": "markdown",
      "source": [
        "## 4-5 Selenium과 lxml을 이용한 웹 스크래핑"
      ],
      "metadata": {
        "id": "RLfPaa1ZiqIC"
      }
    },
    {
      "cell_type": "code",
      "source": [
        "!curl -o google-chrome-stable_current_amd64.deb https://dl.google.com/linux/direct/google-chrome-stable_current_amd64.deb\n",
        "!apt install ./google-chrome-stable_current_amd64.deb -y\n",
        "!pip install selenium webdriver_manager"
      ],
      "metadata": {
        "id": "79dmM7MNk8pB"
      },
      "execution_count": null,
      "outputs": []
    },
    {
      "cell_type": "code",
      "source": [
        "from selenium import webdriver\n",
        "from selenium.webdriver.chrome.service import Service as ChromeService\n",
        "from webdriver_manager.chrome import ChromeDriverManager\n",
        "from selenium.webdriver.common.by import By\n",
        "from lxml import html\n",
        "import time\n",
        "\n",
        "chrome_options = webdriver.ChromeOptions()\n",
        "chrome_options.add_argument('--headless')               # 브라우저 창 없이 실행\n",
        "chrome_options.add_argument('--no-sandbox')             # 보안모드 비활성화 (Colab 필수)\n",
        "chrome_options.add_argument('--disable-dev-shm-usage')  # 메모리 부족 방지 (Colab 필수)\n",
        "chrome_options.add_argument('--window-size=1920x1080')  # 창 크기 설정(가상)\n",
        "chrome_options.add_argument('--disable-gpu')            # GPU 가속 비활성화 (일부 환경 안정성)\n",
        "chrome_options.binary_location = \"/usr/bin/google-chrome-stable\"  # Colab용 크롬 경로 지정\n",
        "\n",
        "## 드라이버 실행\n",
        "driver = webdriver.Chrome(options=chrome_options)\n",
        "\n",
        "## 사이트 접속\n",
        "\n",
        "\n",
        "## 사이트 접속 대기\n",
        "\n",
        "\n",
        "## 페이지 제목 출력\n",
        "\n",
        "\n",
        "## 드라이버 종료\n",
        "driver.quit()"
      ],
      "metadata": {
        "id": "cRC8x3_iW0im"
      },
      "execution_count": null,
      "outputs": []
    },
    {
      "cell_type": "markdown",
      "source": [
        "\n",
        "# 실습 시나리오"
      ],
      "metadata": {
        "id": "Bu6OMZyGirOq"
      }
    },
    {
      "cell_type": "markdown",
      "source": [
        "## 공공데이터 포털 가입 및 데이터 신청\n",
        "\n",
        "- [https://www.data.go.kr](https://www.data.go.kr)\n",
        "- 한국환경공단 에어코리아 대기오염정보 데이터 신청"
      ],
      "metadata": {
        "id": "nsuqRN9RkZlW"
      }
    },
    {
      "cell_type": "code",
      "source": [
        "import requests\n",
        "\n",
        "## 데이터 수집 url 및 api key 설정\n",
        "\n",
        "\n",
        "params = {\n",
        "    'serviceKey': api_key,\n",
        "    'returnType': 'json',\n",
        "    'numOfRows': '100',\n",
        "    'pageNo': '1',\n",
        "    'sidoName': '서울',\n",
        "    'ver': '1.0'\n",
        "}\n",
        "\n",
        "## 데이터 수집\n",
        "\n",
        "## 호출 성공/실패 출력\n",
        "\n"
      ],
      "metadata": {
        "id": "7yCozmQeXJcO"
      },
      "execution_count": null,
      "outputs": []
    }
  ]
}