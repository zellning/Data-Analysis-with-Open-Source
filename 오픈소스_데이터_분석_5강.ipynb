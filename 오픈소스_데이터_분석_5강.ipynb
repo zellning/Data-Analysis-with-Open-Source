{
  "nbformat": 4,
  "nbformat_minor": 0,
  "metadata": {
    "colab": {
      "provenance": [],
      "include_colab_link": true
    },
    "kernelspec": {
      "name": "python3",
      "display_name": "Python 3"
    },
    "language_info": {
      "name": "python"
    }
  },
  "cells": [
    {
      "cell_type": "markdown",
      "metadata": {
        "id": "view-in-github",
        "colab_type": "text"
      },
      "source": [
        "<a href=\"https://colab.research.google.com/github/zellning/Data-Analysis-with-Open-Source/blob/main/%EC%98%A4%ED%94%88%EC%86%8C%EC%8A%A4_%EB%8D%B0%EC%9D%B4%ED%84%B0_%EB%B6%84%EC%84%9D_5%EA%B0%95.ipynb\" target=\"_parent\"><img src=\"https://colab.research.google.com/assets/colab-badge.svg\" alt=\"Open In Colab\"/></a>"
      ]
    },
    {
      "cell_type": "markdown",
      "source": [
        "# 오픈소스 기반 데이터 분석 5강 - 데이터 저장\n",
        "chapter3 파일 올리고 실습."
      ],
      "metadata": {
        "id": "O4kC4JMknVnK"
      }
    },
    {
      "cell_type": "markdown",
      "source": [
        "## 5-1 CSV 형식 저장"
      ],
      "metadata": {
        "id": "8DfV0cZLqj_s"
      }
    },
    {
      "cell_type": "code",
      "source": [
        "import pandas as pd\n",
        "\n",
        "data = {\n",
        "    'student_id': [101, 102, 103, 104, 105],\n",
        "    'database_score': [85, 76, 92, 63, 88],\n",
        "    'cloudcomputing_score': [78, 82, 95, 70, 84],\n",
        "    'python_score': [92, 78, 85, 75, 91],\n",
        "    'watch_rate': [0.95, 0.87, 0.99, 0.80, 0.93]\n",
        "}\n",
        "## DataFrame 생성\n",
        "df = pd.DataFrame(data)\n",
        "\n",
        "## CSV 형식 저장\n",
        "df.to_csv('student_analysis.csv', encoding = 'utf-8', index = False)\n"
      ],
      "metadata": {
        "id": "DztLRI9gW2lk"
      },
      "execution_count": 9,
      "outputs": []
    },
    {
      "cell_type": "markdown",
      "source": [
        "## 5-2 JSON 형식 저장"
      ],
      "metadata": {
        "id": "CSABzaf3q8XU"
      }
    },
    {
      "cell_type": "code",
      "source": [
        "### 라이브러리 임포트\n",
        "import json\n",
        "import pandas as pd\n",
        "\n",
        "data = {\n",
        "    \"이름\": \"홍길동\",\n",
        "    \"나이\": 25,\n",
        "    \"거주지\": \"서울\",\n",
        "    \"관심사\": [\"프로그래밍\", \"데이터 분석\", \"여행\"]\n",
        "}\n",
        "\n",
        "## json.dump를 이용한 저장\n",
        "with open('output.json', mode = 'w', encoding = 'utf-8') as f:\n",
        "    json.dump(data, f, indent=4, ensure_ascii = False) #indent : 띄어쓰기 몇칸?\n",
        "\n",
        "## DataFrame을 이용한 저장\n",
        "#df = pd.DataFrame(data) #관심사가 각 1개씩 나눠져서 나옴\n",
        "df = pd.DataFrame([data]) #관심사3개가 하나로 묶여서 나옴\n",
        "#df.to_json('output_df.json', orient='records', indent=4, force_ascii=False)\n",
        "df.to_json('output_df.json', orient='columns', indent=4, force_ascii=False)"
      ],
      "metadata": {
        "id": "7bAgRpizW7Vj"
      },
      "execution_count": 15,
      "outputs": []
    },
    {
      "cell_type": "markdown",
      "source": [
        "## 5-3 Pandas Dataframe 데이터 추출"
      ],
      "metadata": {
        "id": "NMlsQDHtrA_x"
      }
    },
    {
      "cell_type": "code",
      "source": [
        "import pandas as pd\n",
        "\n",
        "data = {\n",
        "    \"이름\": [\"김철수\", \"이영희\", \"박민수\", \"최지훈\", \"정소희\"],\n",
        "    \"학년\": [1, 2, 3, 4, 2],\n",
        "    \"학점\": [4.2, 3.8, 4.5, 3.9, 3.5],\n",
        "    \"학과\": [\"컴퓨터학\", \"경영학\", \"농학\", \"교육학\", \"영어영문학\"],\n",
        "    \"동아리\": [\"프로그래밍\", \"독서토론\", \"로봇공학\", \"봉사활동\", \"음악감상\"]\n",
        "}\n",
        "df = pd.DataFrame([data])\n",
        "\n",
        "## DataFrame 인덱스 출력\n",
        "\n",
        "## DataFrame 컬럼 출력\n",
        "\n",
        "## DataFrame 행 출력\n",
        "\n",
        "## DataFrame 값 출력\n"
      ],
      "metadata": {
        "id": "dk3xneVAW9_g"
      },
      "execution_count": null,
      "outputs": []
    },
    {
      "cell_type": "markdown",
      "source": [
        "## 5-4 DataFrame 생성 방법"
      ],
      "metadata": {
        "id": "ILJd1GLoseqm"
      }
    },
    {
      "cell_type": "code",
      "source": [
        "import pandas as pd\n",
        "import json\n",
        "\n",
        "data = {\n",
        "    \"이름\": [\"김철수\", \"이영희\", \"박민수\", \"최지훈\", \"정소희\"],\n",
        "    \"학년\": [1, 2, 3, 4, 2],\n",
        "    \"학점\": [4.2, 3.8, 4.5, 3.9, 3.5],\n",
        "    \"학과\": [\"컴퓨터공학\", \"경영학\", \"전자공학\", \"의학\", \"심리학\"],\n",
        "    \"동아리\": [\"프로그래밍\", \"독서토론\", \"로봇공학\", \"봉사활동\", \"음악감상\"]\n",
        "}\n",
        "\n",
        "## 딕셔너리, csv, json으로 부터 DataFrame 생성\n",
        "\n",
        "\n",
        "## 세가지 방법 결과 비교\n"
      ],
      "metadata": {
        "id": "ISnPLEgNXAmi"
      },
      "execution_count": null,
      "outputs": []
    },
    {
      "cell_type": "markdown",
      "source": [
        "## 5-5 DataFrame 저장 방법"
      ],
      "metadata": {
        "id": "z1N6lAnwsdyU"
      }
    },
    {
      "cell_type": "code",
      "source": [
        "import pandas as pd\n",
        "\n",
        "data = {\n",
        "    \"이름\": [\"김철수\", \"이영희\", \"박민수\", \"최지훈\", \"정소희\"],\n",
        "    \"학년\": [1, 2, 3, 4, 2],\n",
        "    \"학점\": [4.2, 3.8, 4.5, 3.9, 3.5],\n",
        "    \"학과\": [\"컴퓨터공학\", \"경영학\", \"전자공학\", \"의학\", \"심리학\"],\n",
        "    \"동아리\": [\"프로그래밍\", \"독서토론\", \"로봇공학\", \"봉사활동\", \"음악감상\"]\n",
        "}\n",
        "\n",
        "## Dataframe 생성\n",
        "\n",
        "## CSV, JSON 형식으로 저장\n",
        "\n",
        "\n",
        "## HTML 형식으로 저장\n"
      ],
      "metadata": {
        "id": "_dqoWCRoXDrJ"
      },
      "execution_count": null,
      "outputs": []
    },
    {
      "cell_type": "markdown",
      "source": [
        "## 5-6 실습 시나리오"
      ],
      "metadata": {
        "id": "ifBFAyulsdJb"
      }
    },
    {
      "cell_type": "markdown",
      "source": [
        "## 데이터 수집"
      ],
      "metadata": {
        "id": "muFj6okKyXy6"
      }
    },
    {
      "cell_type": "code",
      "source": [
        "import requests\n",
        "\n",
        "url = \"http://apis.data.go.kr/B552584/ArpltnInforInqireSvc/getMinuDustFrcstDspth\"\n",
        "api_key = '[발급받은 인증키]'\n",
        "\n",
        "params = {\n",
        "    'serviceKey': api_key,\n",
        "    'returnType': 'json',\n",
        "    'numOfRows': '100',\n",
        "    'pageNo': '1',\n",
        "    'sidoName': '서울',\n",
        "    'ver': '1.0'\n",
        "}\n",
        "\n",
        "## 데이터 수집\n",
        "response = requests.get(url, params=params)\n",
        "\n",
        "## 호출 성공/실패 출력\n",
        "\n"
      ],
      "metadata": {
        "id": "7yCozmQeXJcO"
      },
      "execution_count": null,
      "outputs": []
    },
    {
      "cell_type": "markdown",
      "source": [
        "## 데이터 프레임 생성"
      ],
      "metadata": {
        "id": "d6mT4IxkySzI"
      }
    },
    {
      "cell_type": "code",
      "source": [
        "import pandas as pd\n",
        "\n",
        "## requests로부터 response, body, item 항목 읽기\n",
        "\n"
      ],
      "metadata": {
        "id": "HOOo9qTsXLkB"
      },
      "execution_count": null,
      "outputs": []
    },
    {
      "cell_type": "markdown",
      "source": [
        "## 다양항 형식으로 데이터 저장\n"
      ],
      "metadata": {
        "id": "vVG0HYb0ymeM"
      }
    },
    {
      "cell_type": "code",
      "source": [
        "df.to_csv('air_pollution.csv', index=False, encoding='utf-8')\n",
        "\n",
        "## JSON 형식 데이터 저장\n",
        "\n",
        "## EXCEL 형식 데이터 저장\n",
        "\n",
        "## HTML 형식 데이터 저장\n"
      ],
      "metadata": {
        "id": "HW1ZodpgXNhG"
      },
      "execution_count": null,
      "outputs": []
    }
  ]
}