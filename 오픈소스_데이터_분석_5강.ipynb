{
  "nbformat": 4,
  "nbformat_minor": 0,
  "metadata": {
    "colab": {
      "provenance": [],
      "include_colab_link": true
    },
    "kernelspec": {
      "name": "python3",
      "display_name": "Python 3"
    },
    "language_info": {
      "name": "python"
    }
  },
  "cells": [
    {
      "cell_type": "markdown",
      "metadata": {
        "id": "view-in-github",
        "colab_type": "text"
      },
      "source": [
        "<a href=\"https://colab.research.google.com/github/zellning/Data-Analysis-with-Open-Source/blob/main/%EC%98%A4%ED%94%88%EC%86%8C%EC%8A%A4_%EB%8D%B0%EC%9D%B4%ED%84%B0_%EB%B6%84%EC%84%9D_5%EA%B0%95.ipynb\" target=\"_parent\"><img src=\"https://colab.research.google.com/assets/colab-badge.svg\" alt=\"Open In Colab\"/></a>"
      ]
    },
    {
      "cell_type": "markdown",
      "source": [
        "# 오픈소스 기반 데이터 분석 5강 - 데이터 저장\n",
        "chapter3 파일 올리고 실습."
      ],
      "metadata": {
        "id": "O4kC4JMknVnK"
      }
    },
    {
      "cell_type": "markdown",
      "source": [
        "## 5-1 CSV 형식 저장"
      ],
      "metadata": {
        "id": "8DfV0cZLqj_s"
      }
    },
    {
      "cell_type": "code",
      "source": [
        "import pandas as pd\n",
        "\n",
        "data = {\n",
        "    'student_id': [101, 102, 103, 104, 105],\n",
        "    'database_score': [85, 76, 92, 63, 88],\n",
        "    'cloudcomputing_score': [78, 82, 95, 70, 84],\n",
        "    'python_score': [92, 78, 85, 75, 91],\n",
        "    'watch_rate': [0.95, 0.87, 0.99, 0.80, 0.93]\n",
        "}\n",
        "## DataFrame 생성\n",
        "df = pd.DataFrame(data)\n",
        "\n",
        "## CSV 형식 저장\n",
        "df.to_csv('student_analysis.csv', encoding = 'utf-8', index = False)\n"
      ],
      "metadata": {
        "id": "DztLRI9gW2lk"
      },
      "execution_count": 50,
      "outputs": []
    },
    {
      "cell_type": "markdown",
      "source": [
        "## 5-2 JSON 형식 저장"
      ],
      "metadata": {
        "id": "CSABzaf3q8XU"
      }
    },
    {
      "cell_type": "code",
      "source": [
        "### 라이브러리 임포트\n",
        "import json\n",
        "import pandas as pd\n",
        "\n",
        "data = {\n",
        "    \"이름\": \"홍길동\",\n",
        "    \"나이\": 25,\n",
        "    \"거주지\": \"서울\",\n",
        "    \"관심사\": [\"프로그래밍\", \"데이터 분석\", \"여행\"]\n",
        "}\n",
        "\n",
        "## json.dump를 이용한 저장\n",
        "with open('output.json', mode = 'w', encoding = 'utf-8') as f:\n",
        "    json.dump(data, f, indent=4, ensure_ascii = False) #indent : 띄어쓰기 몇칸?\n",
        "\n",
        "## DataFrame을 이용한 저장\n",
        "#df = pd.DataFrame(data) #관심사가 각 1개씩 나눠져서 나옴\n",
        "df = pd.DataFrame([data]) #관심사3개가 하나로 묶여서 나옴\n",
        "#df.to_json('output_df.json', orient='records', indent=4, force_ascii=False)\n",
        "df.to_json('output_df.json', orient='columns', indent=4, force_ascii=False) #force_ascii=False 꼭 설정해놔야 한글 안깨짐"
      ],
      "metadata": {
        "id": "7bAgRpizW7Vj"
      },
      "execution_count": 49,
      "outputs": []
    },
    {
      "cell_type": "markdown",
      "source": [
        "## 5-3 Pandas Dataframe 데이터 추출"
      ],
      "metadata": {
        "id": "NMlsQDHtrA_x"
      }
    },
    {
      "cell_type": "code",
      "source": [
        "import pandas as pd\n",
        "\n",
        "data = {\n",
        "    \"이름\": [\"김철수\", \"이영희\", \"박민수\", \"최지훈\", \"정소희\"],\n",
        "    \"학년\": [1, 2, 3, 4, 2],\n",
        "    \"학점\": [4.2, 3.8, 4.5, 3.9, 3.5],\n",
        "    \"학과\": [\"컴퓨터학\", \"경영학\", \"농학\", \"교육학\", \"영어영문학\"],\n",
        "    \"동아리\": [\"프로그래밍\", \"독서토론\", \"로봇공학\", \"봉사활동\", \"음악감상\"]\n",
        "}\n",
        "df = pd.DataFrame(data)\n",
        "\n",
        "## DataFrame 인덱스 출력\n",
        "print(df.index)\n",
        "\n",
        "## DataFrame 컬럼 출력\n",
        "print(df.columns)\n",
        "\n",
        "## DataFrame 행 출력\n",
        "print(df.values.tolist()) #phython의 list형태\n",
        "print(df.values) #numpy형태\n",
        "\n",
        "## DataFrame 값 출력\n",
        "print(df.values.flatten()) #flatten() : 구조를 뭉개뜨리고 그냥 쭉 일렬로 나열시킬 떄 사용하는 메서드\n"
      ],
      "metadata": {
        "id": "dk3xneVAW9_g",
        "colab": {
          "base_uri": "https://localhost:8080/",
          "height": 400
        },
        "outputId": "9a71377b-3c64-4893-f175-57e101ec0e7a"
      },
      "execution_count": 46,
      "outputs": [
        {
          "output_type": "stream",
          "name": "stdout",
          "text": [
            "RangeIndex(start=0, stop=5, step=1)\n",
            "Index(['이름', '학년', '학점', '학과', '동아리'], dtype='object')\n",
            "[['김철수', 1, 4.2, '컴퓨터학', '프로그래밍'], ['이영희', 2, 3.8, '경영학', '독서토론'], ['박민수', 3, 4.5, '농학', '로봇공학'], ['최지훈', 4, 3.9, '교육학', '봉사활동'], ['정소희', 2, 3.5, '영어영문학', '음악감상']]\n",
            "[['김철수' 1 4.2 '컴퓨터학' '프로그래밍']\n",
            " ['이영희' 2 3.8 '경영학' '독서토론']\n",
            " ['박민수' 3 4.5 '농학' '로봇공학']\n",
            " ['최지훈' 4 3.9 '교육학' '봉사활동']\n",
            " ['정소희' 2 3.5 '영어영문학' '음악감상']]\n",
            "['김철수' 1 4.2 '컴퓨터학' '프로그래밍' '이영희' 2 3.8 '경영학' '독서토론' '박민수' 3 4.5 '농학'\n",
            " '로봇공학' '최지훈' 4 3.9 '교육학' '봉사활동' '정소희' 2 3.5 '영어영문학' '음악감상']\n"
          ]
        },
        {
          "output_type": "execute_result",
          "data": {
            "text/plain": [
              "    이름  학년   학점     학과    동아리\n",
              "0  김철수   1  4.2   컴퓨터학  프로그래밍\n",
              "1  이영희   2  3.8    경영학   독서토론\n",
              "2  박민수   3  4.5     농학   로봇공학\n",
              "3  최지훈   4  3.9    교육학   봉사활동\n",
              "4  정소희   2  3.5  영어영문학   음악감상"
            ],
            "text/html": [
              "\n",
              "  <div id=\"df-50a52c9a-681b-4b87-a469-3c1b45df1e2b\" class=\"colab-df-container\">\n",
              "    <div>\n",
              "<style scoped>\n",
              "    .dataframe tbody tr th:only-of-type {\n",
              "        vertical-align: middle;\n",
              "    }\n",
              "\n",
              "    .dataframe tbody tr th {\n",
              "        vertical-align: top;\n",
              "    }\n",
              "\n",
              "    .dataframe thead th {\n",
              "        text-align: right;\n",
              "    }\n",
              "</style>\n",
              "<table border=\"1\" class=\"dataframe\">\n",
              "  <thead>\n",
              "    <tr style=\"text-align: right;\">\n",
              "      <th></th>\n",
              "      <th>이름</th>\n",
              "      <th>학년</th>\n",
              "      <th>학점</th>\n",
              "      <th>학과</th>\n",
              "      <th>동아리</th>\n",
              "    </tr>\n",
              "  </thead>\n",
              "  <tbody>\n",
              "    <tr>\n",
              "      <th>0</th>\n",
              "      <td>김철수</td>\n",
              "      <td>1</td>\n",
              "      <td>4.2</td>\n",
              "      <td>컴퓨터학</td>\n",
              "      <td>프로그래밍</td>\n",
              "    </tr>\n",
              "    <tr>\n",
              "      <th>1</th>\n",
              "      <td>이영희</td>\n",
              "      <td>2</td>\n",
              "      <td>3.8</td>\n",
              "      <td>경영학</td>\n",
              "      <td>독서토론</td>\n",
              "    </tr>\n",
              "    <tr>\n",
              "      <th>2</th>\n",
              "      <td>박민수</td>\n",
              "      <td>3</td>\n",
              "      <td>4.5</td>\n",
              "      <td>농학</td>\n",
              "      <td>로봇공학</td>\n",
              "    </tr>\n",
              "    <tr>\n",
              "      <th>3</th>\n",
              "      <td>최지훈</td>\n",
              "      <td>4</td>\n",
              "      <td>3.9</td>\n",
              "      <td>교육학</td>\n",
              "      <td>봉사활동</td>\n",
              "    </tr>\n",
              "    <tr>\n",
              "      <th>4</th>\n",
              "      <td>정소희</td>\n",
              "      <td>2</td>\n",
              "      <td>3.5</td>\n",
              "      <td>영어영문학</td>\n",
              "      <td>음악감상</td>\n",
              "    </tr>\n",
              "  </tbody>\n",
              "</table>\n",
              "</div>\n",
              "    <div class=\"colab-df-buttons\">\n",
              "\n",
              "  <div class=\"colab-df-container\">\n",
              "    <button class=\"colab-df-convert\" onclick=\"convertToInteractive('df-50a52c9a-681b-4b87-a469-3c1b45df1e2b')\"\n",
              "            title=\"Convert this dataframe to an interactive table.\"\n",
              "            style=\"display:none;\">\n",
              "\n",
              "  <svg xmlns=\"http://www.w3.org/2000/svg\" height=\"24px\" viewBox=\"0 -960 960 960\">\n",
              "    <path d=\"M120-120v-720h720v720H120Zm60-500h600v-160H180v160Zm220 220h160v-160H400v160Zm0 220h160v-160H400v160ZM180-400h160v-160H180v160Zm440 0h160v-160H620v160ZM180-180h160v-160H180v160Zm440 0h160v-160H620v160Z\"/>\n",
              "  </svg>\n",
              "    </button>\n",
              "\n",
              "  <style>\n",
              "    .colab-df-container {\n",
              "      display:flex;\n",
              "      gap: 12px;\n",
              "    }\n",
              "\n",
              "    .colab-df-convert {\n",
              "      background-color: #E8F0FE;\n",
              "      border: none;\n",
              "      border-radius: 50%;\n",
              "      cursor: pointer;\n",
              "      display: none;\n",
              "      fill: #1967D2;\n",
              "      height: 32px;\n",
              "      padding: 0 0 0 0;\n",
              "      width: 32px;\n",
              "    }\n",
              "\n",
              "    .colab-df-convert:hover {\n",
              "      background-color: #E2EBFA;\n",
              "      box-shadow: 0px 1px 2px rgba(60, 64, 67, 0.3), 0px 1px 3px 1px rgba(60, 64, 67, 0.15);\n",
              "      fill: #174EA6;\n",
              "    }\n",
              "\n",
              "    .colab-df-buttons div {\n",
              "      margin-bottom: 4px;\n",
              "    }\n",
              "\n",
              "    [theme=dark] .colab-df-convert {\n",
              "      background-color: #3B4455;\n",
              "      fill: #D2E3FC;\n",
              "    }\n",
              "\n",
              "    [theme=dark] .colab-df-convert:hover {\n",
              "      background-color: #434B5C;\n",
              "      box-shadow: 0px 1px 3px 1px rgba(0, 0, 0, 0.15);\n",
              "      filter: drop-shadow(0px 1px 2px rgba(0, 0, 0, 0.3));\n",
              "      fill: #FFFFFF;\n",
              "    }\n",
              "  </style>\n",
              "\n",
              "    <script>\n",
              "      const buttonEl =\n",
              "        document.querySelector('#df-50a52c9a-681b-4b87-a469-3c1b45df1e2b button.colab-df-convert');\n",
              "      buttonEl.style.display =\n",
              "        google.colab.kernel.accessAllowed ? 'block' : 'none';\n",
              "\n",
              "      async function convertToInteractive(key) {\n",
              "        const element = document.querySelector('#df-50a52c9a-681b-4b87-a469-3c1b45df1e2b');\n",
              "        const dataTable =\n",
              "          await google.colab.kernel.invokeFunction('convertToInteractive',\n",
              "                                                    [key], {});\n",
              "        if (!dataTable) return;\n",
              "\n",
              "        const docLinkHtml = 'Like what you see? Visit the ' +\n",
              "          '<a target=\"_blank\" href=https://colab.research.google.com/notebooks/data_table.ipynb>data table notebook</a>'\n",
              "          + ' to learn more about interactive tables.';\n",
              "        element.innerHTML = '';\n",
              "        dataTable['output_type'] = 'display_data';\n",
              "        await google.colab.output.renderOutput(dataTable, element);\n",
              "        const docLink = document.createElement('div');\n",
              "        docLink.innerHTML = docLinkHtml;\n",
              "        element.appendChild(docLink);\n",
              "      }\n",
              "    </script>\n",
              "  </div>\n",
              "\n",
              "\n",
              "    <div id=\"df-559898d3-c8bf-4fcb-bb69-94c414b6b7d6\">\n",
              "      <button class=\"colab-df-quickchart\" onclick=\"quickchart('df-559898d3-c8bf-4fcb-bb69-94c414b6b7d6')\"\n",
              "                title=\"Suggest charts\"\n",
              "                style=\"display:none;\">\n",
              "\n",
              "<svg xmlns=\"http://www.w3.org/2000/svg\" height=\"24px\"viewBox=\"0 0 24 24\"\n",
              "     width=\"24px\">\n",
              "    <g>\n",
              "        <path d=\"M19 3H5c-1.1 0-2 .9-2 2v14c0 1.1.9 2 2 2h14c1.1 0 2-.9 2-2V5c0-1.1-.9-2-2-2zM9 17H7v-7h2v7zm4 0h-2V7h2v10zm4 0h-2v-4h2v4z\"/>\n",
              "    </g>\n",
              "</svg>\n",
              "      </button>\n",
              "\n",
              "<style>\n",
              "  .colab-df-quickchart {\n",
              "      --bg-color: #E8F0FE;\n",
              "      --fill-color: #1967D2;\n",
              "      --hover-bg-color: #E2EBFA;\n",
              "      --hover-fill-color: #174EA6;\n",
              "      --disabled-fill-color: #AAA;\n",
              "      --disabled-bg-color: #DDD;\n",
              "  }\n",
              "\n",
              "  [theme=dark] .colab-df-quickchart {\n",
              "      --bg-color: #3B4455;\n",
              "      --fill-color: #D2E3FC;\n",
              "      --hover-bg-color: #434B5C;\n",
              "      --hover-fill-color: #FFFFFF;\n",
              "      --disabled-bg-color: #3B4455;\n",
              "      --disabled-fill-color: #666;\n",
              "  }\n",
              "\n",
              "  .colab-df-quickchart {\n",
              "    background-color: var(--bg-color);\n",
              "    border: none;\n",
              "    border-radius: 50%;\n",
              "    cursor: pointer;\n",
              "    display: none;\n",
              "    fill: var(--fill-color);\n",
              "    height: 32px;\n",
              "    padding: 0;\n",
              "    width: 32px;\n",
              "  }\n",
              "\n",
              "  .colab-df-quickchart:hover {\n",
              "    background-color: var(--hover-bg-color);\n",
              "    box-shadow: 0 1px 2px rgba(60, 64, 67, 0.3), 0 1px 3px 1px rgba(60, 64, 67, 0.15);\n",
              "    fill: var(--button-hover-fill-color);\n",
              "  }\n",
              "\n",
              "  .colab-df-quickchart-complete:disabled,\n",
              "  .colab-df-quickchart-complete:disabled:hover {\n",
              "    background-color: var(--disabled-bg-color);\n",
              "    fill: var(--disabled-fill-color);\n",
              "    box-shadow: none;\n",
              "  }\n",
              "\n",
              "  .colab-df-spinner {\n",
              "    border: 2px solid var(--fill-color);\n",
              "    border-color: transparent;\n",
              "    border-bottom-color: var(--fill-color);\n",
              "    animation:\n",
              "      spin 1s steps(1) infinite;\n",
              "  }\n",
              "\n",
              "  @keyframes spin {\n",
              "    0% {\n",
              "      border-color: transparent;\n",
              "      border-bottom-color: var(--fill-color);\n",
              "      border-left-color: var(--fill-color);\n",
              "    }\n",
              "    20% {\n",
              "      border-color: transparent;\n",
              "      border-left-color: var(--fill-color);\n",
              "      border-top-color: var(--fill-color);\n",
              "    }\n",
              "    30% {\n",
              "      border-color: transparent;\n",
              "      border-left-color: var(--fill-color);\n",
              "      border-top-color: var(--fill-color);\n",
              "      border-right-color: var(--fill-color);\n",
              "    }\n",
              "    40% {\n",
              "      border-color: transparent;\n",
              "      border-right-color: var(--fill-color);\n",
              "      border-top-color: var(--fill-color);\n",
              "    }\n",
              "    60% {\n",
              "      border-color: transparent;\n",
              "      border-right-color: var(--fill-color);\n",
              "    }\n",
              "    80% {\n",
              "      border-color: transparent;\n",
              "      border-right-color: var(--fill-color);\n",
              "      border-bottom-color: var(--fill-color);\n",
              "    }\n",
              "    90% {\n",
              "      border-color: transparent;\n",
              "      border-bottom-color: var(--fill-color);\n",
              "    }\n",
              "  }\n",
              "</style>\n",
              "\n",
              "      <script>\n",
              "        async function quickchart(key) {\n",
              "          const quickchartButtonEl =\n",
              "            document.querySelector('#' + key + ' button');\n",
              "          quickchartButtonEl.disabled = true;  // To prevent multiple clicks.\n",
              "          quickchartButtonEl.classList.add('colab-df-spinner');\n",
              "          try {\n",
              "            const charts = await google.colab.kernel.invokeFunction(\n",
              "                'suggestCharts', [key], {});\n",
              "          } catch (error) {\n",
              "            console.error('Error during call to suggestCharts:', error);\n",
              "          }\n",
              "          quickchartButtonEl.classList.remove('colab-df-spinner');\n",
              "          quickchartButtonEl.classList.add('colab-df-quickchart-complete');\n",
              "        }\n",
              "        (() => {\n",
              "          let quickchartButtonEl =\n",
              "            document.querySelector('#df-559898d3-c8bf-4fcb-bb69-94c414b6b7d6 button');\n",
              "          quickchartButtonEl.style.display =\n",
              "            google.colab.kernel.accessAllowed ? 'block' : 'none';\n",
              "        })();\n",
              "      </script>\n",
              "    </div>\n",
              "\n",
              "  <div id=\"id_9d972b81-43d2-4b94-b96e-9255e804f029\">\n",
              "    <style>\n",
              "      .colab-df-generate {\n",
              "        background-color: #E8F0FE;\n",
              "        border: none;\n",
              "        border-radius: 50%;\n",
              "        cursor: pointer;\n",
              "        display: none;\n",
              "        fill: #1967D2;\n",
              "        height: 32px;\n",
              "        padding: 0 0 0 0;\n",
              "        width: 32px;\n",
              "      }\n",
              "\n",
              "      .colab-df-generate:hover {\n",
              "        background-color: #E2EBFA;\n",
              "        box-shadow: 0px 1px 2px rgba(60, 64, 67, 0.3), 0px 1px 3px 1px rgba(60, 64, 67, 0.15);\n",
              "        fill: #174EA6;\n",
              "      }\n",
              "\n",
              "      [theme=dark] .colab-df-generate {\n",
              "        background-color: #3B4455;\n",
              "        fill: #D2E3FC;\n",
              "      }\n",
              "\n",
              "      [theme=dark] .colab-df-generate:hover {\n",
              "        background-color: #434B5C;\n",
              "        box-shadow: 0px 1px 3px 1px rgba(0, 0, 0, 0.15);\n",
              "        filter: drop-shadow(0px 1px 2px rgba(0, 0, 0, 0.3));\n",
              "        fill: #FFFFFF;\n",
              "      }\n",
              "    </style>\n",
              "    <button class=\"colab-df-generate\" onclick=\"generateWithVariable('df')\"\n",
              "            title=\"Generate code using this dataframe.\"\n",
              "            style=\"display:none;\">\n",
              "\n",
              "  <svg xmlns=\"http://www.w3.org/2000/svg\" height=\"24px\"viewBox=\"0 0 24 24\"\n",
              "       width=\"24px\">\n",
              "    <path d=\"M7,19H8.4L18.45,9,17,7.55,7,17.6ZM5,21V16.75L18.45,3.32a2,2,0,0,1,2.83,0l1.4,1.43a1.91,1.91,0,0,1,.58,1.4,1.91,1.91,0,0,1-.58,1.4L9.25,21ZM18.45,9,17,7.55Zm-12,3A5.31,5.31,0,0,0,4.9,8.1,5.31,5.31,0,0,0,1,6.5,5.31,5.31,0,0,0,4.9,4.9,5.31,5.31,0,0,0,6.5,1,5.31,5.31,0,0,0,8.1,4.9,5.31,5.31,0,0,0,12,6.5,5.46,5.46,0,0,0,6.5,12Z\"/>\n",
              "  </svg>\n",
              "    </button>\n",
              "    <script>\n",
              "      (() => {\n",
              "      const buttonEl =\n",
              "        document.querySelector('#id_9d972b81-43d2-4b94-b96e-9255e804f029 button.colab-df-generate');\n",
              "      buttonEl.style.display =\n",
              "        google.colab.kernel.accessAllowed ? 'block' : 'none';\n",
              "\n",
              "      buttonEl.onclick = () => {\n",
              "        google.colab.notebook.generateWithVariable('df');\n",
              "      }\n",
              "      })();\n",
              "    </script>\n",
              "  </div>\n",
              "\n",
              "    </div>\n",
              "  </div>\n"
            ],
            "application/vnd.google.colaboratory.intrinsic+json": {
              "type": "dataframe",
              "variable_name": "df",
              "summary": "{\n  \"name\": \"df\",\n  \"rows\": 5,\n  \"fields\": [\n    {\n      \"column\": \"\\uc774\\ub984\",\n      \"properties\": {\n        \"dtype\": \"string\",\n        \"num_unique_values\": 5,\n        \"samples\": [\n          \"\\uc774\\uc601\\ud76c\",\n          \"\\uc815\\uc18c\\ud76c\",\n          \"\\ubc15\\ubbfc\\uc218\"\n        ],\n        \"semantic_type\": \"\",\n        \"description\": \"\"\n      }\n    },\n    {\n      \"column\": \"\\ud559\\ub144\",\n      \"properties\": {\n        \"dtype\": \"number\",\n        \"std\": 1,\n        \"min\": 1,\n        \"max\": 4,\n        \"num_unique_values\": 4,\n        \"samples\": [\n          2,\n          4,\n          1\n        ],\n        \"semantic_type\": \"\",\n        \"description\": \"\"\n      }\n    },\n    {\n      \"column\": \"\\ud559\\uc810\",\n      \"properties\": {\n        \"dtype\": \"number\",\n        \"std\": 0.3834057902536163,\n        \"min\": 3.5,\n        \"max\": 4.5,\n        \"num_unique_values\": 5,\n        \"samples\": [\n          3.8,\n          3.5,\n          4.5\n        ],\n        \"semantic_type\": \"\",\n        \"description\": \"\"\n      }\n    },\n    {\n      \"column\": \"\\ud559\\uacfc\",\n      \"properties\": {\n        \"dtype\": \"string\",\n        \"num_unique_values\": 5,\n        \"samples\": [\n          \"\\uacbd\\uc601\\ud559\",\n          \"\\uc601\\uc5b4\\uc601\\ubb38\\ud559\",\n          \"\\ub18d\\ud559\"\n        ],\n        \"semantic_type\": \"\",\n        \"description\": \"\"\n      }\n    },\n    {\n      \"column\": \"\\ub3d9\\uc544\\ub9ac\",\n      \"properties\": {\n        \"dtype\": \"string\",\n        \"num_unique_values\": 5,\n        \"samples\": [\n          \"\\ub3c5\\uc11c\\ud1a0\\ub860\",\n          \"\\uc74c\\uc545\\uac10\\uc0c1\",\n          \"\\ub85c\\ubd07\\uacf5\\ud559\"\n        ],\n        \"semantic_type\": \"\",\n        \"description\": \"\"\n      }\n    }\n  ]\n}"
            }
          },
          "metadata": {},
          "execution_count": 46
        }
      ]
    },
    {
      "cell_type": "markdown",
      "source": [
        "## 5-4 DataFrame 생성 방법"
      ],
      "metadata": {
        "id": "ILJd1GLoseqm"
      }
    },
    {
      "cell_type": "code",
      "source": [
        "import pandas as pd\n",
        "import json\n",
        "\n",
        "data = {\n",
        "    \"이름\": [\"김철수\", \"이영희\", \"박민수\", \"최지훈\", \"정소희\"],\n",
        "    \"학년\": [1, 2, 3, 4, 2],\n",
        "    \"학점\": [4.2, 3.8, 4.5, 3.9, 3.5],\n",
        "    \"학과\": [\"컴퓨터공학\", \"경영학\", \"전자공학\", \"의학\", \"심리학\"],\n",
        "    \"동아리\": [\"프로그래밍\", \"독서토론\", \"로봇공학\", \"봉사활동\", \"음악감상\"]\n",
        "}\n",
        "\n",
        "## 딕셔너리, csv, json으로 부터 DataFrame 생성\n",
        "df1 = pd.DataFrame.from_dict(data)\n",
        "df2 = pd.read_csv('students.csv')\n",
        "df3 = pd.read_json('students.json')\n",
        "\n",
        "## 세가지 방법 결과 비교\n",
        "print(df1.shape) #표의 행과 열이 몇개씩 있는지?\n",
        "print(df2.shape)\n",
        "print(df3.shape)\n"
      ],
      "metadata": {
        "id": "ISnPLEgNXAmi",
        "colab": {
          "base_uri": "https://localhost:8080/"
        },
        "outputId": "462a38a5-8f81-4603-a86a-44e79057268e"
      },
      "execution_count": 24,
      "outputs": [
        {
          "output_type": "stream",
          "name": "stdout",
          "text": [
            "(5, 5)\n",
            "(5, 5)\n",
            "(5, 5)\n"
          ]
        }
      ]
    },
    {
      "cell_type": "markdown",
      "source": [
        "## 5-5 DataFrame 저장 방법"
      ],
      "metadata": {
        "id": "z1N6lAnwsdyU"
      }
    },
    {
      "cell_type": "code",
      "source": [
        "import pandas as pd\n",
        "\n",
        "data = {\n",
        "    \"이름\": [\"김철수\", \"이영희\", \"박민수\", \"최지훈\", \"정소희\"],\n",
        "    \"학년\": [1, 2, 3, 4, 2],\n",
        "    \"학점\": [4.2, 3.8, 4.5, 3.9, 3.5],\n",
        "    \"학과\": [\"컴퓨터공학\", \"경영학\", \"전자공학\", \"의학\", \"심리학\"],\n",
        "    \"동아리\": [\"프로그래밍\", \"독서토론\", \"로봇공학\", \"봉사활동\", \"음악감상\"]\n",
        "}\n",
        "\n",
        "## Dataframe 생성\n",
        "df = pd.DataFrame(data)\n",
        "\n",
        "## CSV, JSON 형식으로 저장\n",
        "df.to_csv('students_scores.csv')\n",
        "df.to_json('students_scores.json')\n",
        "\n",
        "## HTML 형식으로 저장\n",
        "html_table = df.to_html()\n",
        "with open('students_scores.html', 'w') as f:\n",
        "    f.write(html_table)"
      ],
      "metadata": {
        "id": "_dqoWCRoXDrJ"
      },
      "execution_count": 26,
      "outputs": []
    },
    {
      "cell_type": "markdown",
      "source": [
        "## 5-6 실습 시나리오(공공데이터 사이트 이슈문제로 서울시 공공데이터 사이트걸로 작업해서 수업과 내용다름)"
      ],
      "metadata": {
        "id": "ifBFAyulsdJb"
      }
    },
    {
      "cell_type": "markdown",
      "source": [
        "## 데이터 수집"
      ],
      "metadata": {
        "id": "muFj6okKyXy6"
      }
    },
    {
      "cell_type": "code",
      "source": [
        "import requests\n",
        "\n",
        "url = \"http://openapi.seoul.go.kr:8088/(api_key번호쓰기)/json/energyUseDataSummaryInfo/1/100/\"\n",
        "api_key = 'api_key번호쓰기'\n",
        "\n",
        "params = {\n",
        "    'KEY': api_key,\n",
        "    'TYPE': 'json',\n",
        "    'SERVICE': 'energyUseDataSummaryInfo',\n",
        "    'START_INDEX': '1',\n",
        "    'END_INDEX': '100',\n",
        "    'YEAR' : '2025'\n",
        "}\n",
        "\n",
        "## 데이터 수집\n",
        "response = requests.get(url, params=params)\n",
        "\n",
        "## 호출 성공/실패 출력\n",
        "print(response.json())\n"
      ],
      "metadata": {
        "id": "7yCozmQeXJcO",
        "colab": {
          "base_uri": "https://localhost:8080/"
        },
        "outputId": "47072795-5f09-465b-9e42-a0a40808a632"
      },
      "execution_count": 39,
      "outputs": [
        {
          "output_type": "stream",
          "name": "stdout",
          "text": [
            "{'energyUseDataSummaryInfo': {'list_total_count': 1241, 'RESULT': {'CODE': 'INFO-000', 'MESSAGE': '정상 처리되었습니다'}, 'row': [{'YEAR': '2025', 'MON': '06', 'MM_TYPE': '개인', 'CNT': '1269454', 'EUS': '278745288', 'EUS1': '275851011', 'EUS2': '273151435', 'ECO2_1': '4244065', 'ECO2_2': '2076623.656', 'GUS': '13084768', 'GUS1': '11889039', 'GUS2': '12094650', 'GCO2_1': '1091102', 'GCO2_2': '2182204', 'WUS': '14927683.6', 'WUS1': '15166284.8', 'WUS2': '15371662.2', 'WCO2_1': '-341289.9', 'WCO2_2': '-611822.446', 'HUS': '379182.22', 'HUS1': '368839.049', 'HUS2': '389847.167', 'HCO2_1': '-160.888', 'HCO2_2': '-22448.67848156', 'REG_DATE': '2025-09-01 04:02:15.0'}, {'YEAR': '2025', 'MON': '06', 'MM_TYPE': '학교', 'CNT': '6745', 'EUS': '117808793', 'EUS1': '114793127', 'EUS2': '114623246', 'ECO2_1': '3100606.5', 'ECO2_2': '3096973.668', 'GUS': '2093441', 'GUS1': '2046804', 'GUS2': '2061648', 'GCO2_1': '39207', 'GCO2_2': '78414', 'WUS': '1824338.2', 'WUS1': '1914804.2', 'WUS2': '1956560.2', 'WCO2_1': '-111344', 'WCO2_2': '-333633.134', 'HUS': '8.03', 'HUS1': '8.03', 'HUS2': '8.03', 'HCO2_1': '0', 'HCO2_2': '0', 'REG_DATE': '2025-09-01 04:02:15.0'}, {'YEAR': '2025', 'MON': '06', 'MM_TYPE': '공동주택관리소', 'CNT': '3729', 'EUS': '498863841', 'EUS1': '496003195', 'EUS2': '488758810', 'ECO2_1': '6482838.5', 'ECO2_2': '6482838.5', 'GUS': '2853437', 'GUS1': '2552964', 'GUS2': '2586972', 'GCO2_1': '283460.5', 'GCO2_2': '566921', 'WUS': '20407812.7', 'WUS1': '20616193.4', 'WUS2': '20794568.4', 'WCO2_1': '-297568.2', 'WCO2_2': '-892704.6', 'HUS': '0', 'HUS1': '0', 'HUS2': '0', 'HCO2_1': '0', 'HCO2_2': '0', 'REG_DATE': '2025-09-01 04:02:15.0'}, {'YEAR': '2025', 'MON': '06', 'MM_TYPE': '종교단체', 'CNT': '849', 'EUS': '6205342', 'EUS1': '6171454', 'EUS2': '6094109', 'ECO2_1': '72560.5', 'ECO2_2': '72560.5', 'GUS': '139336', 'GUS1': '152116', 'GUS2': '141705', 'GCO2_1': '-7575', 'GCO2_2': '-15150', 'WUS': '52228', 'WUS1': '51779', 'WUS2': '49094', 'WCO2_1': '1791.5', 'WCO2_2': '5374.5', 'HUS': '0', 'HUS1': '0', 'HUS2': '0', 'HCO2_1': '0', 'HCO2_2': '0', 'REG_DATE': '2025-09-01 04:02:15.0'}, {'YEAR': '2025', 'MON': '06', 'MM_TYPE': '소상공인', 'CNT': '53274', 'EUS': '96254029', 'EUS1': '98122772', 'EUS2': '98464917', 'ECO2_1': '-2039815.5', 'ECO2_2': '-2043866.22', 'GUS': '1638563', 'GUS1': '1647690', 'GUS2': '1687480', 'GCO2_1': '-27668', 'GCO2_2': '-55336', 'WUS': '1526737.8', 'WUS1': '1541313.8', 'WUS2': '1576869.2', 'WCO2_1': '-32353.7', 'WCO2_2': '-97437.288', 'HUS': '2', 'HUS1': '2', 'HUS2': '2', 'HCO2_1': '0', 'HCO2_2': '0', 'REG_DATE': '2025-09-01 04:02:15.0'}, {'YEAR': '2025', 'MON': '06', 'MM_TYPE': '기업', 'CNT': '19503', 'EUS': '631237607', 'EUS1': '640855479', 'EUS2': '644378910', 'ECO2_1': '-11379587.5', 'ECO2_2': '-11379587.5', 'GUS': '23213929', 'GUS1': '19747106', 'GUS2': '18226209', 'GCO2_1': '4228682', 'GCO2_2': '8457364', 'WUS': '4526388.6', 'WUS1': '4647195.2', 'WUS2': '4706367.8', 'WCO2_1': '-150392.9', 'WCO2_2': '-451178.7', 'HUS': '0', 'HUS1': '0', 'HUS2': '0', 'HCO2_1': '0', 'HCO2_2': '0', 'REG_DATE': '2025-09-01 04:02:15.0'}, {'YEAR': '2025', 'MON': '06', 'MM_TYPE': '공공기관', 'CNT': '2453', 'EUS': '144076282', 'EUS1': '145305812', 'EUS2': '145642575', 'ECO2_1': '-1397911.5', 'ECO2_2': '-1397911.5', 'GUS': '2208801', 'GUS1': '2015057', 'GUS2': '2335892', 'GCO2_1': '33315', 'GCO2_2': '66630', 'WUS': '966210.2', 'WUS1': '923619.4', 'WUS2': '909851', 'WCO2_1': '49475', 'WCO2_2': '148425', 'HUS': '0', 'HUS1': '0', 'HUS2': '0', 'HCO2_1': '0', 'HCO2_2': '0', 'REG_DATE': '2025-09-01 04:02:15.0'}, {'YEAR': '2025', 'MON': '05', 'MM_TYPE': '학교', 'CNT': '6743', 'EUS': '99662057', 'EUS1': '96463639', 'EUS2': '98471343', 'ECO2_1': '2194566', 'ECO2_2': '2189835.888', 'GUS': '2040258', 'GUS1': '1833144', 'GUS2': '1993346', 'GCO2_1': '127242.5', 'GCO2_2': '254485', 'WUS': '1845458.8', 'WUS1': '1848137.6', 'WUS2': '1892982.2', 'WCO2_1': '-25101.1', 'WCO2_2': '-75839.568', 'HUS': '823.916', 'HUS1': '656.124', 'HUS2': '817.924', 'HCO2_1': '86.892', 'HCO2_2': '-55.860284', 'REG_DATE': '2025-08-01 04:02:19.0'}, {'YEAR': '2025', 'MON': '05', 'MM_TYPE': '기업', 'CNT': '19485', 'EUS': '559470958', 'EUS1': '574702204', 'EUS2': '583911251', 'ECO2_1': '-19835769.5', 'ECO2_2': '-19835769.5', 'GUS': '27783360', 'GUS1': '22131931', 'GUS2': '23721899', 'GCO2_1': '4857387', 'GCO2_2': '9714774', 'WUS': '4222583.6', 'WUS1': '4268030.5', 'WUS2': '4115368.4', 'WCO2_1': '30884.15', 'WCO2_2': '92652.45', 'HUS': '0', 'HUS1': '0', 'HUS2': '0', 'HCO2_1': '0', 'HCO2_2': '0', 'REG_DATE': '2025-08-01 04:02:19.0'}, {'YEAR': '2025', 'MON': '05', 'MM_TYPE': '소상공인', 'CNT': '53202', 'EUS': '80966250', 'EUS1': '83446742', 'EUS2': '83449791', 'ECO2_1': '-2482016.5', 'ECO2_2': '-2481682.708', 'GUS': '1774611', 'GUS1': '1749311', 'GUS2': '1800796', 'GCO2_1': '1085.5', 'GCO2_2': '2171', 'WUS': '1354417.6', 'WUS1': '1377376.4', 'WUS2': '1365071.4', 'WCO2_1': '-16806.3', 'WCO2_2': '-50604.326', 'HUS': '129', 'HUS1': '52', 'HUS2': '56', 'HCO2_1': '75', 'HCO2_2': '73.684628', 'REG_DATE': '2025-08-01 04:02:19.0'}, {'YEAR': '2025', 'MON': '05', 'MM_TYPE': '공공기관', 'CNT': '2457', 'EUS': '129049524', 'EUS1': '129604914', 'EUS2': '132054744', 'ECO2_1': '-1780305', 'ECO2_2': '-1780305', 'GUS': '2256305', 'GUS1': '2121232', 'GUS2': '2243182', 'GCO2_1': '74105', 'GCO2_2': '148210', 'WUS': '1174410', 'WUS1': '1131957', 'WUS2': '1125997.2', 'WCO2_1': '45432.9', 'WCO2_2': '136298.7', 'HUS': '0', 'HUS1': '0', 'HUS2': '0', 'HCO2_1': '0', 'HCO2_2': '0', 'REG_DATE': '2025-08-01 04:02:19.0'}, {'YEAR': '2025', 'MON': '05', 'MM_TYPE': '종교단체', 'CNT': '846', 'EUS': '5267681', 'EUS1': '5186496', 'EUS2': '5297933', 'ECO2_1': '25466.5', 'ECO2_2': '25466.5', 'GUS': '191799', 'GUS1': '151059', 'GUS2': '157765', 'GCO2_1': '37347.5', 'GCO2_2': '74695', 'WUS': '40484', 'WUS1': '40625', 'WUS2': '41241', 'WCO2_1': '-449', 'WCO2_2': '-1347', 'HUS': '0', 'HUS1': '0', 'HUS2': '0', 'HCO2_1': '0', 'HCO2_2': '0', 'REG_DATE': '2025-08-01 04:02:19.0'}, {'YEAR': '2025', 'MON': '05', 'MM_TYPE': '개인', 'CNT': '1267045', 'EUS': '252933188', 'EUS1': '250346438', 'EUS2': '254684361', 'ECO2_1': '417788.5', 'ECO2_2': '104182.42', 'GUS': '22647443', 'GUS1': '18259779', 'GUS2': '21021908', 'GCO2_1': '2998836', 'GCO2_2': '5997672', 'WUS': '14091291', 'WUS1': '14394553.8', 'WUS2': '14505197.9', 'WCO2_1': '-358584.85', 'WCO2_2': '-559918.094', 'HUS': '1347912.069', 'HUS1': '9627300.618', 'HUS2': '4726840.242', 'HCO2_1': '-5829158.361', 'HCO2_2': '-23663090.49314236', 'REG_DATE': '2025-08-01 04:02:19.0'}, {'YEAR': '2025', 'MON': '05', 'MM_TYPE': '공동주택관리소', 'CNT': '3723', 'EUS': '457327735', 'EUS1': '452736578', 'EUS2': '458511731', 'ECO2_1': '1703580.5', 'ECO2_2': '1703580.5', 'GUS': '4543940', 'GUS1': '3494762', 'GUS2': '4100399', 'GCO2_1': '746373', 'GCO2_2': '1492746', 'WUS': '20124507.3', 'WUS1': '20309330', 'WUS2': '19973416.6', 'WCO2_1': '-16866', 'WCO2_2': '-50598', 'HUS': '0', 'HUS1': '0', 'HUS2': '0', 'HCO2_1': '0', 'HCO2_2': '0', 'REG_DATE': '2025-08-01 04:02:19.0'}, {'YEAR': '2025', 'MON': '04', 'MM_TYPE': '개인', 'CNT': '1266364', 'EUS': '263191871', 'EUS1': '262174429', 'EUS2': '261156939', 'ECO2_1': '1526187', 'ECO2_2': '913174.68', 'GUS': '36754800', 'GUS1': '35798858', 'GUS2': '31843888', 'GCO2_1': '2943478.5', 'GCO2_2': '5886957', 'WUS': '14184236.9', 'WUS1': '14560388.3', 'WUS2': '14466544.3', 'WCO2_1': '-329229.4', 'WCO2_2': '-547534.9', 'HUS': '5120775.254', 'HUS1': '3380314.055', 'HUS2': '4345219.205', 'HCO2_1': '1258008.624', 'HCO2_2': '1707494.004361976', 'REG_DATE': '2025-07-01 04:02:02.0'}, {'YEAR': '2025', 'MON': '04', 'MM_TYPE': '학교', 'CNT': '6745', 'EUS': '121622537', 'EUS1': '115732819', 'EUS2': '108862511', 'ECO2_1': '9324872', 'ECO2_2': '9318343.616', 'GUS': '3410915', 'GUS1': '3429448', 'GUS2': '3058383', 'GCO2_1': '168476', 'GCO2_2': '336952', 'WUS': '1530676.4', 'WUS1': '1593076.8', 'WUS2': '1564036', 'WCO2_1': '-47880', 'WCO2_2': '-144552.456', 'HUS': '4295.074', 'HUS1': '2880.076', 'HUS2': '4291.235', 'HCO2_1': '709.4185', 'HCO2_2': '1134.35233', 'REG_DATE': '2025-07-01 04:02:02.0'}, {'YEAR': '2025', 'MON': '04', 'MM_TYPE': '종교단체', 'CNT': '845', 'EUS': '6235347', 'EUS1': '6024555', 'EUS2': '5665799', 'ECO2_1': '390170', 'ECO2_2': '390170', 'GUS': '323698', 'GUS1': '325759', 'GUS2': '282493', 'GCO2_1': '19598.5', 'GCO2_2': '39197', 'WUS': '44448', 'WUS1': '44113', 'WUS2': '43364', 'WCO2_1': '709.5', 'WCO2_2': '2128.5', 'HUS': '0', 'HUS1': '0', 'HUS2': '0', 'HCO2_1': '0', 'HCO2_2': '0', 'REG_DATE': '2025-07-01 04:02:02.0'}, {'YEAR': '2025', 'MON': '04', 'MM_TYPE': '소상공인', 'CNT': '53137', 'EUS': '85657629', 'EUS1': '85776755', 'EUS2': '84047964', 'ECO2_1': '745269.5', 'ECO2_2': '744587.804', 'GUS': '2225340', 'GUS1': '2284030', 'GUS2': '2152904', 'GCO2_1': '7845', 'GCO2_2': '15690', 'WUS': '1428590.2', 'WUS1': '1445559.9', 'WUS2': '1443190.4', 'WCO2_1': '-15784.95', 'WCO2_2': '-47585.632', 'HUS': '375.03', 'HUS1': '259.03', 'HUS2': '253.03', 'HCO2_1': '119', 'HCO2_2': '43.835696', 'REG_DATE': '2025-07-01 04:02:02.0'}, {'YEAR': '2025', 'MON': '04', 'MM_TYPE': '공공기관', 'CNT': '2457', 'EUS': '131525815', 'EUS1': '131284216', 'EUS2': '128451550', 'ECO2_1': '1657932', 'ECO2_2': '1657932', 'GUS': '3142610', 'GUS1': '3020637', 'GUS2': '2916336', 'GCO2_1': '174370', 'GCO2_2': '348740', 'WUS': '881591.4', 'WUS1': '827438.5', 'WUS2': '816277', 'WCO2_1': '59733.65', 'WCO2_2': '179200.95', 'HUS': '0', 'HUS1': '0', 'HUS2': '0', 'HCO2_1': '0', 'HCO2_2': '0', 'REG_DATE': '2025-07-01 04:02:02.0'}, {'YEAR': '2025', 'MON': '04', 'MM_TYPE': '기업', 'CNT': '19484', 'EUS': '536624626', 'EUS1': '544296390', 'EUS2': '534328953', 'ECO2_1': '-2688045.5', 'ECO2_2': '-2688045.5', 'GUS': '35490004', 'GUS1': '35891136', 'GUS2': '30822875', 'GCO2_1': '2133348.5', 'GCO2_2': '4266697', 'WUS': '4130400.4', 'WUS1': '4117042', 'WUS2': '4136253.6', 'WCO2_1': '3752.6', 'WCO2_2': '11257.8', 'HUS': '0', 'HUS1': '0', 'HUS2': '0', 'HCO2_1': '0', 'HCO2_2': '0', 'REG_DATE': '2025-07-01 04:02:02.0'}, {'YEAR': '2025', 'MON': '04', 'MM_TYPE': '공동주택관리소', 'CNT': '3727', 'EUS': '481039636', 'EUS1': '477622414', 'EUS2': '474616307', 'ECO2_1': '4920275.5', 'ECO2_2': '4920275.5', 'GUS': '8077071', 'GUS1': '7989312', 'GUS2': '6742533', 'GCO2_1': '711243.5', 'GCO2_2': '1422487', 'WUS': '19600709', 'WUS1': '20027589.9', 'WUS2': '19730796.4', 'WCO2_1': '-278484.15', 'WCO2_2': '-835452.45', 'HUS': '0', 'HUS1': '0', 'HUS2': '0', 'HCO2_1': '0', 'HCO2_2': '0', 'REG_DATE': '2025-07-01 04:02:02.0'}, {'YEAR': '2025', 'MON': '03', 'MM_TYPE': '공동주택관리소', 'CNT': '3718', 'EUS': '480451586', 'EUS1': '486422421', 'EUS2': '467374564', 'ECO2_1': '3553093.5', 'ECO2_2': '3553093.5', 'GUS': '11779998', 'GUS1': '10809400', 'GUS2': '10219623', 'GCO2_1': '1265565.5', 'GCO2_2': '2531131', 'WUS': '19033532.3', 'WUS1': '19512076.9', 'WUS2': '19036420.2', 'WCO2_1': '-240716.25', 'WCO2_2': '-722148.75', 'HUS': '0', 'HUS1': '0', 'HUS2': '0', 'HCO2_1': '0', 'HCO2_2': '0', 'REG_DATE': '2025-06-01 04:02:06.0'}, {'YEAR': '2025', 'MON': '03', 'MM_TYPE': '소상공인', 'CNT': '53107', 'EUS': '93533471', 'EUS1': '91888483', 'EUS2': '88814109', 'ECO2_1': '3182175', 'ECO2_2': '3181590.36', 'GUS': '2813296', 'GUS1': '2718163', 'GUS2': '2711789', 'GCO2_1': '99342', 'GCO2_2': '198684', 'WUS': '1346659', 'WUS1': '1362708.4', 'WUS2': '1353940.6', 'WCO2_1': '-11665.5', 'WCO2_2': '-35059.198', 'HUS': '1387.22', 'HUS1': '1518.36', 'HUS2': '1084.13', 'HCO2_1': '85.975', 'HCO2_2': '97.570388', 'REG_DATE': '2025-06-01 04:02:06.0'}, {'YEAR': '2025', 'MON': '03', 'MM_TYPE': '공공기관', 'CNT': '2458', 'EUS': '137616694', 'EUS1': '138060377', 'EUS2': '134016209', 'ECO2_1': '1578401', 'ECO2_2': '1578401', 'GUS': '4871302', 'GUS1': '4058997', 'GUS2': '4141133', 'GCO2_1': '771380', 'GCO2_2': '1542760', 'WUS': '1198151.6', 'WUS1': '1128659.2', 'WUS2': '1200280.6', 'WCO2_1': '33681.7', 'WCO2_2': '101045.1', 'HUS': '0', 'HUS1': '0', 'HUS2': '0', 'HCO2_1': '0', 'HCO2_2': '0', 'REG_DATE': '2025-06-01 04:02:06.0'}, {'YEAR': '2025', 'MON': '03', 'MM_TYPE': '기업', 'CNT': '19469', 'EUS': '561738627', 'EUS1': '563200614', 'EUS2': '558083079', 'ECO2_1': '1096780.5', 'ECO2_2': '1096780.5', 'GUS': '59642824', 'GUS1': '44227664', 'GUS2': '39719613', 'GCO2_1': '17675303.5', 'GCO2_2': '35350607', 'WUS': '3960388.8', 'WUS1': '4004600.6', 'WUS2': '3931034.6', 'WCO2_1': '-7428.8', 'WCO2_2': '-22286.4', 'HUS': '0', 'HUS1': '0', 'HUS2': '0', 'HCO2_1': '0', 'HCO2_2': '0', 'REG_DATE': '2025-06-01 04:02:06.0'}, {'YEAR': '2025', 'MON': '03', 'MM_TYPE': '종교단체', 'CNT': '847', 'EUS': '7694939', 'EUS1': '7386614', 'EUS2': '6830204', 'ECO2_1': '586530', 'ECO2_2': '586530', 'GUS': '533203', 'GUS1': '479502', 'GUS2': '493913', 'GCO2_1': '46495.5', 'GCO2_2': '92991', 'WUS': '39709', 'WUS1': '41454', 'WUS2': '39082', 'WCO2_1': '-559', 'WCO2_2': '-1677', 'HUS': '0', 'HUS1': '0', 'HUS2': '0', 'HCO2_1': '0', 'HCO2_2': '0', 'REG_DATE': '2025-06-01 04:02:06.0'}, {'YEAR': '2025', 'MON': '03', 'MM_TYPE': '개인', 'CNT': '1263017', 'EUS': '261517383', 'EUS1': '265455748', 'EUS2': '257255870', 'ECO2_1': '161574', 'ECO2_2': '85710.48', 'GUS': '58342246', 'GUS1': '54969552', 'GUS2': '51814187', 'GCO2_1': '4953957', 'GCO2_2': '9907914', 'WUS': '13775615.2', 'WUS1': '14060089.3', 'WUS2': '14092941.2', 'WCO2_1': '-300900.05', 'WCO2_2': '-455244.534', 'HUS': '11813284.178', 'HUS1': '13500723.586', 'HUS2': '10457891.67', 'HCO2_1': '-166023.45', 'HCO2_2': '-565440.150085508', 'REG_DATE': '2025-06-01 04:02:06.0'}, {'YEAR': '2025', 'MON': '03', 'MM_TYPE': '학교', 'CNT': '6745', 'EUS': '141691270', 'EUS1': '135902628', 'EUS2': '127276191', 'ECO2_1': '10101860.5', 'ECO2_2': '10095173.716', 'GUS': '4376397', 'GUS1': '3943517', 'GUS2': '4035705', 'GCO2_1': '387532', 'GCO2_2': '775064', 'WUS': '1267061.4', 'WUS1': '1249702', 'WUS2': '1320726', 'WCO2_1': '-18152.6', 'WCO2_2': '-54353.748', 'HUS': '11395.151', 'HUS1': '12429.443', 'HUS2': '11712.863', 'HCO2_1': '-676.002', 'HCO2_2': '-1941.092154', 'REG_DATE': '2025-06-01 04:02:06.0'}, {'YEAR': '2025', 'MON': '02', 'MM_TYPE': '공공기관', 'CNT': '2458', 'EUS': '154395163', 'EUS1': '149949296', 'EUS2': '152990855', 'ECO2_1': '2925087.5', 'ECO2_2': '2925087.5', 'GUS': '5932930', 'GUS1': '5520470', 'GUS2': '5777003', 'GCO2_1': '284913', 'GCO2_2': '569826', 'WUS': '919586', 'WUS1': '882073.6', 'WUS2': '853765.4', 'WCO2_1': '51666.5', 'WCO2_2': '154999.5', 'HUS': '0', 'HUS1': '0', 'HUS2': '0', 'HCO2_1': '0', 'HCO2_2': '0', 'REG_DATE': '2025-05-01 04:02:19.0'}, {'YEAR': '2025', 'MON': '02', 'MM_TYPE': '개인', 'CNT': '1260975', 'EUS': '289958608', 'EUS1': '286834122', 'EUS2': '287382696', 'ECO2_1': '2850199', 'ECO2_2': '1678072.12', 'GUS': '71777198', 'GUS1': '65495555', 'GUS2': '70012745', 'GCO2_1': '4044480.5', 'GCO2_2': '8088961', 'WUS': '14095885.6', 'WUS1': '14454859.7', 'WUS2': '14610803.7', 'WCO2_1': '-436946.1', 'WCO2_2': '-755160.6', 'HUS': '24191201.182', 'HUS1': '18708281.14', 'HUS2': '19538177.055', 'HCO2_1': '5067972.0845', 'HCO2_2': '5993276.769773452', 'REG_DATE': '2025-05-01 04:02:19.0'}, {'YEAR': '2025', 'MON': '02', 'MM_TYPE': '학교', 'CNT': '6743', 'EUS': '162026648', 'EUS1': '150167604', 'EUS2': '156498830', 'ECO2_1': '8693431', 'ECO2_2': '8689163.416', 'GUS': '5058198', 'GUS1': '4850197', 'GUS2': '5204482', 'GCO2_1': '37734', 'GCO2_2': '75468', 'WUS': '1514159', 'WUS1': '1642481.8', 'WUS2': '1716495.6', 'WCO2_1': '-165329.7', 'WCO2_2': '-495631.588', 'HUS': '23522.992', 'HUS1': '18491.333', 'HUS2': '20026.809', 'HCO2_1': '4263.921', 'HCO2_2': '10140.66937', 'REG_DATE': '2025-05-01 04:02:19.0'}, {'YEAR': '2025', 'MON': '02', 'MM_TYPE': '종교단체', 'CNT': '848', 'EUS': '9534139', 'EUS1': '8710025', 'EUS2': '9010537', 'ECO2_1': '673858', 'ECO2_2': '673858', 'GUS': '623530', 'GUS1': '574565', 'GUS2': '643026', 'GCO2_1': '15934.5', 'GCO2_2': '31869', 'WUS': '43322', 'WUS1': '46153', 'WUS2': '44412', 'WCO2_1': '-1960.5', 'WCO2_2': '-5881.5', 'HUS': '0', 'HUS1': '0', 'HUS2': '0', 'HCO2_1': '0', 'HCO2_2': '0', 'REG_DATE': '2025-05-01 04:02:19.0'}, {'YEAR': '2025', 'MON': '02', 'MM_TYPE': '기업', 'CNT': '19465', 'EUS': '597107261', 'EUS1': '577410955', 'EUS2': '586006438', 'ECO2_1': '15398564.5', 'ECO2_2': '15398564.5', 'GUS': '57626278', 'GUS1': '63185461', 'GUS2': '55555430', 'GCO2_1': '-1742088', 'GCO2_2': '-3484176', 'WUS': '4223091.7', 'WUS1': '4388038.1', 'WUS2': '4318507.7', 'WCO2_1': '-130181.2', 'WCO2_2': '-390543.6', 'HUS': '0', 'HUS1': '0', 'HUS2': '0', 'HCO2_1': '0', 'HCO2_2': '0', 'REG_DATE': '2025-05-01 04:02:19.0'}, {'YEAR': '2025', 'MON': '02', 'MM_TYPE': '소상공인', 'CNT': '53068', 'EUS': '110858068', 'EUS1': '107221292', 'EUS2': '110965277', 'ECO2_1': '1764783.5', 'ECO2_2': '1762192.94', 'GUS': '3298750', 'GUS1': '3184726', 'GUS2': '3332810', 'GCO2_1': '42262', 'GCO2_2': '84524', 'WUS': '1504907.4', 'WUS1': '1555867.1', 'WUS2': '1538476.2', 'WCO2_1': '-42264.25', 'WCO2_2': '-126940.824', 'HUS': '3104.55', 'HUS1': '1898.68', 'HUS2': '2211.41', 'HCO2_1': '1049.505', 'HCO2_2': '402.479492', 'REG_DATE': '2025-05-01 04:02:19.0'}, {'YEAR': '2025', 'MON': '02', 'MM_TYPE': '공동주택관리소', 'CNT': '3718', 'EUS': '542372980', 'EUS1': '531574982', 'EUS2': '532815300', 'ECO2_1': '10177839', 'ECO2_2': '10177839', 'GUS': '13966098', 'GUS1': '13296407', 'GUS2': '13770916', 'GCO2_1': '432495', 'GCO2_2': '864990', 'WUS': '20193780.9', 'WUS1': '20240173.8', 'WUS2': '20507653.8', 'WCO2_1': '-180132.9', 'WCO2_2': '-540398.7', 'HUS': '0', 'HUS1': '0', 'HUS2': '0', 'HCO2_1': '0', 'HCO2_2': '0', 'REG_DATE': '2025-05-01 04:02:19.0'}, {'YEAR': '2025', 'MON': '01', 'MM_TYPE': '공공기관', 'CNT': '2458', 'EUS': '159137367', 'EUS1': '161224118', 'EUS2': '165177059', 'ECO2_1': '-4063221.5', 'ECO2_2': '-4063221.5', 'GUS': '5245062', 'GUS1': '6339106', 'GUS2': '6122197', 'GCO2_1': '-985669.5', 'GCO2_2': '-1971339', 'WUS': '1109496.9', 'WUS1': '1067063.3', 'WUS2': '1048332.2', 'WCO2_1': '51799.15', 'WCO2_2': '155397.45', 'HUS': '0', 'HUS1': '0', 'HUS2': '0', 'HCO2_1': '0', 'HCO2_2': '0', 'REG_DATE': '2025-04-01 04:02:46.0'}, {'YEAR': '2025', 'MON': '01', 'MM_TYPE': '소상공인', 'CNT': '53019', 'EUS': '111945712', 'EUS1': '114049923', 'EUS2': '120313258', 'ECO2_1': '-5235878.5', 'ECO2_2': '-5237135.908', 'GUS': '3102284', 'GUS1': '3279503', 'GUS2': '3594021', 'GCO2_1': '-332550.5', 'GCO2_2': '-665101', 'WUS': '1390522.2', 'WUS1': '1363196.9', 'WUS2': '1397802.9', 'WCO2_1': '10022.3', 'WCO2_2': '29960.18', 'HUS': '3087.55', 'HUS1': '2659.77', 'HUS2': '2832.88', 'HCO2_1': '341.225', 'HCO2_2': '-607.186672', 'REG_DATE': '2025-04-01 04:02:46.0'}, {'YEAR': '2025', 'MON': '01', 'MM_TYPE': '학교', 'CNT': '6742', 'EUS': '174125879', 'EUS1': '173813498', 'EUS2': '185119071', 'ECO2_1': '-5340405.5', 'ECO2_2': '-5343449.948', 'GUS': '5507366', 'GUS1': '5712886', 'GUS2': '6539420', 'GCO2_1': '-615130', 'GCO2_2': '-1230260', 'WUS': '1820916.8', 'WUS1': '1838629', 'WUS2': '1820578.6', 'WCO2_1': '-8687', 'WCO2_2': '-42295.78', 'HUS': '40951.684', 'HUS1': '27033.356', 'HUS2': '28244.802', 'HCO2_1': '13312.605', 'HCO2_2': '63242.726616', 'REG_DATE': '2025-04-01 04:02:46.0'}, {'YEAR': '2025', 'MON': '01', 'MM_TYPE': '종교단체', 'CNT': '849', 'EUS': '9663487', 'EUS1': '9820536', 'EUS2': '10044709', 'ECO2_1': '-269135.5', 'ECO2_2': '-269135.5', 'GUS': '538785', 'GUS1': '574357', 'GUS2': '665228', 'GCO2_1': '-80898', 'GCO2_2': '-161796', 'WUS': '45011', 'WUS1': '44737', 'WUS2': '44089', 'WCO2_1': '598', 'WCO2_2': '1794', 'HUS': '0', 'HUS1': '0', 'HUS2': '0', 'HCO2_1': '0', 'HCO2_2': '0', 'REG_DATE': '2025-04-01 04:02:46.0'}, {'YEAR': '2025', 'MON': '01', 'MM_TYPE': '공동주택관리소', 'CNT': '3717', 'EUS': '549306970', 'EUS1': '553171963', 'EUS2': '562732975', 'ECO2_1': '-8645499', 'ECO2_2': '-8645499', 'GUS': '12897492', 'GUS1': '13018588', 'GUS2': '14635031', 'GCO2_1': '-929317.5', 'GCO2_2': '-1858635', 'WUS': '19747538.2', 'WUS1': '19813169.6', 'WUS2': '19835823.1', 'WCO2_1': '-76958.15', 'WCO2_2': '-230874.45', 'HUS': '0', 'HUS1': '0', 'HUS2': '0', 'HCO2_1': '0', 'HCO2_2': '0', 'REG_DATE': '2025-04-01 04:02:46.0'}, {'YEAR': '2025', 'MON': '01', 'MM_TYPE': '기업', 'CNT': '19458', 'EUS': '624104890', 'EUS1': '643139445', 'EUS2': '659133378', 'ECO2_1': '-27031521.5', 'ECO2_2': '-27031521.5', 'GUS': '58727315', 'GUS1': '59074550', 'GUS2': '57721631', 'GCO2_1': '342601', 'GCO2_2': '685202', 'WUS': '4215302.2', 'WUS1': '4177674.4', 'WUS2': '4187370.8', 'WCO2_1': '32779.6', 'WCO2_2': '98338.8', 'HUS': '0', 'HUS1': '0', 'HUS2': '0', 'HCO2_1': '0', 'HCO2_2': '0', 'REG_DATE': '2025-04-01 04:02:46.0'}, {'YEAR': '2025', 'MON': '01', 'MM_TYPE': '개인', 'CNT': '1254911', 'EUS': '293836031', 'EUS1': '294950734', 'EUS2': '299856505', 'ECO2_1': '-3567588.5', 'ECO2_2': '-3390415.508', 'GUS': '64743317', 'GUS1': '65640270', 'GUS2': '70129681', 'GCO2_1': '-3112082', 'GCO2_2': '-6224164', 'WUS': '14290250.9', 'WUS1': '14349702.2', 'WUS2': '14658723.9', 'WCO2_1': '-213962.15', 'WCO2_2': '-343069.116', 'HUS': '26079633.15', 'HUS1': '26915271.488', 'HUS2': '28567284.736', 'HCO2_1': '-1661644.962', 'HCO2_2': '-1825469.852831888', 'REG_DATE': '2025-04-01 04:02:46.0'}, {'YEAR': '2024', 'MON': '12', 'MM_TYPE': '공동주택관리소', 'CNT': '3716', 'EUS': '548480228', 'EUS1': '557799290', 'EUS2': '559693904', 'ECO2_1': '-10266369', 'ECO2_2': '-10266369', 'GUS': '8221238', 'GUS1': '9759209', 'GUS2': '9093999', 'GCO2_1': '-1114991.5', 'GCO2_2': '-2229983', 'WUS': '20262147.7', 'WUS1': '20228097.5', 'WUS2': '20488646.8', 'WCO2_1': '-96224.45', 'WCO2_2': '-288673.35', 'HUS': '0', 'HUS1': '0', 'HUS2': '0', 'HCO2_1': '0', 'HCO2_2': '0', 'REG_DATE': '2025-03-01 04:02:55.0'}, {'YEAR': '2024', 'MON': '12', 'MM_TYPE': '소상공인', 'CNT': '53031', 'EUS': '101773064', 'EUS1': '105830842', 'EUS2': '106996097', 'ECO2_1': '-4640405.5', 'ECO2_2': '-4640315.356', 'GUS': '2544825', 'GUS1': '2719970', 'GUS2': '2842004', 'GCO2_1': '-234683', 'GCO2_2': '-469366', 'WUS': '1560686.6', 'WUS1': '1540086.6', 'WUS2': '1542971', 'WCO2_1': '19157.8', 'WCO2_2': '57349.338', 'HUS': '360', 'HUS1': '395', 'HUS2': '470', 'HCO2_1': '-72.5', 'HCO2_2': '-288.695', 'REG_DATE': '2025-03-01 04:02:55.0'}, {'YEAR': '2024', 'MON': '12', 'MM_TYPE': '공공기관', 'CNT': '2459', 'EUS': '152992881', 'EUS1': '161100765', 'EUS2': '162060905', 'ECO2_1': '-8587954', 'ECO2_2': '-8587954', 'GUS': '3814815', 'GUS1': '4485938', 'GUS2': '4347791', 'GCO2_1': '-601856', 'GCO2_2': '-1203712', 'WUS': '896842', 'WUS1': '854671.2', 'WUS2': '833317.4', 'WCO2_1': '52847.7', 'WCO2_2': '158543.1', 'HUS': '0', 'HUS1': '0', 'HUS2': '0', 'HCO2_1': '0', 'HCO2_2': '0', 'REG_DATE': '2025-03-01 04:02:55.0'}, {'YEAR': '2024', 'MON': '12', 'MM_TYPE': '학교', 'CNT': '6742', 'EUS': '164092999', 'EUS1': '170867152', 'EUS2': '169660376', 'ECO2_1': '-6170678', 'ECO2_2': '-6172770.32', 'GUS': '4362563', 'GUS1': '4794450', 'GUS2': '4840884', 'GCO2_1': '-452916.5', 'GCO2_2': '-905833', 'WUS': '1858841', 'WUS1': '1898794', 'WUS2': '1939698.4', 'WCO2_1': '-60405.2', 'WCO2_2': '-181607.796', 'HUS': '1062.62', 'HUS1': '902.03', 'HUS2': '1220.91', 'HCO2_1': '1.15', 'HCO2_2': '3.3315', 'REG_DATE': '2025-03-01 04:02:55.0'}, {'YEAR': '2024', 'MON': '12', 'MM_TYPE': '종교단체', 'CNT': '847', 'EUS': '7922631', 'EUS1': '8361049', 'EUS2': '8016890', 'ECO2_1': '-266338.5', 'ECO2_2': '-266338.5', 'GUS': '309429', 'GUS1': '378759', 'GUS2': '355715', 'GCO2_1': '-57056.5', 'GCO2_2': '-114113', 'WUS': '51695', 'WUS1': '48661', 'WUS2': '48241', 'WCO2_1': '3244', 'WCO2_2': '9732', 'HUS': '0', 'HUS1': '0', 'HUS2': '0', 'HCO2_1': '0', 'HCO2_2': '0', 'REG_DATE': '2025-03-01 04:02:55.0'}, {'YEAR': '2024', 'MON': '12', 'MM_TYPE': '개인', 'CNT': '1250620', 'EUS': '134828126', 'EUS1': '138280636', 'EUS2': '138879530', 'ECO2_1': '-3751957', 'ECO2_2': '-3504709', 'GUS': '42103424', 'GUS1': '47763373', 'GUS2': '46794290', 'GCO2_1': '-5135298', 'GCO2_2': '-10270596', 'WUS': '7326853.6', 'WUS1': '7440605', 'WUS2': '7625718.9', 'WCO2_1': '-206308.35', 'WCO2_2': '-573725.128', 'HUS': '1513199.277', 'HUS1': '1598857.184', 'HUS2': '1781397.386', 'HCO2_1': '-176928.008', 'HCO2_2': '-376996.699240516', 'REG_DATE': '2025-03-01 04:02:55.0'}, {'YEAR': '2024', 'MON': '12', 'MM_TYPE': '기업', 'CNT': '19451', 'EUS': '633735769', 'EUS1': '641412053', 'EUS2': '669494932', 'ECO2_1': '-21717723.5', 'ECO2_2': '-21717723.5', 'GUS': '30096486', 'GUS1': '45742965', 'GUS2': '34384677', 'GCO2_1': '-9960022.5', 'GCO2_2': '-19920045', 'WUS': '4448777.4', 'WUS1': '4406465.4', 'WUS2': '4396396.4', 'WCO2_1': '47346.5', 'WCO2_2': '142039.5', 'HUS': '0', 'HUS1': '0', 'HUS2': '0', 'HCO2_1': '0', 'HCO2_2': '0', 'REG_DATE': '2025-03-01 04:02:55.0'}, {'YEAR': '2024', 'MON': '11', 'MM_TYPE': '학교', 'CNT': '6737', 'EUS': '114681352', 'EUS1': '121672088', 'EUS2': '115718834', 'ECO2_1': '-4014109', 'ECO2_2': '-4015420.264', 'GUS': '1191882', 'GUS1': '1272649', 'GUS2': '1529356', 'GCO2_1': '-208971', 'GCO2_2': '-417942', 'WUS': '1895457.4', 'WUS1': '1924656.6', 'WUS2': '1867820.2', 'WCO2_1': '-781', 'WCO2_2': '-1733.362', 'HUS': '8225.641', 'HUS1': '15064.331', 'HUS2': '9617.42', 'HCO2_1': '-4115.2345', 'HCO2_2': '-12501.137296', 'REG_DATE': '2025-02-01 04:02:31.0'}, {'YEAR': '2024', 'MON': '11', 'MM_TYPE': '소상공인', 'CNT': '52701', 'EUS': '88200257', 'EUS1': '91249175', 'EUS2': '88513537', 'ECO2_1': '-1681099', 'ECO2_2': '-1682933.848', 'GUS': '1486211', 'GUS1': '1575755', 'GUS2': '1677396', 'GCO2_1': '-138497.5', 'GCO2_2': '-276995', 'WUS': '1462455.8', 'WUS1': '1432459.5', 'WUS2': '1410209.4', 'WCO2_1': '41121.35', 'WCO2_2': '123015.876', 'HUS': '987', 'HUS1': '1331', 'HUS2': '1220', 'HCO2_1': '-288.5', 'HCO2_2': '-1061.209864', 'REG_DATE': '2025-02-01 04:02:31.0'}, {'YEAR': '2024', 'MON': '11', 'MM_TYPE': '개인', 'CNT': '1251707', 'EUS': '257927956', 'EUS1': '263362159', 'EUS2': '265181268', 'ECO2_1': '-6343757.5', 'ECO2_2': '-4509835.42', 'GUS': '17418221', 'GUS1': '21047532', 'GUS2': '24761264', 'GCO2_1': '-5467227.5', 'GCO2_2': '-10934455', 'WUS': '14678672.5', 'WUS1': '14789968.4', 'WUS2': '15060759.3', 'WCO2_1': '-246691.35', 'WCO2_2': '-261007.97', 'HUS': '8836296.454', 'HUS1': '12932546.397', 'HUS2': '10390187.837', 'HCO2_1': '-2825070.663', 'HCO2_2': '-3892157.038064492', 'REG_DATE': '2025-02-01 04:02:31.0'}, {'YEAR': '2024', 'MON': '11', 'MM_TYPE': '공동주택관리소', 'CNT': '3716', 'EUS': '513006108', 'EUS1': '520865343', 'EUS2': '517968502', 'ECO2_1': '-6410814.5', 'ECO2_2': '-6410814.5', 'GUS': '2805906', 'GUS1': '3097258', 'GUS2': '4254575', 'GCO2_1': '-870201.5', 'GCO2_2': '-1740403', 'WUS': '20058538.8', 'WUS1': '20111429.6', 'WUS2': '20288869.6', 'WCO2_1': '-141610.8', 'WCO2_2': '-424832.4', 'HUS': '0', 'HUS1': '0', 'HUS2': '0', 'HCO2_1': '0', 'HCO2_2': '0', 'REG_DATE': '2025-02-01 04:02:31.0'}, {'YEAR': '2024', 'MON': '11', 'MM_TYPE': '공공기관', 'CNT': '2456', 'EUS': '141281942', 'EUS1': '145555106', 'EUS2': '141150651', 'ECO2_1': '-2070936.5', 'ECO2_2': '-2070936.5', 'GUS': '1070872', 'GUS1': '1130138', 'GUS2': '1360783', 'GCO2_1': '-174588.5', 'GCO2_2': '-349177', 'WUS': '1298952.2', 'WUS1': '1249794.4', 'WUS2': '1117201.2', 'WCO2_1': '115454.4', 'WCO2_2': '346363.2', 'HUS': '0', 'HUS1': '0', 'HUS2': '0', 'HCO2_1': '0', 'HCO2_2': '0', 'REG_DATE': '2025-02-01 04:02:31.0'}, {'YEAR': '2024', 'MON': '11', 'MM_TYPE': '기업', 'CNT': '19435', 'EUS': '598631634', 'EUS1': '587770481', 'EUS2': '572937864', 'ECO2_1': '18277461.5', 'ECO2_2': '18277461.5', 'GUS': '12400064', 'GUS1': '14444671', 'GUS2': '14116451', 'GCO2_1': '-1879883', 'GCO2_2': '-3759766', 'WUS': '4594903.6', 'WUS1': '4375363.1', 'WUS2': '4321442', 'WCO2_1': '246501.05', 'WCO2_2': '739503.15', 'HUS': '0', 'HUS1': '0', 'HUS2': '0', 'HCO2_1': '0', 'HCO2_2': '0', 'REG_DATE': '2025-02-01 04:02:31.0'}, {'YEAR': '2024', 'MON': '11', 'MM_TYPE': '종교단체', 'CNT': '848', 'EUS': '5676334', 'EUS1': '6023258', 'EUS2': '5692935', 'ECO2_1': '-181762.5', 'ECO2_2': '-181762.5', 'GUS': '119920', 'GUS1': '114857', 'GUS2': '142698', 'GCO2_1': '-8850.5', 'GCO2_2': '-17701', 'WUS': '50375', 'WUS1': '47628', 'WUS2': '44398', 'WCO2_1': '4362', 'WCO2_2': '13086', 'HUS': '0', 'HUS1': '0', 'HUS2': '0', 'HCO2_1': '0', 'HCO2_2': '0', 'REG_DATE': '2025-02-01 04:02:31.0'}, {'YEAR': '2024', 'MON': '10', 'MM_TYPE': '학교', 'CNT': '6733', 'EUS': '115103626', 'EUS1': '106444485', 'EUS2': '107842818', 'ECO2_1': '7959974.5', 'ECO2_2': '7951382.02', 'GUS': '1669712', 'GUS1': '1614829', 'GUS2': '1490040', 'GCO2_1': '117461.5', 'GCO2_2': '234923', 'WUS': '1795325.4', 'WUS1': '1910438.6', 'WUS2': '1766434.2', 'WCO2_1': '-43111', 'WCO2_2': '-130116.058', 'HUS': '974.188', 'HUS1': '1953.183', 'HUS2': '3138.018', 'HCO2_1': '-1571.4125', 'HCO2_2': '-2650.624498', 'REG_DATE': '2025-01-01 04:02:38.0'}, {'YEAR': '2024', 'MON': '10', 'MM_TYPE': '소상공인', 'CNT': '52360', 'EUS': '98550603', 'EUS1': '92468461', 'EUS2': '92900164', 'ECO2_1': '5866290.5', 'ECO2_2': '5861400.548', 'GUS': '1370244', 'GUS1': '1409880', 'GUS2': '1486413', 'GCO2_1': '-75717', 'GCO2_2': '-151434', 'WUS': '1689455.6', 'WUS1': '1680333.9', 'WUS2': '1601534', 'WCO2_1': '48521.65', 'WCO2_2': '145306.154', 'HUS': '76', 'HUS1': '473', 'HUS2': '573', 'HCO2_1': '-447', 'HCO2_2': '-760.641872', 'REG_DATE': '2025-01-01 04:02:38.0'}, {'YEAR': '2024', 'MON': '10', 'MM_TYPE': '종교단체', 'CNT': '846', 'EUS': '6432735', 'EUS1': '5992884', 'EUS2': '5753892', 'ECO2_1': '559347', 'ECO2_2': '559347', 'GUS': '162714', 'GUS1': '165997', 'GUS2': '134884', 'GCO2_1': '12273.5', 'GCO2_2': '24547', 'WUS': '61242', 'WUS1': '57479', 'WUS2': '53761', 'WCO2_1': '5622', 'WCO2_2': '16866', 'HUS': '0', 'HUS1': '0', 'HUS2': '0', 'HCO2_1': '0', 'HCO2_2': '0', 'REG_DATE': '2025-01-01 04:02:38.0'}, {'YEAR': '2024', 'MON': '10', 'MM_TYPE': '공동주택관리소', 'CNT': '3714', 'EUS': '552698258', 'EUS1': '516428706', 'EUS2': '510905591', 'ECO2_1': '39031109.5', 'ECO2_2': '39031109.5', 'GUS': '1537542', 'GUS1': '1578100', 'GUS2': '1791884', 'GCO2_1': '-147450', 'GCO2_2': '-294900', 'WUS': '20951446.8', 'WUS1': '20582497.6', 'WUS2': '20857970.1', 'WCO2_1': '231212.95', 'WCO2_2': '693638.85', 'HUS': '0', 'HUS1': '0', 'HUS2': '0', 'HCO2_1': '0', 'HCO2_2': '0', 'REG_DATE': '2025-01-01 04:02:38.0'}, {'YEAR': '2024', 'MON': '10', 'MM_TYPE': '기업', 'CNT': '19429', 'EUS': '610283824', 'EUS1': '588734512', 'EUS2': '595170523', 'ECO2_1': '18331306.5', 'ECO2_2': '18331306.5', 'GUS': '15754501', 'GUS1': '16535150', 'GUS2': '14261837', 'GCO2_1': '356011.5', 'GCO2_2': '712023', 'WUS': '5377667', 'WUS1': '5161785.4', 'WUS2': '4921412.2', 'WCO2_1': '336068.2', 'WCO2_2': '1008204.6', 'HUS': '0', 'HUS1': '0', 'HUS2': '0', 'HCO2_1': '0', 'HCO2_2': '0', 'REG_DATE': '2025-01-01 04:02:38.0'}, {'YEAR': '2024', 'MON': '10', 'MM_TYPE': '공공기관', 'CNT': '2437', 'EUS': '150992531', 'EUS1': '140433495', 'EUS2': '143689146', 'ECO2_1': '8931210.5', 'ECO2_2': '8931210.5', 'GUS': '1248185', 'GUS1': '1242537', 'GUS2': '1182038', 'GCO2_1': '35897.5', 'GCO2_2': '71795', 'WUS': '1107020.8', 'WUS1': '1050022.4', 'WUS2': '936852.6', 'WCO2_1': '113583.3', 'WCO2_2': '340749.9', 'HUS': '0', 'HUS1': '0', 'HUS2': '0', 'HCO2_1': '0', 'HCO2_2': '0', 'REG_DATE': '2025-01-01 04:02:38.0'}, {'YEAR': '2024', 'MON': '10', 'MM_TYPE': '개인', 'CNT': '1249966', 'EUS': '282268119', 'EUS1': '264132620', 'EUS2': '263389786', 'ECO2_1': '18506916', 'ECO2_2': '14379201.216', 'GUS': '8233421', 'GUS1': '9935192', 'GUS2': '12171887', 'GCO2_1': '-2811331.5', 'GCO2_2': '-5622663', 'WUS': '15297669.9', 'WUS1': '15372349.4', 'WUS2': '15520212.2', 'WCO2_1': '-148610.9', 'WCO2_2': '-189025.694', 'HUS': '2695491.396', 'HUS1': '3326775.236', 'HUS2': '4339830.387', 'HCO2_1': '-1137811.4155', 'HCO2_2': '-1573249.33785276', 'REG_DATE': '2025-01-01 04:02:38.0'}, {'YEAR': '2024', 'MON': '09', 'MM_TYPE': '공동주택관리소', 'CNT': '3714', 'EUS': '760853331', 'EUS1': '653319317', 'EUS2': '593942556', 'ECO2_1': '137222394.5', 'ECO2_2': '137222394.5', 'GUS': '1550594', 'GUS1': '1629293', 'GUS2': '1642326', 'GCO2_1': '-85215.5', 'GCO2_2': '-170431', 'WUS': '20776020.6', 'WUS1': '20847307.1', 'WUS2': '21192982', 'WCO2_1': '-244123.95', 'WCO2_2': '-732371.85', 'HUS': '0', 'HUS1': '0', 'HUS2': '0', 'HCO2_1': '0', 'HCO2_2': '0', 'REG_DATE': '2024-12-01 04:02:35.0'}, {'YEAR': '2024', 'MON': '09', 'MM_TYPE': '공공기관', 'CNT': '2440', 'EUS': '187875055', 'EUS1': '183901926', 'EUS2': '171218971', 'ECO2_1': '10314606.5', 'ECO2_2': '10314606.5', 'GUS': '1697108', 'GUS1': '1674166', 'GUS2': '1614988', 'GCO2_1': '52531', 'GCO2_2': '105062', 'WUS': '1524589', 'WUS1': '1501372.2', 'WUS2': '1329069.2', 'WCO2_1': '109368.3', 'WCO2_2': '328104.9', 'HUS': '0', 'HUS1': '0', 'HUS2': '0', 'HCO2_1': '0', 'HCO2_2': '0', 'REG_DATE': '2024-12-01 04:02:35.0'}, {'YEAR': '2024', 'MON': '09', 'MM_TYPE': '개인', 'CNT': '1247288', 'EUS': '409872908', 'EUS1': '342666115', 'EUS2': '310147714', 'ECO2_1': '83465993.5', 'ECO2_2': '55322607.868', 'GUS': '5729131', 'GUS1': '6441102', 'GUS2': '7816577', 'GCO2_1': '-1395882.5', 'GCO2_2': '-2791765', 'WUS': '15143321.6', 'WUS1': '15233981.2', 'WUS2': '15608153.2', 'WCO2_1': '-277745.6', 'WCO2_2': '-760889.978', 'HUS': '3420507.136', 'HUS1': '3427066.313', 'HUS2': '3432770.307', 'HCO2_1': '-9411.174', 'HCO2_2': '-25382.3841398', 'REG_DATE': '2024-12-01 04:02:35.0'}, {'YEAR': '2024', 'MON': '09', 'MM_TYPE': '학교', 'CNT': '6734', 'EUS': '156741536', 'EUS1': '147099848', 'EUS2': '128541409', 'ECO2_1': '18920907.5', 'ECO2_2': '18887272.844', 'GUS': '1874292', 'GUS1': '1701334', 'GUS2': '1531085', 'GCO2_1': '257934', 'GCO2_2': '515868', 'WUS': '1715645.2', 'WUS1': '1689290.4', 'WUS2': '1719399.4', 'WCO2_1': '11300.3', 'WCO2_2': '34407.82', 'HUS': '1', 'HUS1': '1', 'HUS2': '1', 'HCO2_1': '0', 'HCO2_2': '0', 'REG_DATE': '2024-12-01 04:02:35.0'}, {'YEAR': '2024', 'MON': '09', 'MM_TYPE': '소상공인', 'CNT': '52400', 'EUS': '133894850', 'EUS1': '124709217', 'EUS2': '114663812', 'ECO2_1': '14208335.5', 'ECO2_2': '14196543.34', 'GUS': '1454687', 'GUS1': '1467975', 'GUS2': '1519793', 'GCO2_1': '-36980', 'GCO2_2': '-73960', 'WUS': '1557596.8', 'WUS1': '1558181.6', 'WUS2': '1542256.4', 'WCO2_1': '7377.8', 'WCO2_2': '21921.294', 'HUS': '0', 'HUS1': '0', 'HUS2': '0', 'HCO2_1': '0', 'HCO2_2': '0', 'REG_DATE': '2024-12-01 04:02:35.0'}, {'YEAR': '2024', 'MON': '09', 'MM_TYPE': '기업', 'CNT': '19450', 'EUS': '742787183', 'EUS1': '713886345', 'EUS2': '683362396', 'ECO2_1': '44162812.5', 'ECO2_2': '44162812.5', 'GUS': '22085380', 'GUS1': '21184309', 'GUS2': '19751950', 'GCO2_1': '1618063', 'GCO2_2': '3236126', 'WUS': '5586965.2', 'WUS1': '5404502', 'WUS2': '5340886', 'WCO2_1': '214271.2', 'WCO2_2': '642813.6', 'HUS': '0', 'HUS1': '0', 'HUS2': '0', 'HCO2_1': '0', 'HCO2_2': '0', 'REG_DATE': '2024-12-01 04:02:35.0'}, {'YEAR': '2024', 'MON': '09', 'MM_TYPE': '종교단체', 'CNT': '848', 'EUS': '9159167', 'EUS1': '8355332', 'EUS2': '7215125', 'ECO2_1': '1373938.5', 'ECO2_2': '1373938.5', 'GUS': '207125', 'GUS1': '202220', 'GUS2': '177310', 'GCO2_1': '17360', 'GCO2_2': '34720', 'WUS': '48690', 'WUS1': '48880', 'WUS2': '47929', 'WCO2_1': '285.5', 'WCO2_2': '856.5', 'HUS': '0', 'HUS1': '0', 'HUS2': '0', 'HCO2_1': '0', 'HCO2_2': '0', 'REG_DATE': '2024-12-01 04:02:35.0'}, {'YEAR': '2024', 'MON': '08', 'MM_TYPE': '개인', 'CNT': '1242696', 'EUS': '463971328', 'EUS1': '422847493', 'EUS2': '405133667', 'ECO2_1': '49980748', 'ECO2_2': '27164821.792', 'GUS': '7072251', 'GUS1': '7118717', 'GUS2': '7375704', 'GCO2_1': '-171960', 'GCO2_2': '-343920', 'WUS': '15873544.6', 'WUS1': '15899281.6', 'WUS2': '16383386.2', 'WCO2_1': '-267789.3', 'WCO2_2': '-227512.116', 'HUS': '130082.263', 'HUS1': '131589.763', 'HUS2': '131798.413', 'HCO2_1': '-1611.825', 'HCO2_2': '-1073.761514', 'REG_DATE': '2024-11-01 04:04:00.0'}, {'YEAR': '2024', 'MON': '08', 'MM_TYPE': '종교단체', 'CNT': '847', 'EUS': '9717678', 'EUS1': '9362542', 'EUS2': '8951131', 'ECO2_1': '560841.5', 'ECO2_2': '560841.5', 'GUS': '176486', 'GUS1': '189477', 'GUS2': '180322', 'GCO2_1': '-8413', 'GCO2_2': '-16826', 'WUS': '58929', 'WUS1': '57756', 'WUS2': '57227', 'WCO2_1': '1437.5', 'WCO2_2': '4312.5', 'HUS': '0', 'HUS1': '0', 'HUS2': '0', 'HCO2_1': '0', 'HCO2_2': '0', 'REG_DATE': '2024-11-01 04:04:00.0'}, {'YEAR': '2024', 'MON': '08', 'MM_TYPE': '공동주택관리소', 'CNT': '3706', 'EUS': '828359593', 'EUS1': '769149223', 'EUS2': '738579506', 'ECO2_1': '74495228.5', 'ECO2_2': '74495228.5', 'GUS': '1757138', 'GUS1': '1714611', 'GUS2': '1742992', 'GCO2_1': '28336.5', 'GCO2_2': '56673', 'WUS': '21154163.3', 'WUS1': '21121581.3', 'WUS2': '21584474.4', 'WCO2_1': '-198864.55', 'WCO2_2': '-596593.65', 'HUS': '0', 'HUS1': '0', 'HUS2': '0', 'HCO2_1': '0', 'HCO2_2': '0', 'REG_DATE': '2024-11-01 04:04:00.0'}, {'YEAR': '2024', 'MON': '08', 'MM_TYPE': '학교', 'CNT': '6710', 'EUS': '146917686', 'EUS1': '139945846', 'EUS2': '133069901', 'ECO2_1': '10409812.5', 'ECO2_2': '10384995.252', 'GUS': '1880071', 'GUS1': '1806446', 'GUS2': '1871711', 'GCO2_1': '40595.5', 'GCO2_2': '81191', 'WUS': '1893085', 'WUS1': '1904613.8', 'WUS2': '1947440.2', 'WCO2_1': '-32942', 'WCO2_2': '-99232.87', 'HUS': '2', 'HUS1': '2', 'HUS2': '2', 'HCO2_1': '0', 'HCO2_2': '0', 'REG_DATE': '2024-11-01 04:04:00.0'}, {'YEAR': '2024', 'MON': '08', 'MM_TYPE': '기업', 'CNT': '19424', 'EUS': '829756839', 'EUS1': '804043244', 'EUS2': '791423541', 'ECO2_1': '32023446.5', 'ECO2_2': '32023446.5', 'GUS': '19218204', 'GUS1': '20096822', 'GUS2': '21106878', 'GCO2_1': '-1382995.5', 'GCO2_2': '-2765991', 'WUS': '5444222', 'WUS1': '5372789.8', 'WUS2': '5415855.6', 'WCO2_1': '49899.3', 'WCO2_2': '149697.9', 'HUS': '0', 'HUS1': '0', 'HUS2': '0', 'HCO2_1': '0', 'HCO2_2': '0', 'REG_DATE': '2024-11-01 04:04:00.0'}, {'YEAR': '2024', 'MON': '08', 'MM_TYPE': '소상공인', 'CNT': '52029', 'EUS': '140242211', 'EUS1': '135629010', 'EUS2': '133856687', 'ECO2_1': '5499362.5', 'ECO2_2': '5486683.3', 'GUS': '1495502', 'GUS1': '1527446', 'GUS2': '1570921', 'GCO2_1': '-52309.5', 'GCO2_2': '-104619', 'WUS': '1702631.8', 'WUS1': '1680039', 'WUS2': '1699205.4', 'WCO2_1': '13009.6', 'WCO2_2': '38880.726', 'HUS': '0', 'HUS1': '0', 'HUS2': '0', 'HCO2_1': '0', 'HCO2_2': '0', 'REG_DATE': '2024-11-01 04:04:00.0'}, {'YEAR': '2024', 'MON': '08', 'MM_TYPE': '공공기관', 'CNT': '2377', 'EUS': '206182864', 'EUS1': '201516630', 'EUS2': '199596046', 'ECO2_1': '5626526', 'ECO2_2': '5626526', 'GUS': '1664256', 'GUS1': '1649112', 'GUS2': '1713546', 'GCO2_1': '-17072.5', 'GCO2_2': '-34145', 'WUS': '1101950.2', 'WUS1': '1038186.8', 'WUS2': '1001161.2', 'WCO2_1': '82276.2', 'WCO2_2': '246828.6', 'HUS': '0', 'HUS1': '0', 'HUS2': '0', 'HCO2_1': '0', 'HCO2_2': '0', 'REG_DATE': '2024-11-01 04:04:00.0'}, {'YEAR': '2024', 'MON': '07', 'MM_TYPE': '학교', 'CNT': '6703', 'EUS': '133961701', 'EUS1': '131380244', 'EUS2': '133406671', 'ECO2_1': '1568243.5', 'ECO2_2': '1569052.78', 'GUS': '2840036', 'GUS1': '2632519', 'GUS2': '2629071', 'GCO2_1': '209285', 'GCO2_2': '418570', 'WUS': '1956275.2', 'WUS1': '1906168.4', 'WUS2': '1941590.6', 'WCO2_1': '32395.7', 'WCO2_2': '107204.106', 'HUS': '10880', 'HUS1': '10880', 'HUS2': '10880', 'HCO2_1': '0', 'HCO2_2': '0', 'REG_DATE': '2024-10-01 04:03:13.0'}, {'YEAR': '2024', 'MON': '07', 'MM_TYPE': '개인', 'CNT': '1240181', 'EUS': '340000663', 'EUS1': '339452144', 'EUS2': '355063962', 'ECO2_1': '-7257390', 'ECO2_2': '-4910695.728', 'GUS': '8319412', 'GUS1': '8154693', 'GUS2': '8975921', 'GCO2_1': '-243027', 'GCO2_2': '-486054', 'WUS': '14992942.2', 'WUS1': '15074118.2', 'WUS2': '15524494.754', 'WCO2_1': '-306364.277', 'WCO2_2': '-495397.089', 'HUS': '2173041.617', 'HUS1': '1927890.587', 'HUS2': '1927239.627', 'HCO2_1': '245476.51', 'HCO2_2': '985292.898118', 'REG_DATE': '2024-10-01 04:03:13.0'}, {'YEAR': '2024', 'MON': '07', 'MM_TYPE': '종교단체', 'CNT': '845', 'EUS': '7697942', 'EUS1': '7637122', 'EUS2': '7506726', 'ECO2_1': '126018', 'ECO2_2': '126018', 'GUS': '185316', 'GUS1': '189213', 'GUS2': '170040', 'GCO2_1': '5691.5', 'GCO2_2': '11383', 'WUS': '46299', 'WUS1': '44172', 'WUS2': '42045', 'WCO2_1': '3190.5', 'WCO2_2': '9571.5', 'HUS': '0', 'HUS1': '0', 'HUS2': '0', 'HCO2_1': '0', 'HCO2_2': '0', 'REG_DATE': '2024-10-01 04:03:13.0'}, {'YEAR': '2024', 'MON': '07', 'MM_TYPE': '소상공인', 'CNT': '51673', 'EUS': '113130197', 'EUS1': '113001705', 'EUS2': '116483482', 'ECO2_1': '-1612396.5', 'ECO2_2': '-1618776.564', 'GUS': '1676563', 'GUS1': '1663717', 'GUS2': '1729057', 'GCO2_1': '-17821.5', 'GCO2_2': '-35643', 'WUS': '1492331.6', 'WUS1': '1481104.6', 'WUS2': '1495630.4', 'WCO2_1': '3964.1', 'WCO2_2': '11722.882', 'HUS': '0', 'HUS1': '0', 'HUS2': '0', 'HCO2_1': '0', 'HCO2_2': '0', 'REG_DATE': '2024-10-01 04:03:13.0'}, {'YEAR': '2024', 'MON': '07', 'MM_TYPE': '기업', 'CNT': '19408', 'EUS': '719681895', 'EUS1': '716279362', 'EUS2': '731666363', 'ECO2_1': '-4290967.5', 'ECO2_2': '-4290967.5', 'GUS': '19447156', 'GUS1': '19009530', 'GUS2': '19221588', 'GCO2_1': '332641.5', 'GCO2_2': '665283', 'WUS': '4806670.8', 'WUS1': '4778957.2', 'WUS2': '4757728.4', 'WCO2_1': '38328', 'WCO2_2': '114984', 'HUS': '0', 'HUS1': '0', 'HUS2': '0', 'HCO2_1': '0', 'HCO2_2': '0', 'REG_DATE': '2024-10-01 04:03:13.0'}, {'YEAR': '2024', 'MON': '07', 'MM_TYPE': '공공기관', 'CNT': '2376', 'EUS': '172794661', 'EUS1': '172116727', 'EUS2': '176608945', 'ECO2_1': '-1568175', 'ECO2_2': '-1568175', 'GUS': '2627711', 'GUS1': '2826916', 'GUS2': '2870426', 'GCO2_1': '-220962', 'GCO2_2': '-441924', 'WUS': '1346946.6', 'WUS1': '1289853.6', 'WUS2': '1233499.2', 'WCO2_1': '85270.2', 'WCO2_2': '255810.6', 'HUS': '0', 'HUS1': '0', 'HUS2': '0', 'HCO2_1': '0', 'HCO2_2': '0', 'REG_DATE': '2024-10-01 04:03:13.0'}, {'YEAR': '2024', 'MON': '07', 'MM_TYPE': '공동주택관리소', 'CNT': '3703', 'EUS': '587716452', 'EUS1': '588741026', 'EUS2': '609669467', 'ECO2_1': '-11488794.5', 'ECO2_2': '-11488794.5', 'GUS': '2070715', 'GUS1': '1960680', 'GUS2': '2048559', 'GCO2_1': '66074.5', 'GCO2_2': '132149', 'WUS': '20567288.5', 'WUS1': '20329970.5', 'WUS2': '20853007.8', 'WCO2_1': '-24200.65', 'WCO2_2': '-72601.95', 'HUS': '0', 'HUS1': '0', 'HUS2': '0', 'HCO2_1': '0', 'HCO2_2': '0', 'REG_DATE': '2024-10-01 04:03:13.0'}, {'YEAR': '2024', 'MON': '06', 'MM_TYPE': '공공기관', 'CNT': '2369', 'EUS': '146351318', 'EUS1': '146717502', 'EUS2': '143998471', 'ECO2_1': '993331.5', 'ECO2_2': '993331.5', 'GUS': '2038035', 'GUS1': '2400437', 'GUS2': '2107524', 'GCO2_1': '-215972.5', 'GCO2_2': '-431945', 'WUS': '914568.4', 'WUS1': '899815', 'WUS2': '814324.2', 'WCO2_1': '57498.8', 'WCO2_2': '172496.4', 'HUS': '0', 'HUS1': '0', 'HUS2': '0', 'HCO2_1': '0', 'HCO2_2': '0', 'REG_DATE': '2024-09-01 04:02:26.0'}, {'YEAR': '2024', 'MON': '06', 'MM_TYPE': '종교단체', 'CNT': '844', 'EUS': '6174762', 'EUS1': '6101132', 'EUS2': '5627839', 'ECO2_1': '310276.5', 'ECO2_2': '310276.5', 'GUS': '148860', 'GUS1': '149032', 'GUS2': '154004', 'GCO2_1': '-2658', 'GCO2_2': '-5316', 'WUS': '51929', 'WUS1': '49297', 'WUS2': '48109', 'WCO2_1': '3226', 'WCO2_2': '9678', 'HUS': '0', 'HUS1': '0', 'HUS2': '0', 'HCO2_1': '0', 'HCO2_2': '0', 'REG_DATE': '2024-09-01 04:02:26.0'}, {'YEAR': '2024', 'MON': '06', 'MM_TYPE': '개인', 'CNT': '1236551', 'EUS': '270158916', 'EUS1': '267811327', 'EUS2': '267991855', 'ECO2_1': '2257325', 'ECO2_2': '913781.96', 'GUS': '11903071', 'GUS1': '12129096', 'GUS2': '12794187', 'GCO2_1': '-550640.5', 'GCO2_2': '-1101281', 'WUS': '14966075.6', 'WUS1': '15181053.9', 'WUS2': '15749365.168', 'WCO2_1': '-499133.934', 'WCO2_2': '-929815.484', 'HUS': '20226852.923', 'HUS1': '20211074.693', 'HUS2': '20215166.143', 'HCO2_1': '13732.505', 'HCO2_2': '64700.41145112', 'REG_DATE': '2024-09-01 04:02:26.0'}, {'YEAR': '2024', 'MON': '06', 'MM_TYPE': '학교', 'CNT': '6724', 'EUS': '114355075', 'EUS1': '114239694', 'EUS2': '109051191', 'ECO2_1': '2709632.5', 'ECO2_2': '2701526.452', 'GUS': '2104732', 'GUS1': '2137178', 'GUS2': '2078581', 'GCO2_1': '-3091.5', 'GCO2_2': '-6183', 'WUS': '1913794.4', 'WUS1': '1955006.2', 'WUS2': '2000046.4', 'WCO2_1': '-63731.9', 'WCO2_2': '-191454.496', 'HUS': '11', 'HUS1': '14', 'HUS2': '14', 'HCO2_1': '-3', 'HCO2_2': '-11.946', 'REG_DATE': '2024-09-01 04:02:26.0'}, {'YEAR': '2024', 'MON': '06', 'MM_TYPE': '소상공인', 'CNT': '51387', 'EUS': '95431157', 'EUS1': '96058118', 'EUS2': '95459043', 'ECO2_1': '-327423.5', 'ECO2_2': '-336847.436', 'GUS': '1691959', 'GUS1': '1752923', 'GUS2': '1794364', 'GCO2_1': '-79336.5', 'GCO2_2': '-158673', 'WUS': '1541655', 'WUS1': '1577506', 'WUS2': '1558772', 'WCO2_1': '-26484', 'WCO2_2': '-79435.992', 'HUS': '0', 'HUS1': '0', 'HUS2': '0', 'HCO2_1': '0', 'HCO2_2': '0', 'REG_DATE': '2024-09-01 04:02:26.0'}, {'YEAR': '2024', 'MON': '06', 'MM_TYPE': '공동주택관리소', 'CNT': '3699', 'EUS': '487768952', 'EUS1': '483280153', 'EUS2': '481631886', 'ECO2_1': '5312932.5', 'ECO2_2': '5312932.5', 'GUS': '2573577', 'GUS1': '2586343', 'GUS2': '2643739', 'GCO2_1': '-41136', 'GCO2_2': '-82272', 'WUS': '20303728.2', 'WUS1': '20514052.2', 'WUS2': '21174978.7', 'WCO2_1': '-540787.25', 'WCO2_2': '-1622361.75', 'HUS': '0', 'HUS1': '0', 'HUS2': '0', 'HCO2_1': '0', 'HCO2_2': '0', 'REG_DATE': '2024-09-01 04:02:26.0'}, {'YEAR': '2024', 'MON': '06', 'MM_TYPE': '기업', 'CNT': '19420', 'EUS': '626503738', 'EUS1': '629911833', 'EUS2': '626495301', 'ECO2_1': '-1699829', 'ECO2_2': '-1699829', 'GUS': '20172321', 'GUS1': '18743455', 'GUS2': '19864382', 'GCO2_1': '868599', 'GCO2_2': '1737198', 'WUS': '4611704.2', 'WUS1': '4675890.6', 'WUS2': '4613547.8', 'WCO2_1': '-33015', 'WCO2_2': '-99045', 'HUS': '0', 'HUS1': '0', 'HUS2': '0', 'HCO2_1': '0', 'HCO2_2': '0', 'REG_DATE': '2024-09-01 04:02:26.0'}, {'YEAR': '2024', 'MON': '05', 'MM_TYPE': '개인', 'CNT': '1232740', 'EUS': '244740675', 'EUS1': '249532968', 'EUS2': '251389638', 'ECO2_1': '-5720628', 'ECO2_2': '-4115203.68', 'GUS': '18077028', 'GUS1': '22931318', 'GUS2': '22963069', 'GCO2_1': '-4848853.5', 'GCO2_2': '-9697707', 'WUS': '14158142.9', 'WUS1': '14293198', 'WUS2': '14866217.7', 'WCO2_1': '-421564.95', 'WCO2_2': '-615124.894', 'HUS': '28333197.76', 'HUS1': '14822236.03', 'HUS2': '14877484.808', 'HCO2_1': '13483337.341', 'HCO2_2': '54046716.75911168', 'REG_DATE': '2024-08-01 04:02:26.0'}, {'YEAR': '2024', 'MON': '05', 'MM_TYPE': '기업', 'CNT': '19414', 'EUS': '562096080', 'EUS1': '571349063', 'EUS2': '569345202', 'ECO2_1': '-8251052.5', 'ECO2_2': '-8251052.5', 'GUS': '21109303', 'GUS1': '22845869', 'GUS2': '21376046', 'GCO2_1': '-998705.5', 'GCO2_2': '-1997411', 'WUS': '4243225.7', 'WUS1': '4100690.6', 'WUS2': '3862609.4', 'WCO2_1': '261575.7', 'WCO2_2': '784727.1', 'HUS': '0', 'HUS1': '0', 'HUS2': '0', 'HCO2_1': '0', 'HCO2_2': '0', 'REG_DATE': '2024-08-01 04:02:26.0'}, {'YEAR': '2024', 'MON': '05', 'MM_TYPE': '학교', 'CNT': '6728', 'EUS': '96546319', 'EUS1': '98617455', 'EUS2': '94267523', 'ECO2_1': '103830', 'ECO2_2': '100643.856', 'GUS': '1848380', 'GUS1': '2044844', 'GUS2': '2153316', 'GCO2_1': '-250547.5', 'GCO2_2': '-501095', 'WUS': '1855871.6', 'WUS1': '1902084.2', 'WUS2': '1763351', 'WCO2_1': '23154', 'WCO2_2': '69105.822', 'HUS': '89765.87', 'HUS1': '894.87', 'HUS2': '906.78', 'HCO2_1': '88865.045', 'HCO2_2': '354136.905412', 'REG_DATE': '2024-08-01 04:02:26.0'}, {'YEAR': '2024', 'MON': '05', 'MM_TYPE': '공동주택관리소', 'CNT': '3696', 'EUS': '444292686', 'EUS1': '451943540', 'EUS2': '453653268', 'ECO2_1': '-8505718', 'ECO2_2': '-8505718', 'GUS': '3559085', 'GUS1': '4259206', 'GUS2': '4505144', 'GCO2_1': '-822935.5', 'GCO2_2': '-1645871', 'WUS': '19930650', 'WUS1': '19717922.6', 'WUS2': '20734574.1', 'WCO2_1': '-295598.35', 'WCO2_2': '-886795.05', 'HUS': '0', 'HUS1': '0', 'HUS2': '0', 'HCO2_1': '0', 'HCO2_2': '0', 'REG_DATE': '2024-08-01 04:02:26.0'}, {'YEAR': '2024', 'MON': '05', 'MM_TYPE': '소상공인', 'CNT': '51288', 'EUS': '81221590', 'EUS1': '81399999', 'EUS2': '82369506', 'ECO2_1': '-663162.5', 'ECO2_2': '-666002.468', 'GUS': '1774058', 'GUS1': '1966529', 'GUS2': '1909671', 'GCO2_1': '-161137', 'GCO2_2': '-322274', 'WUS': '1370263.2', 'WUS1': '1364799.2', 'WUS2': '1305766.2', 'WCO2_1': '34980.5', 'WCO2_2': '104876.134', 'HUS': '25', 'HUS1': '37', 'HUS2': '119', 'HCO2_1': '-53', 'HCO2_2': '-201.09178', 'REG_DATE': '2024-08-01 04:02:26.0'}, {'YEAR': '2024', 'MON': '05', 'MM_TYPE': '종교단체', 'CNT': '843', 'EUS': '5276716', 'EUS1': '5397024', 'EUS2': '5036896', 'ECO2_1': '59756', 'ECO2_2': '59756', 'GUS': '150375', 'GUS1': '161178', 'GUS2': '180237', 'GCO2_1': '-20332.5', 'GCO2_2': '-40665', 'WUS': '40912', 'WUS1': '41688', 'WUS2': '32262', 'WCO2_1': '3937', 'WCO2_2': '11811', 'HUS': '0', 'HUS1': '0', 'HUS2': '0', 'HCO2_1': '0', 'HCO2_2': '0', 'REG_DATE': '2024-08-01 04:02:26.0'}, {'YEAR': '2024', 'MON': '05', 'MM_TYPE': '공공기관', 'CNT': '2369', 'EUS': '130352500', 'EUS1': '132965834', 'EUS2': '130446263', 'ECO2_1': '-1353548.5', 'ECO2_2': '-1353548.5', 'GUS': '2035767', 'GUS1': '2166378', 'GUS2': '2177132', 'GCO2_1': '-136090.5', 'GCO2_2': '-272181', 'WUS': '1145043', 'WUS1': '1140753.2', 'WUS2': '1022415.6', 'WCO2_1': '63458.6', 'WCO2_2': '190375.8', 'HUS': '0', 'HUS1': '0', 'HUS2': '0', 'HCO2_1': '0', 'HCO2_2': '0', 'REG_DATE': '2024-08-01 04:02:26.0'}, {'YEAR': '2024', 'MON': '04', 'MM_TYPE': '개인', 'CNT': '1231383', 'EUS': '256332884', 'EUS1': '255770184', 'EUS2': '268660296', 'ECO2_1': '-5882356', 'ECO2_2': '-4232674.72', 'GUS': '35786315', 'GUS1': '31856450', 'GUS2': '41187566', 'GCO2_1': '-723556.5', 'GCO2_2': '-1447113', 'WUS': '14330249.1', 'WUS1': '14256340.4', 'WUS2': '14928586.9', 'WCO2_1': '-262214.55', 'WCO2_2': '-331887.052', 'HUS': '3099650.225', 'HUS1': '4297134.144', 'HUS2': '5021032.768', 'HCO2_1': '-1559433.231', 'HCO2_2': '-2898800.3299898', 'REG_DATE': '2024-07-01 04:02:30.0'}, {'YEAR': '2024', 'MON': '04', 'MM_TYPE': '소상공인', 'CNT': '51163', 'EUS': '83049204', 'EUS1': '81666132', 'EUS2': '83962846', 'ECO2_1': '234715', 'ECO2_2': '230514.52', 'GUS': '2315748', 'GUS1': '2199302', 'GUS2': '2258424', 'GCO2_1': '89358.5', 'GCO2_2': '178717', 'WUS': '1444790.1', 'WUS1': '1447069.2', 'WUS2': '1309109', 'WCO2_1': '66701', 'WCO2_2': '199896.23', 'HUS': '244', 'HUS1': '238', 'HUS2': '474', 'HCO2_1': '-112', 'HCO2_2': '-555.48042', 'REG_DATE': '2024-07-01 04:02:30.0'}]}}\n"
          ]
        }
      ]
    },
    {
      "cell_type": "markdown",
      "source": [
        "## 데이터 프레임 생성"
      ],
      "metadata": {
        "id": "d6mT4IxkySzI"
      }
    },
    {
      "cell_type": "code",
      "source": [
        "import pandas as pd\n",
        "\n",
        "## requests로부터 response, body, item 항목 읽기 (수업)\n",
        "#energyUseDataSummaryInfo안에 row안에 데이터 읽기(내가한거)\n",
        "print(type(data))\n",
        "data = response.json()['energyUseDataSummaryInfo']['row']\n",
        "print(len(data))\n",
        "print(data[0])\n",
        "\n",
        "df = pd.DataFrame(data) #데이터를 프레임화 시키기\n",
        "df #표 형식으로 출력\n",
        "df['HUS'] #특정컬럼값 출력"
      ],
      "metadata": {
        "id": "HOOo9qTsXLkB",
        "colab": {
          "base_uri": "https://localhost:8080/",
          "height": 530
        },
        "outputId": "297e79fa-0844-4ae1-81a5-951330a1f04b"
      },
      "execution_count": 53,
      "outputs": [
        {
          "output_type": "stream",
          "name": "stdout",
          "text": [
            "<class 'list'>\n",
            "100\n",
            "{'YEAR': '2025', 'MON': '06', 'MM_TYPE': '개인', 'CNT': '1269454', 'EUS': '278745288', 'EUS1': '275851011', 'EUS2': '273151435', 'ECO2_1': '4244065', 'ECO2_2': '2076623.656', 'GUS': '13084768', 'GUS1': '11889039', 'GUS2': '12094650', 'GCO2_1': '1091102', 'GCO2_2': '2182204', 'WUS': '14927683.6', 'WUS1': '15166284.8', 'WUS2': '15371662.2', 'WCO2_1': '-341289.9', 'WCO2_2': '-611822.446', 'HUS': '379182.22', 'HUS1': '368839.049', 'HUS2': '389847.167', 'HCO2_1': '-160.888', 'HCO2_2': '-22448.67848156', 'REG_DATE': '2025-09-01 04:02:15.0'}\n"
          ]
        },
        {
          "output_type": "execute_result",
          "data": {
            "text/plain": [
              "0       379182.22\n",
              "1            8.03\n",
              "2               0\n",
              "3               0\n",
              "4               2\n",
              "         ...     \n",
              "95             25\n",
              "96              0\n",
              "97              0\n",
              "98    3099650.225\n",
              "99            244\n",
              "Name: HUS, Length: 100, dtype: object"
            ],
            "text/html": [
              "<div>\n",
              "<style scoped>\n",
              "    .dataframe tbody tr th:only-of-type {\n",
              "        vertical-align: middle;\n",
              "    }\n",
              "\n",
              "    .dataframe tbody tr th {\n",
              "        vertical-align: top;\n",
              "    }\n",
              "\n",
              "    .dataframe thead th {\n",
              "        text-align: right;\n",
              "    }\n",
              "</style>\n",
              "<table border=\"1\" class=\"dataframe\">\n",
              "  <thead>\n",
              "    <tr style=\"text-align: right;\">\n",
              "      <th></th>\n",
              "      <th>HUS</th>\n",
              "    </tr>\n",
              "  </thead>\n",
              "  <tbody>\n",
              "    <tr>\n",
              "      <th>0</th>\n",
              "      <td>379182.22</td>\n",
              "    </tr>\n",
              "    <tr>\n",
              "      <th>1</th>\n",
              "      <td>8.03</td>\n",
              "    </tr>\n",
              "    <tr>\n",
              "      <th>2</th>\n",
              "      <td>0</td>\n",
              "    </tr>\n",
              "    <tr>\n",
              "      <th>3</th>\n",
              "      <td>0</td>\n",
              "    </tr>\n",
              "    <tr>\n",
              "      <th>4</th>\n",
              "      <td>2</td>\n",
              "    </tr>\n",
              "    <tr>\n",
              "      <th>...</th>\n",
              "      <td>...</td>\n",
              "    </tr>\n",
              "    <tr>\n",
              "      <th>95</th>\n",
              "      <td>25</td>\n",
              "    </tr>\n",
              "    <tr>\n",
              "      <th>96</th>\n",
              "      <td>0</td>\n",
              "    </tr>\n",
              "    <tr>\n",
              "      <th>97</th>\n",
              "      <td>0</td>\n",
              "    </tr>\n",
              "    <tr>\n",
              "      <th>98</th>\n",
              "      <td>3099650.225</td>\n",
              "    </tr>\n",
              "    <tr>\n",
              "      <th>99</th>\n",
              "      <td>244</td>\n",
              "    </tr>\n",
              "  </tbody>\n",
              "</table>\n",
              "<p>100 rows × 1 columns</p>\n",
              "</div><br><label><b>dtype:</b> object</label>"
            ]
          },
          "metadata": {},
          "execution_count": 53
        }
      ]
    },
    {
      "cell_type": "markdown",
      "source": [
        "## 다양항 형식으로 데이터 저장\n"
      ],
      "metadata": {
        "id": "vVG0HYb0ymeM"
      }
    },
    {
      "cell_type": "code",
      "source": [
        "## CSV 형식 데이터 저장\n",
        "df.to_csv('air_pollution.csv', index=False, encoding='utf-8')\n",
        "\n",
        "## JSON 형식 데이터 저장\n",
        "df.to_json('air_pollution.json', indent=4, force_ascii=False)\n",
        "\n",
        "## EXCEL 형식 데이터 저장\n",
        "df.to_excel('air_pollution.xlsx', index=False)\n",
        "\n",
        "## HTML 형식 데이터 저장\n",
        "df.to_html('air_pollution.html')"
      ],
      "metadata": {
        "id": "HW1ZodpgXNhG"
      },
      "execution_count": 56,
      "outputs": []
    }
  ]
}